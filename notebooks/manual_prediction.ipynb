{
 "metadata": {
  "language_info": {
   "codemirror_mode": {
    "name": "ipython",
    "version": 3
   },
   "file_extension": ".py",
   "mimetype": "text/x-python",
   "name": "python",
   "nbconvert_exporter": "python",
   "pygments_lexer": "ipython3",
   "version": "3.6.9-final"
  },
  "orig_nbformat": 2,
  "kernelspec": {
   "name": "python36964bitsurfridercondaa4d29431e9f947419d6d850056118d13",
   "display_name": "Python 3.6.9 64-bit ('surfrider': conda)",
   "language": "python"
  }
 },
 "nbformat": 4,
 "nbformat_minor": 2,
 "cells": [
  {
   "cell_type": "code",
   "execution_count": 1,
   "metadata": {},
   "outputs": [],
   "source": [
    "import json\n",
    "import logging\n",
    "import pandas as pd\n",
    "import requests"
   ]
  },
  {
   "cell_type": "code",
   "execution_count": null,
   "metadata": {},
   "outputs": [],
   "source": [
    "def get_manual_prediction():\n",
    "    "
   ]
  },
  {
   "cell_type": "code",
   "execution_count": 2,
   "metadata": {},
   "outputs": [],
   "source": [
    "def get_json_name(file_name:str)->str:\n",
    "    \"\"\"Get json file name associated with a video\n",
    "\n",
    "    Arguments:\n",
    "        file_name {str} -- a video name for which json file name to be created\n",
    "\n",
    "    Returns:\n",
    "        json_file_name -- the name of the json file associated with a video\n",
    "    \"\"\"\n",
    "    file_prefix = os.path.splitext(file_name)[0]\n",
    "    json_file_name = file_prefix + '.json'\n",
    "    return json_file_name"
   ]
  },
  {
   "cell_type": "code",
   "execution_count": 3,
   "metadata": {},
   "outputs": [],
   "source": [
    "DOWNLOAD_PATH = '/tmp'\n",
    "blob_name = 'manual.json'\n",
    "blob_json_name = get_json_name(blob_name)"
   ]
  },
  {
   "cell_type": "code",
   "execution_count": 8,
   "metadata": {},
   "outputs": [],
   "source": [
    "with open(os.path.join(DOWNLOAD_PATH,blob_json_name)) as json_file:\n",
    "                json_data = json.load(json_file)"
   ]
  },
  {
   "cell_type": "code",
   "execution_count": 14,
   "metadata": {},
   "outputs": [],
   "source": [
    "def map_json_label_to_trash_id_PG(label:str)->str:\n",
    "    \"\"\"Map label of a trash to equivalent ID within PostGre server\n",
    "\n",
    "    Arguments:\n",
    "        label {str} -- the label of the trash\n",
    "\n",
    "    Returns:\n",
    "        id_PG -- the equivalent id within PG Trash table of trash label\n",
    "    \"\"\"\n",
    "    switcher = { \n",
    "        \"unknown\":\"1\", #\"autre dechet\" in PG Data Model mapped to IA \"others\" label\n",
    "        \"agriculturalFoodWaste\":\"2\",\n",
    "        \"bottles\":\"3\", #\"bouteille boisson\" in PG Data Model mapped to IA \"bottles\" label\n",
    "        \"industrials\":\"1\",#\"industriel ou construction in PG Data Model mapped to IA \"fragments\" label\n",
    "        \"fishHunting\":\"2\",\n",
    "        \"foodPackage\":\"2\",\n",
    "        \"householdItems\":\"2\",\n",
    "        \"unknown10\":\"1\"\n",
    "    }\n",
    "    id_PG =  switcher.get(label, \"0\")\n",
    "    return id_PG"
   ]
  },
  {
   "cell_type": "code",
   "execution_count": 15,
   "metadata": {},
   "outputs": [],
   "source": [
    "def get_df_json_manual_trash(json_data:dict)->pd.DataFrame:\n",
    "    \"\"\"Get trash DataFrame from a JSON file where Trash have been manually collected\n",
    "\n",
    "\n",
    "    Args:\n",
    "        json_data (dict): the json data from the Plastic Origin Mobile app\n",
    "\n",
    "    Returns:\n",
    "        pd.DataFrame: the gps info as a DataFrame associated with manually collected trash\n",
    "    \"\"\"\n",
    "    trash_list = []\n",
    "    i = 0\n",
    "    for trash in json_data['trashes']:\n",
    "        trash_type_id = map_json_label_to_trash_id_PG(trash['name'])\n",
    "        trash = {'id':i,'label':trash['name'],'trash_type_id':trash_type_id}\n",
    "        trash_list.append(trash)\n",
    "        i = i+1\n",
    "        df_manual_trash = pd.DataFrame(trash_list)\n",
    "    return df_manual_trash"
   ]
  },
  {
   "cell_type": "code",
   "execution_count": 16,
   "metadata": {},
   "outputs": [],
   "source": [
    "manual_trash = get_df_json_manual_trash(json_data)"
   ]
  },
  {
   "cell_type": "code",
   "execution_count": 17,
   "metadata": {},
   "outputs": [
    {
     "output_type": "execute_result",
     "data": {
      "text/plain": [
       "    id                  label trash_type_id\n",
       "0    0                unknown             1\n",
       "1    1                unknown             1\n",
       "2    2                unknown             1\n",
       "3    3                unknown             1\n",
       "4    4  agriculturalFoodWaste             2\n",
       "5    5                unknown             1\n",
       "6    6                unknown             1\n",
       "7    7            foodPackage             2\n",
       "8    8                unknown             1\n",
       "9    9                unknown             1\n",
       "10  10                unknown             1\n",
       "11  11              unknown10             1\n",
       "12  12                unknown             1\n",
       "13  13                unknown             1\n",
       "14  14                unknown             1\n",
       "15  15                unknown             1\n",
       "16  16                unknown             1\n",
       "17  17                unknown             1\n",
       "18  18                unknown             1\n",
       "19  19                unknown             1\n",
       "20  20                unknown             1\n",
       "21  21                unknown             1\n",
       "22  22            industrials             1\n",
       "23  23              unknown10             1\n",
       "24  24                unknown             1\n",
       "25  25                unknown             1\n",
       "26  26                unknown             1\n",
       "27  27            fishHunting             2\n",
       "28  28                unknown             1\n",
       "29  29                unknown             1"
      ],
      "text/html": "<div>\n<style scoped>\n    .dataframe tbody tr th:only-of-type {\n        vertical-align: middle;\n    }\n\n    .dataframe tbody tr th {\n        vertical-align: top;\n    }\n\n    .dataframe thead th {\n        text-align: right;\n    }\n</style>\n<table border=\"1\" class=\"dataframe\">\n  <thead>\n    <tr style=\"text-align: right;\">\n      <th></th>\n      <th>id</th>\n      <th>label</th>\n      <th>trash_type_id</th>\n    </tr>\n  </thead>\n  <tbody>\n    <tr>\n      <th>0</th>\n      <td>0</td>\n      <td>unknown</td>\n      <td>1</td>\n    </tr>\n    <tr>\n      <th>1</th>\n      <td>1</td>\n      <td>unknown</td>\n      <td>1</td>\n    </tr>\n    <tr>\n      <th>2</th>\n      <td>2</td>\n      <td>unknown</td>\n      <td>1</td>\n    </tr>\n    <tr>\n      <th>3</th>\n      <td>3</td>\n      <td>unknown</td>\n      <td>1</td>\n    </tr>\n    <tr>\n      <th>4</th>\n      <td>4</td>\n      <td>agriculturalFoodWaste</td>\n      <td>2</td>\n    </tr>\n    <tr>\n      <th>5</th>\n      <td>5</td>\n      <td>unknown</td>\n      <td>1</td>\n    </tr>\n    <tr>\n      <th>6</th>\n      <td>6</td>\n      <td>unknown</td>\n      <td>1</td>\n    </tr>\n    <tr>\n      <th>7</th>\n      <td>7</td>\n      <td>foodPackage</td>\n      <td>2</td>\n    </tr>\n    <tr>\n      <th>8</th>\n      <td>8</td>\n      <td>unknown</td>\n      <td>1</td>\n    </tr>\n    <tr>\n      <th>9</th>\n      <td>9</td>\n      <td>unknown</td>\n      <td>1</td>\n    </tr>\n    <tr>\n      <th>10</th>\n      <td>10</td>\n      <td>unknown</td>\n      <td>1</td>\n    </tr>\n    <tr>\n      <th>11</th>\n      <td>11</td>\n      <td>unknown10</td>\n      <td>1</td>\n    </tr>\n    <tr>\n      <th>12</th>\n      <td>12</td>\n      <td>unknown</td>\n      <td>1</td>\n    </tr>\n    <tr>\n      <th>13</th>\n      <td>13</td>\n      <td>unknown</td>\n      <td>1</td>\n    </tr>\n    <tr>\n      <th>14</th>\n      <td>14</td>\n      <td>unknown</td>\n      <td>1</td>\n    </tr>\n    <tr>\n      <th>15</th>\n      <td>15</td>\n      <td>unknown</td>\n      <td>1</td>\n    </tr>\n    <tr>\n      <th>16</th>\n      <td>16</td>\n      <td>unknown</td>\n      <td>1</td>\n    </tr>\n    <tr>\n      <th>17</th>\n      <td>17</td>\n      <td>unknown</td>\n      <td>1</td>\n    </tr>\n    <tr>\n      <th>18</th>\n      <td>18</td>\n      <td>unknown</td>\n      <td>1</td>\n    </tr>\n    <tr>\n      <th>19</th>\n      <td>19</td>\n      <td>unknown</td>\n      <td>1</td>\n    </tr>\n    <tr>\n      <th>20</th>\n      <td>20</td>\n      <td>unknown</td>\n      <td>1</td>\n    </tr>\n    <tr>\n      <th>21</th>\n      <td>21</td>\n      <td>unknown</td>\n      <td>1</td>\n    </tr>\n    <tr>\n      <th>22</th>\n      <td>22</td>\n      <td>industrials</td>\n      <td>1</td>\n    </tr>\n    <tr>\n      <th>23</th>\n      <td>23</td>\n      <td>unknown10</td>\n      <td>1</td>\n    </tr>\n    <tr>\n      <th>24</th>\n      <td>24</td>\n      <td>unknown</td>\n      <td>1</td>\n    </tr>\n    <tr>\n      <th>25</th>\n      <td>25</td>\n      <td>unknown</td>\n      <td>1</td>\n    </tr>\n    <tr>\n      <th>26</th>\n      <td>26</td>\n      <td>unknown</td>\n      <td>1</td>\n    </tr>\n    <tr>\n      <th>27</th>\n      <td>27</td>\n      <td>fishHunting</td>\n      <td>2</td>\n    </tr>\n    <tr>\n      <th>28</th>\n      <td>28</td>\n      <td>unknown</td>\n      <td>1</td>\n    </tr>\n    <tr>\n      <th>29</th>\n      <td>29</td>\n      <td>unknown</td>\n      <td>1</td>\n    </tr>\n  </tbody>\n</table>\n</div>"
     },
     "metadata": {},
     "execution_count": 17
    }
   ],
   "source": [
    "manual_trash"
   ]
  },
  {
   "cell_type": "code",
   "execution_count": null,
   "metadata": {},
   "outputs": [],
   "source": []
  }
 ]
}