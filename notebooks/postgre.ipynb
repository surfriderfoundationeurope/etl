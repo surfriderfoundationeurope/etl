{
 "nbformat": 4,
 "nbformat_minor": 2,
 "metadata": {
  "language_info": {
   "name": "python",
   "codemirror_mode": {
    "name": "ipython",
    "version": 3
   },
   "version": "3.6.9-final"
  },
  "orig_nbformat": 2,
  "file_extension": ".py",
  "mimetype": "text/x-python",
  "name": "python",
  "npconvert_exporter": "python",
  "pygments_lexer": "ipython3",
  "version": 3,
  "kernelspec": {
   "name": "python36964bitsurfridercondaa4d29431e9f947419d6d850056118d13",
   "display_name": "Python 3.6.9 64-bit ('surfrider': conda)"
  }
 },
 "cells": [
  {
   "cell_type": "code",
   "execution_count": null,
   "metadata": {},
   "outputs": [],
   "source": [
    "import os\n",
    "import psycopg2\n",
    "import logging\n",
    "import pandas as pd\n",
    "from utils.exceptions import ETLError\n",
    "from utils.postgre import get_pg_connection_string, open_pg_connection, close_pg_connection\n",
    "from utils.ai import get_clean_timed_prediction\n",
    "logger = logging.getLogger()"
   ]
  },
  {
   "cell_type": "code",
   "execution_count": null,
   "metadata": {},
   "outputs": [],
   "source": [
    "import os\n",
    "pgserver = os.getenv(\"PGSERVER\")\n",
    "pgdatabase = os.getenv(\"PGDATABASE\")\n",
    "pgusername = os.getenv(\"PGUSERNAME\")\n",
    "pgpassword = os.getenv(\"PGPWD\")"
   ]
  },
  {
   "cell_type": "code",
   "execution_count": 57,
   "metadata": {},
   "outputs": [],
   "source": [
    "pg_conn_string = get_pg_connection_string()"
   ]
  },
  {
   "cell_type": "code",
   "execution_count": null,
   "metadata": {},
   "outputs": [],
   "source": [
    "def insert_trash_df(trash_data:pd.Series,cursor:object,connection:object):\n",
    "    \"\"\"Insert trash dataframe within PostGre DB\n",
    "\n",
    "    Arguments:\n",
    "        trash_data {pd.Series} -- the pd.Series row of a trash dataframe data\n",
    "        cursor {object} -- the postgre cursor object created from connection\n",
    "        connection {object} -- the postgre connection object\n",
    "\n",
    "    Returns:\n",
    "        row_id -- the new id of the row created for the trash within Trash table\n",
    "    \"\"\"\n",
    "    campaign_id = trash_data['campaign_id']\n",
    "    point = trash_data['the_geom'].wkt\n",
    "    elevation = trash_data['Elevation']\n",
    "    trash_type_id = int(trash_data['trash_type_id']) #int() casting to address single pd.Series insert use case\n",
    "    timestamp = trash_data['Time']\n",
    "    precision = 99\n",
    "    cursor.execute(\"INSERT INTO campaign.trash (id, id_ref_campaign_fk,the_geom, elevation, id_ref_trash_type_fk,time,precision ) VALUES (DEFAULT,%s,ST_SetSRID(%s::geometry,2154),%s,%s,%s,%s) RETURNING id;\", (campaign_id,point,elevation,trash_type_id,timestamp,precision))\n",
    "    connection.commit()\n",
    "    row_id = cursor.fetchone()[0]\n",
    "    return row_id\n",
    "\n",
    "\n",
    "def insert_logs_etl_df(log_data:pd.Series,cursor:object,connection:object):\n",
    "    \"\"\"Insert logs of ETL operation within logs.etl table\n",
    "\n",
    "    Args:\n",
    "        log_data (pd.Series): the input log data\n",
    "        cursor {object} -- the postgre cursor object created from connection\n",
    "        connection {object} -- the postgre connection object\n",
    "\n",
    "    Returns:\n",
    "        row_id -- the new id of the row created for the trash within Trash table\n",
    "    \"\"\"\n",
    "    campaign_id = log_data['campaign_id']\n",
    "    media_id = log_data['media_id']\n",
    "    media_name = log_data['campaign_id']\n",
    "    status = log_data['status']\n",
    "    cursor.execute(\"INSERT INTO logs.etl (id, campaign_id,media_id,media_name,status ) VALUES (DEFAULT,%s,%s,%s,%s) RETURNING id;\", (id,campaign_id,media_id,media_name,status))\n",
    "    connection.commit()\n",
    "    row_id = cursor.fetchone()[0]\n",
    "    return row_id"
   ]
  },
  {
   "cell_type": "code",
   "execution_count": 53,
   "metadata": {},
   "outputs": [],
   "source": [
    "campaign_id = 'b843c94c-256c-4a4c-877e-2e928f448d67'\n",
    "media_id = '639990fc-1173-498b-96d5-7b46ec7485d3'\n",
    "media_name = 'gopro.mp4'\n",
    "status = 'failed'"
   ]
  },
  {
   "cell_type": "code",
   "execution_count": 24,
   "metadata": {},
   "outputs": [
    {
     "data": {
      "text/plain": "[{'campaign_id': '0', 'media_id': '0', 'media_name': '0', 'status': '0'},\n {'campaign_id': '0', 'media_id': '0', 'media_name': '0', 'status': '0'}]"
     },
     "execution_count": 24,
     "metadata": {},
     "output_type": "execute_result"
    }
   ],
   "source": [
    "log_dico_1 = {'campaign_id':'0','media_id':'0','media_name':'0','status':'0'}\n",
    "log_dico_2 = {'campaign_id':'0','media_id':'0','media_name':'0','status':'0'}\n",
    "log_list = []\n",
    "log_list.append(log_dico_1)\n",
    "log_list.append(log_dico_2)\n",
    "log_list"
   ]
  },
  {
   "cell_type": "code",
   "execution_count": 34,
   "metadata": {},
   "outputs": [
    {
     "data": {
      "text/html": "<div>\n<style scoped>\n    .dataframe tbody tr th:only-of-type {\n        vertical-align: middle;\n    }\n\n    .dataframe tbody tr th {\n        vertical-align: top;\n    }\n\n    .dataframe thead th {\n        text-align: right;\n    }\n</style>\n<table border=\"1\" class=\"dataframe\">\n  <thead>\n    <tr style=\"text-align: right;\">\n      <th></th>\n      <th>campaign_id</th>\n      <th>media_id</th>\n      <th>media_name</th>\n      <th>status</th>\n    </tr>\n  </thead>\n  <tbody>\n    <tr>\n      <th>0</th>\n      <td>b843c94c-256c-4a4c-877e-2e928f448d67</td>\n      <td>639990fc-1173-498b-96d5-7b46ec7485d3</td>\n      <td>gopro.mp4</td>\n      <td>failed</td>\n    </tr>\n  </tbody>\n</table>\n</div>",
      "text/plain": "                            campaign_id                              media_id  \\\n0  b843c94c-256c-4a4c-877e-2e928f448d67  639990fc-1173-498b-96d5-7b46ec7485d3   \n\n  media_name  status  \n0  gopro.mp4  failed  "
     },
     "execution_count": 34,
     "metadata": {},
     "output_type": "execute_result"
    }
   ],
   "source": [
    "columns = ['campaign_id','media_id','media_name','status']\n",
    "log_list_1 = [[campaign_id,media_id,media_name,status]]\n",
    "pd.DataFrame(log_list_1,columns=columns)"
   ]
  },
  {
   "cell_type": "code",
   "execution_count": 87,
   "metadata": {},
   "outputs": [],
   "source": [
    "def get_log_df(campaign_id:str,media_id:str,media_name:str,status:str='failed'):\n",
    "    cols = ['campaign_id','media_id','media_name','status']\n",
    "    log_data = [[campaign_id,media_id,media_name,status]]\n",
    "    log_df = pd.DataFrame(log_data,columns=cols)\n",
    "    return log_df"
   ]
  },
  {
   "cell_type": "code",
   "execution_count": 88,
   "metadata": {},
   "outputs": [],
   "source": [
    "log_df = get_log_df(campaign_id,media_id,media_name)"
   ]
  },
  {
   "cell_type": "code",
   "execution_count": 98,
   "metadata": {},
   "outputs": [],
   "source": [
    "def insert_log_etl_df(log_data:pd.Series,cursor:object,connection:object):\n",
    "    \"\"\"Insert logs of ETL operation within logs.etl table\n",
    "\n",
    "    Args:\n",
    "        log_data (pd.Series): the input log data\n",
    "        cursor {object} -- the postgre cursor object created from connection\n",
    "        connection {object} -- the postgre connection object\n",
    "\n",
    "    Returns:\n",
    "        row_id -- the new id of the row created for the trash within Trash table\n",
    "    \"\"\"\n",
    "    campaign_id = log_data['campaign_id']\n",
    "    media_id = log_data['media_id']\n",
    "    media_name = log_data['media_name']\n",
    "    status = log_data['status']\n",
    "    cursor.execute(\"INSERT INTO logs.etl (id, campaign_id,media_id,media_name,initiated_on,finished_on,status ) VALUES (gen_random_uuid (),%s,%s,%s,now(),now(),%s) RETURNING id;\",(campaign_id,media_id,media_name,status))\n",
    "    connection.commit()\n",
    "    row_id = cursor.fetchone()[0]\n",
    "    return row_id"
   ]
  },
  {
   "cell_type": "code",
   "execution_count": 99,
   "metadata": {},
   "outputs": [
    {
     "data": {
      "text/plain": "campaign_id    b843c94c-256c-4a4c-877e-2e928f448d67\nmedia_id       639990fc-1173-498b-96d5-7b46ec7485d3\nmedia_name                                gopro.mp4\nstatus                                       failed\nName: 0, dtype: object"
     },
     "execution_count": 99,
     "metadata": {},
     "output_type": "execute_result"
    }
   ],
   "source": [
    "log_df.iloc[0]"
   ]
  },
  {
   "cell_type": "code",
   "execution_count": 127,
   "metadata": {},
   "outputs": [],
   "source": [
    "pg_conn_string = get_pg_connection_string()\n",
    "pg_connection = open_pg_connection(pg_conn_string)\n",
    "pg_cursor = pg_connection.cursor()"
   ]
  },
  {
   "cell_type": "code",
   "execution_count": 101,
   "metadata": {},
   "outputs": [],
   "source": [
    "row_id = insert_log_etl_df(log_df.iloc[0],pg_cursor,pg_connection)"
   ]
  },
  {
   "cell_type": "code",
   "execution_count": 102,
   "metadata": {},
   "outputs": [
    {
     "data": {
      "text/plain": "'b06e92fa-129f-44d2-9828-3745ec19faf4'"
     },
     "execution_count": 102,
     "metadata": {},
     "output_type": "execute_result"
    }
   ],
   "source": [
    "row_id"
   ]
  },
  {
   "cell_type": "code",
   "execution_count": 96,
   "metadata": {},
   "outputs": [],
   "source": [
    "def update_log_etl(row_id:str,cursor:object,connection:object):\n",
    "    cursor.execute(\"UPDATE logs.etl SET status = 'success' WHERE id = %s RETURNING id;\",(row_id,))\n",
    "    connection.commit()\n",
    "    row_id = cursor.fetchone()[0]\n",
    "    return row_id"
   ]
  },
  {
   "cell_type": "code",
   "execution_count": 97,
   "metadata": {},
   "outputs": [
    {
     "data": {
      "text/plain": "'3a0b0fa3-72a6-4457-8b29-847b49b1293a'"
     },
     "execution_count": 97,
     "metadata": {},
     "output_type": "execute_result"
    }
   ],
   "source": [
    "row_id = update_log_etl(row_id,pg_cursor,pg_connection)\n",
    "row_id"
   ]
  },
  {
   "cell_type": "code",
   "execution_count": 132,
   "metadata": {},
   "outputs": [],
   "source": [
    "blob_url = 'https://etlplasticostorageacc.blob.core.windows.net/gopro/gopro.mp4'\n",
    "pg_cursor.execute(\"SELECT id,id_ref_campaign_fk,filename FROM campaign.media WHERE blob_url = 'https://etlplasticostorageacc.blob.core.windows.net/gopro/gopro.mp4'\")\n",
    "result = pg_cursor.fetchone()\n",
    "pg_connection.commit()"
   ]
  },
  {
   "cell_type": "code",
   "execution_count": 142,
   "metadata": {},
   "outputs": [],
   "source": [
    "def select_media_info(blob_url:str,cursor:object,connection:object):\n",
    "    cursor.execute(\"SELECT id,id_ref_campaign_fk,filename FROM campaign.media WHERE blob_url = %s\",(blob_url,))\n",
    "    connection.commit()\n",
    "    query_result = list(cursor.fetchone()) # cast tuple to list\n",
    "    media_info = {'media_id':query_result[0],'campaign_id':query_result[1],'media_name':query_result[2]}\n",
    "    return media_info"
   ]
  },
  {
   "cell_type": "code",
   "execution_count": 143,
   "metadata": {},
   "outputs": [
    {
     "data": {
      "text/plain": "{'media_id': '639990fc-1173-498b-96d5-7b46ec7485d3',\n 'campaign_id': 'b843c94c-256c-4a4c-877e-2e928f448d67',\n 'media_name': 'gopro.mp4'}"
     },
     "execution_count": 143,
     "metadata": {},
     "output_type": "execute_result"
    }
   ],
   "source": [
    "select_media_info(blob_url,pg_cursor,pg_connection)"
   ]
  }
 ]
}