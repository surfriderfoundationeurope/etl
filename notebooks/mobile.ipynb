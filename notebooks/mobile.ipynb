{
 "nbformat": 4,
 "nbformat_minor": 2,
 "metadata": {
  "language_info": {
   "name": "python",
   "codemirror_mode": {
    "name": "ipython",
    "version": 3
   },
   "version": "3.6.9-final"
  },
  "orig_nbformat": 2,
  "file_extension": ".py",
  "mimetype": "text/x-python",
  "name": "python",
  "npconvert_exporter": "python",
  "pygments_lexer": "ipython3",
  "version": 3,
  "kernelspec": {
   "name": "python36964bitsurfridercondaa4d29431e9f947419d6d850056118d13",
   "display_name": "Python 3.6.9 64-bit ('surfrider': conda)"
  }
 },
 "cells": [
  {
   "cell_type": "code",
   "execution_count": null,
   "metadata": {},
   "outputs": [],
   "source": [
    "def parse_json(json_path:str)->dict:\n",
    "    \"\"\"Parse a JSON file produced by Plastic Origin Mobile App\n",
    "\n",
    "    Args:\n",
    "        json_path (str): the path of a json file produced by mobile app\n",
    "\n",
    "    Returns:\n",
    "        dict: the json data as a dictionnary\n",
    "    \"\"\"\n",
    "    with open(json_path) as json_file:\n",
    "        json_data = json.load(json_file)\n",
    "    return json_data"
   ]
  },
  {
   "cell_type": "code",
   "execution_count": null,
   "metadata": {},
   "outputs": [],
   "source": [
    "json_path = '../datasample/mobile.json'"
   ]
  },
  {
   "cell_type": "code",
   "execution_count": null,
   "metadata": {},
   "outputs": [],
   "source": [
    "json_data = parse_json(json_path)"
   ]
  },
  {
   "cell_type": "code",
   "execution_count": null,
   "metadata": {},
   "outputs": [],
   "source": [
    "json_data.keys()"
   ]
  },
  {
   "cell_type": "code",
   "execution_count": null,
   "metadata": {},
   "outputs": [],
   "source": [
    "def get_json_gps_list(json_data:dict)->list:\n",
    "    \"\"\"Get a list of GPS point from a json_data object\n",
    "\n",
    "    Args:\n",
    "        json_data (dict): the gps data as a json dict\n",
    "\n",
    "    Returns:\n",
    "        list: a list of GPS point\n",
    "    \"\"\"\n",
    "    point_list = []\n",
    "    for point in json_data['positions']:\n",
    "        time = datetime.strptime(point['date'][:19].replace(\"T\",\" \"),'%Y-%m-%d %H:%M:%S')\n",
    "        point_info = {'Time': time, 'Latitude': point['lat'],\n",
    "                              'Longitude': point['lng'], 'Elevation': 0}\n",
    "        point_list.append(point_info)\n",
    "    return point_list\n"
   ]
  },
  {
   "cell_type": "code",
   "execution_count": null,
   "metadata": {},
   "outputs": [],
   "source": [
    "gps_point_list = get_json_gps_list(json_data)"
   ]
  },
  {
   "cell_type": "code",
   "execution_count": null,
   "metadata": {
    "tags": []
   },
   "outputs": [],
   "source": [
    "date0 = gps_point_list[0]['Time']\n",
    "date370 = gps_point_list[-1]['Time']"
   ]
  },
  {
   "cell_type": "code",
   "execution_count": null,
   "metadata": {
    "tags": []
   },
   "outputs": [],
   "source": [
    "print(date0)\n",
    "print(date370)"
   ]
  },
  {
   "cell_type": "code",
   "execution_count": null,
   "metadata": {},
   "outputs": [],
   "source": [
    "date370-date0"
   ]
  },
  {
   "cell_type": "code",
   "execution_count": null,
   "metadata": {},
   "outputs": [],
   "source": [
    "type(gps_point_list)"
   ]
  },
  {
   "cell_type": "code",
   "execution_count": null,
   "metadata": {},
   "outputs": [],
   "source": [
    "len(gps_point_list)"
   ]
  },
  {
   "cell_type": "code",
   "execution_count": null,
   "metadata": {
    "tags": []
   },
   "outputs": [],
   "source": [
    "for i in range(0,10):\n",
    "    print(gps_point_list[i])"
   ]
  },
  {
   "cell_type": "code",
   "execution_count": null,
   "metadata": {},
   "outputs": [],
   "source": [
    "gps_points_filled = fill_gps(gps_points, video_duration_sup)"
   ]
  },
  {
   "cell_type": "code",
   "execution_count": null,
   "metadata": {},
   "outputs": [],
   "source": [
    "filled_gps = gps_point_list.copy()\n",
    "delta = filled_gps[i+1]['Time']-filled_gps[i]['Time']\n",
    "delta = int(delta.total_seconds())"
   ]
  },
  {
   "cell_type": "code",
   "execution_count": null,
   "metadata": {},
   "outputs": [],
   "source": [
    "delta = filled_gps[i+1]['Time']-filled_gps[i]['Time']"
   ]
  },
  {
   "cell_type": "code",
   "execution_count": null,
   "metadata": {},
   "outputs": [],
   "source": [
    "gps_point_list[0]['Time']"
   ]
  },
  {
   "cell_type": "code",
   "execution_count": null,
   "metadata": {},
   "outputs": [],
   "source": [
    "import gpxpy\n",
    "import gpxpy.gpx\n",
    "def parse_gpx(gpx_path:str)->object:\n",
    "    \"\"\"Parse a gpx file to extract gps information\n",
    "\n",
    "    Arguments:\n",
    "        gpx_path {str} -- the path of a gpx file\n",
    "\n",
    "    Returns:\n",
    "        gpx_data -- the gpx data as a gpxpy object\n",
    "    \"\"\"\n",
    "    gpx_file = open(gpx_path,'r',encoding='utf-8')\n",
    "    gpx_data = gpxpy.parse(gpx_file)\n",
    "    return gpx_data"
   ]
  },
  {
   "cell_type": "code",
   "execution_count": null,
   "metadata": {},
   "outputs": [],
   "source": [
    "def get_gps_point_list(gpx_data:object)->list:\n",
    "    \"\"\"Get a list of GPS point from a gpx_data object\n",
    "\n",
    "    Arguments:\n",
    "        gpx_data {object} -- the gpx data as a gpxpy object\n",
    "\n",
    "    Returns:\n",
    "        point_list -- a list of GPS points\n",
    "    \"\"\"\n",
    "    point_list = []\n",
    "    for track in gpx_data.tracks:\n",
    "        for segment in track.segments:\n",
    "            for point in segment.points:\n",
    "                point_info = {'Time': point.time, 'Latitude': point.latitude,\n",
    "                              'Longitude': point.longitude, 'Elevation': point.elevation}\n",
    "                point_list.append(point_info)\n",
    "    return point_list"
   ]
  },
  {
   "cell_type": "code",
   "execution_count": null,
   "metadata": {
    "tags": []
   },
   "outputs": [],
   "source": [
    "gps_point_list = get_json_gps_list(json_data)\n",
    "print(len(gps_point_list))\n",
    "date0 = gps_point_list[0]['Time']\n",
    "date370  =  gps_point_list[-1]['Time']\n",
    "print(date0)\n",
    "print(date370)\n",
    "delta = date370-date0\n",
    "print(delta)"
   ]
  },
  {
   "cell_type": "code",
   "execution_count": null,
   "metadata": {},
   "outputs": [],
   "source": [
    "32*60+18"
   ]
  },
  {
   "cell_type": "code",
   "execution_count": null,
   "metadata": {},
   "outputs": [],
   "source": [
    "from datetime import timedelta\n",
    "gps_points_filled = fill_gps(gps_point_list, 1938)"
   ]
  },
  {
   "cell_type": "code",
   "execution_count": null,
   "metadata": {},
   "outputs": [],
   "source": [
    "len(gps_points_filled)"
   ]
  },
  {
   "cell_type": "code",
   "execution_count": null,
   "metadata": {
    "tags": []
   },
   "outputs": [],
   "source": [
    "for i in range(0,150):\n",
    "    print(gps_points_filled[i+1837])"
   ]
  },
  {
   "cell_type": "code",
   "execution_count": null,
   "metadata": {
    "tags": []
   },
   "outputs": [],
   "source": [
    "for i in range(0,60):\n",
    "    print(gps_points_filled[i+1000])"
   ]
  },
  {
   "cell_type": "code",
   "execution_count": null,
   "metadata": {},
   "outputs": [],
   "source": [
    "trashes = json_data['trashes']"
   ]
  },
  {
   "cell_type": "code",
   "execution_count": null,
   "metadata": {
    "tags": []
   },
   "outputs": [],
   "source": [
    "for trash in trashes:\n",
    "    print(trash)"
   ]
  },
  {
   "cell_type": "code",
   "execution_count": null,
   "metadata": {},
   "outputs": [],
   "source": [
    "import pandas as pd\n",
    "def get_df_json_manual_gps(json_data:dict)->pd.DataFrame:\n",
    "    \"\"\"Get GPS coordinate as a DataFrame from a manually collected trash JSON file\n",
    "\n",
    "    Args:\n",
    "        json_data (dict): the json data from the Plastic Origin Mobile app\n",
    "\n",
    "    Returns:\n",
    "        pd.DataFrame: the gps info as a DataFrame associated with manually collected trash\n",
    "    \"\"\"\n",
    "    gps_list = []\n",
    "    for trash in json_data['trashes']:\n",
    "        time = datetime.strptime(trash['date'][:19].replace(\"T\",\" \"),'%Y-%m-%d %H:%M:%S')\n",
    "        gps_point = {'Time': time, 'Latitude': trash['lat'],'Longitude': trash['lng'], 'Elevation': 0}\n",
    "        shape_gps_point = long_lat_to_shape_point(gps_point)\n",
    "        geo_2154 = transform_geo(shape_gps_point)\n",
    "        geo_2154_gps_point = {'Time': shape_gps_point['Time'],'the_geom':geo_2154, 'Latitude':shape_gps_point['Latitude'],'Longitude': shape_gps_point['Longitude'], 'Elevation':shape_gps_point['Elevation']}\n",
    "        gps_list.append(geo_2154_gps_point)\n",
    "    df_manual_gps = pd.DataFrame(gps_list)\n",
    "    return df_manual_gps"
   ]
  },
  {
   "cell_type": "code",
   "execution_count": null,
   "metadata": {},
   "outputs": [],
   "source": [
    "import os\n",
    "import gpxpy\n",
    "import gpxpy.gpx\n",
    "import json\n",
    "import subprocess\n",
    "import datetime\n",
    "import pandas as pd\n",
    "from datetime import datetime\n",
    "from datetime import timedelta\n",
    "from shapely.geometry import Point\n",
    "from functools import partial\n",
    "import pyproj\n",
    "from shapely.ops import transform\n",
    "from tqdm import tqdm\n",
    "from gopro2gpx.main import extract"
   ]
  },
  {
   "cell_type": "code",
   "execution_count": null,
   "metadata": {},
   "outputs": [],
   "source": [
    "def long_lat_to_shape_point(gps_long_lat_point:dict)->dict:\n",
    "    \"\"\"Convert a long/lat of gps point to shape obect from shapely\n",
    "\n",
    "    Arguments:\n",
    "        gps_long_lat_point {dict} -- a gps point with long/lat coordinates\n",
    "\n",
    "    Returns:\n",
    "        gps_shape_point -- a gps point with shape representation of long/lat\n",
    "    \"\"\"\n",
    "    gps_shape_point = {'Time': gps_long_lat_point['Time'], 'the_geom': Point(\n",
    "        gps_long_lat_point['Longitude'], gps_long_lat_point['Latitude']),'Latitude':gps_long_lat_point['Latitude'],'Longitude':gps_long_lat_point['Longitude'], 'Elevation': gps_long_lat_point['Elevation']}\n",
    "    return gps_shape_point\n",
    "\n",
    "\n",
    "\n",
    "def transform_geo(gps_shape_point:dict)->str:\n",
    "    \"\"\"Transform a gps geometry representation from 4326 to 2154\n",
    "\n",
    "    Arguments:\n",
    "        gps_shape_point {dict} -- a gps point with long/lat represented as shape Point\n",
    "\n",
    "    Returns:\n",
    "        geo2 -- the shape point in geometry 2154\n",
    "    \"\"\"\n",
    "    project = partial(\n",
    "        pyproj.transform,\n",
    "        pyproj.Proj(init='epsg:4326'),  # source coordinate system\n",
    "        pyproj.Proj(init='epsg:2154'))  # destination coordinate system\n",
    "\n",
    "    geo1 = gps_shape_point['the_geom']\n",
    "    geo2 = transform(project, geo1)\n",
    "    return geo2"
   ]
  },
  {
   "cell_type": "code",
   "execution_count": null,
   "metadata": {},
   "outputs": [],
   "source": [
    "json_gps_df = get_df_json_manual_gps(json_data)"
   ]
  },
  {
   "cell_type": "code",
   "execution_count": null,
   "metadata": {},
   "outputs": [],
   "source": [
    "json_gps_df.head()"
   ]
  },
  {
   "cell_type": "code",
   "execution_count": null,
   "metadata": {},
   "outputs": [],
   "source": [
    "def get_df_json_manual_trash(json_data:dict)->pd.DataFrame:\n",
    "    \"\"\"Get trash DataFrame from a JSON file where Trash have been manually collected\n",
    "\n",
    "\n",
    "    Args:\n",
    "        json_data (dict): the json data from the Plastic Origin Mobile app\n",
    "\n",
    "    Returns:\n",
    "        pd.DataFrame: the gps info as a DataFrame associated with manually collected trash\n",
    "    \"\"\"\n",
    "    trash_list = []\n",
    "    i = 0\n",
    "    for trash in json_data['trashes']:\n",
    "        trash_type_id = map_json_label_to_trash_id_PG(trash['name'])\n",
    "        trash = {'id':i,'label':trash['name'],'trash_type_id':trash_type_id}\n",
    "        trash_list.append(trash)\n",
    "        i = i+1\n",
    "        df_manual_trash = pd.DataFrame(trash_list)\n",
    "    return df_manual_trash"
   ]
  },
  {
   "cell_type": "code",
   "execution_count": 170,
   "metadata": {},
   "outputs": [],
   "source": [
    "def map_json_label_to_trash_id_PG(label:str)->str:\n",
    "    \"\"\"Map label of a trash to equivalent ID within PostGre server\n",
    "\n",
    "    Arguments:\n",
    "        label {str} -- the label of the trash\n",
    "\n",
    "    Returns:\n",
    "        id_PG -- the equivalent id within PG Trash table of trash label\n",
    "    \"\"\"\n",
    "    switcher = { \n",
    "        \"unknown\":\"1\", #\"autre dechet\" in PG Data Model mapped to IA \"others\" label\n",
    "        \"agriculturalFoodWaste\":\"2\",\n",
    "        \"bottles\":\"3\", #\"bouteille boisson\" in PG Data Model mapped to IA \"bottles\" label\n",
    "        \"fragments\":\"1\",#\"industriel ou construction in PG Data Model mapped to IA \"fragments\" label\n",
    "        \"fishHunting\":\"2\",\n",
    "        \"foodPackage\":\"2\",\n",
    "        \"householdItems\":\"2\",\n",
    "        \"unknown10\":\"1\"\n",
    "    }\n",
    "    id_PG =  switcher.get(label, \"2\")\n",
    "    return id_PG"
   ]
  },
  {
   "cell_type": "code",
   "execution_count": 171,
   "metadata": {
    "tags": []
   },
   "outputs": [
    {
     "output_type": "stream",
     "name": "stdout",
     "text": "{&#39;date&#39;: &#39;2020-09-26T13:25:39.337Z&#39;, &#39;lat&#39;: 43.9476609, &#39;lng&#39;: 6.974562, &#39;name&#39;: &#39;unknown&#39;}\n{&#39;date&#39;: &#39;2020-09-26T13:25:43.060Z&#39;, &#39;lat&#39;: 43.9476038, &#39;lng&#39;: 6.9748482, &#39;name&#39;: &#39;unknown&#39;}\n{&#39;date&#39;: &#39;2020-09-26T13:25:50.818Z&#39;, &#39;lat&#39;: 43.9476038, &#39;lng&#39;: 6.9748482, &#39;name&#39;: &#39;unknown&#39;}\n{&#39;date&#39;: &#39;2020-09-26T13:25:51.452Z&#39;, &#39;lat&#39;: 43.9476038, &#39;lng&#39;: 6.9748482, &#39;name&#39;: &#39;unknown&#39;}\n{&#39;date&#39;: &#39;2020-09-26T13:26:12.067Z&#39;, &#39;lat&#39;: 43.9473623, &#39;lng&#39;: 6.9754792, &#39;name&#39;: &#39;agriculturalFoodWaste&#39;}\n{&#39;date&#39;: &#39;2020-09-26T13:29:44.472Z&#39;, &#39;lat&#39;: 43.9487939, &#39;lng&#39;: 6.9801769, &#39;name&#39;: &#39;unknown&#39;}\n{&#39;date&#39;: &#39;2020-09-26T13:30:36.816Z&#39;, &#39;lat&#39;: 43.9493439, &#39;lng&#39;: 6.9812671, &#39;name&#39;: &#39;unknown&#39;}\n{&#39;date&#39;: &#39;2020-09-26T13:30:57.823Z&#39;, &#39;lat&#39;: 43.9495077, &#39;lng&#39;: 6.9815608, &#39;name&#39;: &#39;foodPackage&#39;}\n{&#39;date&#39;: &#39;2020-09-26T13:32:37.523Z&#39;, &#39;lat&#39;: 43.9498088, &#39;lng&#39;: 6.9837133, &#39;name&#39;: &#39;unknown&#39;}\n{&#39;date&#39;: &#39;2020-09-26T13:33:01.786Z&#39;, &#39;lat&#39;: 43.9496414, &#39;lng&#39;: 6.984625, &#39;name&#39;: &#39;unknown&#39;}\n{&#39;date&#39;: &#39;2020-09-26T13:33:02.389Z&#39;, &#39;lat&#39;: 43.9496414, &#39;lng&#39;: 6.984625, &#39;name&#39;: &#39;unknown&#39;}\n{&#39;date&#39;: &#39;2020-09-26T13:34:08.062Z&#39;, &#39;lat&#39;: 43.9492898, &#39;lng&#39;: 6.9861271, &#39;name&#39;: &#39;unknown10&#39;}\n{&#39;date&#39;: &#39;2020-09-26T13:35:15.403Z&#39;, &#39;lat&#39;: 43.9483789, &#39;lng&#39;: 6.9872834, &#39;name&#39;: &#39;unknown&#39;}\n{&#39;date&#39;: &#39;2020-09-26T13:35:16.158Z&#39;, &#39;lat&#39;: 43.9483789, &#39;lng&#39;: 6.9872834, &#39;name&#39;: &#39;unknown&#39;}\n{&#39;date&#39;: &#39;2020-09-26T13:35:31.078Z&#39;, &#39;lat&#39;: 43.947918, &#39;lng&#39;: 6.9874814, &#39;name&#39;: &#39;unknown&#39;}\n{&#39;date&#39;: &#39;2020-09-26T13:40:14.809Z&#39;, &#39;lat&#39;: 43.9460536, &#39;lng&#39;: 6.9895993, &#39;name&#39;: &#39;unknown&#39;}\n{&#39;date&#39;: &#39;2020-09-26T13:42:02.137Z&#39;, &#39;lat&#39;: 43.9453939, &#39;lng&#39;: 6.9914022, &#39;name&#39;: &#39;unknown&#39;}\n{&#39;date&#39;: &#39;2020-09-26T13:43:44.868Z&#39;, &#39;lat&#39;: 43.9464343, &#39;lng&#39;: 6.9943372, &#39;name&#39;: &#39;unknown&#39;}\n{&#39;date&#39;: &#39;2020-09-26T13:44:40.275Z&#39;, &#39;lat&#39;: 43.9464383, &#39;lng&#39;: 6.9960979, &#39;name&#39;: &#39;unknown&#39;}\n{&#39;date&#39;: &#39;2020-09-26T13:45:36.112Z&#39;, &#39;lat&#39;: 43.9462293, &#39;lng&#39;: 6.9974973, &#39;name&#39;: &#39;unknown&#39;}\n{&#39;date&#39;: &#39;2020-09-26T13:47:21.632Z&#39;, &#39;lat&#39;: 43.9457385, &#39;lng&#39;: 6.9998233, &#39;name&#39;: &#39;unknown&#39;}\n{&#39;date&#39;: &#39;2020-09-26T13:47:22.334Z&#39;, &#39;lat&#39;: 43.9457385, &#39;lng&#39;: 6.9998233, &#39;name&#39;: &#39;unknown&#39;}\n{&#39;date&#39;: &#39;2020-09-26T13:47:41.664Z&#39;, &#39;lat&#39;: 43.9453444, &#39;lng&#39;: 7.0004599, &#39;name&#39;: &#39;industrials&#39;}\n{&#39;date&#39;: &#39;2020-09-26T13:48:26.581Z&#39;, &#39;lat&#39;: 43.944978, &#39;lng&#39;: 7.0016656, &#39;name&#39;: &#39;unknown10&#39;}\n{&#39;date&#39;: &#39;2020-09-26T13:49:29.106Z&#39;, &#39;lat&#39;: 43.9442042, &#39;lng&#39;: 7.0031423, &#39;name&#39;: &#39;unknown&#39;}\n{&#39;date&#39;: &#39;2020-09-26T13:49:30.493Z&#39;, &#39;lat&#39;: 43.9442042, &#39;lng&#39;: 7.0031423, &#39;name&#39;: &#39;unknown&#39;}\n{&#39;date&#39;: &#39;2020-09-26T13:51:08.531Z&#39;, &#39;lat&#39;: 43.9441767, &#39;lng&#39;: 7.0058481, &#39;name&#39;: &#39;unknown&#39;}\n{&#39;date&#39;: &#39;2020-09-26T13:53:16.027Z&#39;, &#39;lat&#39;: 43.94443, &#39;lng&#39;: 7.0090502, &#39;name&#39;: &#39;fishHunting&#39;}\n{&#39;date&#39;: &#39;2020-09-26T13:53:21.373Z&#39;, &#39;lat&#39;: 43.9445375, &#39;lng&#39;: 7.0092693, &#39;name&#39;: &#39;unknown&#39;}\n{&#39;date&#39;: &#39;2020-09-26T13:53:22.058Z&#39;, &#39;lat&#39;: 43.9445375, &#39;lng&#39;: 7.0092693, &#39;name&#39;: &#39;unknown&#39;}\n"
    }
   ],
   "source": [
    "for trash in json_data['trashes']:\n",
    "    print(trash)"
   ]
  },
  {
   "cell_type": "code",
   "execution_count": 173,
   "metadata": {},
   "outputs": [
    {
     "output_type": "execute_result",
     "data": {
      "text/plain": "30"
     },
     "metadata": {},
     "execution_count": 173
    }
   ],
   "source": [
    "len(json_data['trashes'])"
   ]
  },
  {
   "cell_type": "code",
   "execution_count": 172,
   "metadata": {},
   "outputs": [
    {
     "output_type": "execute_result",
     "data": {
      "text/plain": "    id                  label trash_type_id\n0    0                unknown             1\n1    1                unknown             1\n2    2                unknown             1\n3    3                unknown             1\n4    4  agriculturalFoodWaste             2\n5    5                unknown             1\n6    6                unknown             1\n7    7            foodPackage             2\n8    8                unknown             1\n9    9                unknown             1\n10  10                unknown             1\n11  11              unknown10             1\n12  12                unknown             1\n13  13                unknown             1\n14  14                unknown             1\n15  15                unknown             1\n16  16                unknown             1\n17  17                unknown             1\n18  18                unknown             1\n19  19                unknown             1\n20  20                unknown             1\n21  21                unknown             1\n22  22            industrials             2\n23  23              unknown10             1\n24  24                unknown             1\n25  25                unknown             1\n26  26                unknown             1\n27  27            fishHunting             2\n28  28                unknown             1\n29  29                unknown             1",
      "text/html": "<div>\n<style scoped>\n    .dataframe tbody tr th:only-of-type {\n        vertical-align: middle;\n    }\n\n    .dataframe tbody tr th {\n        vertical-align: top;\n    }\n\n    .dataframe thead th {\n        text-align: right;\n    }\n</style>\n<table border=\"1\" class=\"dataframe\">\n  <thead>\n    <tr style=\"text-align: right;\">\n      <th></th>\n      <th>id</th>\n      <th>label</th>\n      <th>trash_type_id</th>\n    </tr>\n  </thead>\n  <tbody>\n    <tr>\n      <th>0</th>\n      <td>0</td>\n      <td>unknown</td>\n      <td>1</td>\n    </tr>\n    <tr>\n      <th>1</th>\n      <td>1</td>\n      <td>unknown</td>\n      <td>1</td>\n    </tr>\n    <tr>\n      <th>2</th>\n      <td>2</td>\n      <td>unknown</td>\n      <td>1</td>\n    </tr>\n    <tr>\n      <th>3</th>\n      <td>3</td>\n      <td>unknown</td>\n      <td>1</td>\n    </tr>\n    <tr>\n      <th>4</th>\n      <td>4</td>\n      <td>agriculturalFoodWaste</td>\n      <td>2</td>\n    </tr>\n    <tr>\n      <th>5</th>\n      <td>5</td>\n      <td>unknown</td>\n      <td>1</td>\n    </tr>\n    <tr>\n      <th>6</th>\n      <td>6</td>\n      <td>unknown</td>\n      <td>1</td>\n    </tr>\n    <tr>\n      <th>7</th>\n      <td>7</td>\n      <td>foodPackage</td>\n      <td>2</td>\n    </tr>\n    <tr>\n      <th>8</th>\n      <td>8</td>\n      <td>unknown</td>\n      <td>1</td>\n    </tr>\n    <tr>\n      <th>9</th>\n      <td>9</td>\n      <td>unknown</td>\n      <td>1</td>\n    </tr>\n    <tr>\n      <th>10</th>\n      <td>10</td>\n      <td>unknown</td>\n      <td>1</td>\n    </tr>\n    <tr>\n      <th>11</th>\n      <td>11</td>\n      <td>unknown10</td>\n      <td>1</td>\n    </tr>\n    <tr>\n      <th>12</th>\n      <td>12</td>\n      <td>unknown</td>\n      <td>1</td>\n    </tr>\n    <tr>\n      <th>13</th>\n      <td>13</td>\n      <td>unknown</td>\n      <td>1</td>\n    </tr>\n    <tr>\n      <th>14</th>\n      <td>14</td>\n      <td>unknown</td>\n      <td>1</td>\n    </tr>\n    <tr>\n      <th>15</th>\n      <td>15</td>\n      <td>unknown</td>\n      <td>1</td>\n    </tr>\n    <tr>\n      <th>16</th>\n      <td>16</td>\n      <td>unknown</td>\n      <td>1</td>\n    </tr>\n    <tr>\n      <th>17</th>\n      <td>17</td>\n      <td>unknown</td>\n      <td>1</td>\n    </tr>\n    <tr>\n      <th>18</th>\n      <td>18</td>\n      <td>unknown</td>\n      <td>1</td>\n    </tr>\n    <tr>\n      <th>19</th>\n      <td>19</td>\n      <td>unknown</td>\n      <td>1</td>\n    </tr>\n    <tr>\n      <th>20</th>\n      <td>20</td>\n      <td>unknown</td>\n      <td>1</td>\n    </tr>\n    <tr>\n      <th>21</th>\n      <td>21</td>\n      <td>unknown</td>\n      <td>1</td>\n    </tr>\n    <tr>\n      <th>22</th>\n      <td>22</td>\n      <td>industrials</td>\n      <td>2</td>\n    </tr>\n    <tr>\n      <th>23</th>\n      <td>23</td>\n      <td>unknown10</td>\n      <td>1</td>\n    </tr>\n    <tr>\n      <th>24</th>\n      <td>24</td>\n      <td>unknown</td>\n      <td>1</td>\n    </tr>\n    <tr>\n      <th>25</th>\n      <td>25</td>\n      <td>unknown</td>\n      <td>1</td>\n    </tr>\n    <tr>\n      <th>26</th>\n      <td>26</td>\n      <td>unknown</td>\n      <td>1</td>\n    </tr>\n    <tr>\n      <th>27</th>\n      <td>27</td>\n      <td>fishHunting</td>\n      <td>2</td>\n    </tr>\n    <tr>\n      <th>28</th>\n      <td>28</td>\n      <td>unknown</td>\n      <td>1</td>\n    </tr>\n    <tr>\n      <th>29</th>\n      <td>29</td>\n      <td>unknown</td>\n      <td>1</td>\n    </tr>\n  </tbody>\n</table>\n</div>"
     },
     "metadata": {},
     "execution_count": 172
    }
   ],
   "source": [
    "json_trash_df = get_df_json_manual_trash(json_data)\n",
    "json_trash_df"
   ]
  },
  {
   "cell_type": "code",
   "execution_count": null,
   "metadata": {
    "tags": []
   },
   "outputs": [],
   "source": [
    "print(json_gps_df.info())\n",
    "print(json_trash_df.info())"
   ]
  },
  {
   "cell_type": "code",
   "execution_count": null,
   "metadata": {},
   "outputs": [],
   "source": [
    "def get_df_data(df_predictions:pd.DataFrame,df_trash_gps:pd.DataFrame)->pd.DataFrame:\n",
    "    \"\"\"Get Data to be inserted within PostGre DB as a Dataframe\n",
    "\n",
    "    Arguments:\n",
    "        df_predictions {pd.DataFrame} -- the AI prediction as a Dataframe\n",
    "        df_trash_gps {pd.DataFrame} -- the gps coordinate of all trash detected by AI as a Dataframe\n",
    "\n",
    "    Returns:\n",
    "        df_data -- Data to be inserted within PostGre DB\n",
    "    \"\"\"\n",
    "    df_data = pd.concat([df_predictions,df_trash_gps],axis=1)\n",
    "    return df_data"
   ]
  },
  {
   "cell_type": "code",
   "execution_count": 169,
   "metadata": {},
   "outputs": [
    {
     "output_type": "execute_result",
     "data": {
      "text/plain": "    id                  label trash_type_id                Time  \\\n0    0                unknown             1 2020-09-26 13:25:39   \n1    1                unknown             1 2020-09-26 13:25:43   \n2    2                unknown             1 2020-09-26 13:25:50   \n3    3                unknown             1 2020-09-26 13:25:51   \n4    4  agriculturalFoodWaste             2 2020-09-26 13:26:12   \n5    5                unknown             1 2020-09-26 13:29:44   \n6    6                unknown             1 2020-09-26 13:30:36   \n7    7            foodPackage             2 2020-09-26 13:30:57   \n8    8                unknown             1 2020-09-26 13:32:37   \n9    9                unknown             1 2020-09-26 13:33:01   \n10  10                unknown             1 2020-09-26 13:33:02   \n11  11              unknown10             1 2020-09-26 13:34:08   \n12  12                unknown             1 2020-09-26 13:35:15   \n13  13                unknown             1 2020-09-26 13:35:16   \n14  14                unknown             1 2020-09-26 13:35:31   \n15  15                unknown             1 2020-09-26 13:40:14   \n16  16                unknown             1 2020-09-26 13:42:02   \n17  17                unknown             1 2020-09-26 13:43:44   \n18  18                unknown             1 2020-09-26 13:44:40   \n19  19                unknown             1 2020-09-26 13:45:36   \n20  20                unknown             1 2020-09-26 13:47:21   \n21  21                unknown             1 2020-09-26 13:47:22   \n22  22            industrials             0 2020-09-26 13:47:41   \n23  23              unknown10             1 2020-09-26 13:48:26   \n24  24                unknown             1 2020-09-26 13:49:29   \n25  25                unknown             1 2020-09-26 13:49:30   \n26  26                unknown             1 2020-09-26 13:51:08   \n27  27            fishHunting             2 2020-09-26 13:53:16   \n28  28                unknown             1 2020-09-26 13:53:21   \n29  29                unknown             1 2020-09-26 13:53:22   \n\n                                       the_geom   Latitude  Longitude  \\\n0    POINT (1018942.49629894 6324546.189385729)  43.947661   6.974562   \n1   POINT (1018965.762535683 6324541.008771674)  43.947604   6.974848   \n2   POINT (1018965.762535683 6324541.008771674)  43.947604   6.974848   \n3   POINT (1018965.762535683 6324541.008771674)  43.947604   6.974848   \n4   POINT (1019017.705437028 6324516.757451487)  43.947362   6.975479   \n5   POINT (1019386.344763959 6324694.618956082)  43.948794   6.980177   \n6   POINT (1019470.672897963 6324760.065061009)  43.949344   6.981267   \n7   POINT (1019493.303073367 6324779.430958421)  43.949508   6.981561   \n8   POINT (1019664.192892549 6324821.556933214)  43.949809   6.983713   \n9   POINT (1019738.226362991 6324806.671141523)  43.949641   6.984625   \n10  POINT (1019738.226362991 6324806.671141523)  43.949641   6.984625   \n11  POINT (1019860.628349893 6324773.736215156)  43.949290   6.986127   \n12  POINT (1019958.443778758 6324677.334694792)  43.948379   6.987283   \n13  POINT (1019958.443778758 6324677.334694792)  43.948379   6.987283   \n14  POINT (1019976.903812164 6324626.989129432)  43.947918   6.987481   \n15  POINT (1020157.173433011 6324428.674031194)  43.946054   6.989599   \n16  POINT (1020305.433001081 6324362.776200551)  43.945394   6.991402   \n17   POINT (1020534.917109964 6324490.14311416)  43.946434   6.994337   \n18  POINT (1020676.065494159 6324497.735848698)  43.946438   6.996098   \n19   POINT (1020789.44280674 6324480.226545725)  43.946229   6.997497   \n20  POINT (1020978.700331234 6324435.213150994)  43.945738   6.999823   \n21  POINT (1020978.700331234 6324435.213150994)  43.945738   6.999823   \n22   POINT (1021031.960247894 6324394.06657393)  43.945344   7.000460   \n23  POINT (1021130.695712873 6324358.308686613)  43.944978   7.001666   \n24  POINT (1021253.455382319 6324278.444402293)  43.944204   7.003142   \n25  POINT (1021253.455382319 6324278.444402293)  43.944204   7.003142   \n26  POINT (1021470.565402998 6324286.404729269)  43.944177   7.005848   \n27  POINT (1021725.885795215 6324327.555639304)  43.944430   7.009050   \n28  POINT (1021742.847200139 6324340.377925199)  43.944538   7.009269   \n29  POINT (1021742.847200139 6324340.377925199)  43.944538   7.009269   \n\n    Elevation  \n0           0  \n1           0  \n2           0  \n3           0  \n4           0  \n5           0  \n6           0  \n7           0  \n8           0  \n9           0  \n10          0  \n11          0  \n12          0  \n13          0  \n14          0  \n15          0  \n16          0  \n17          0  \n18          0  \n19          0  \n20          0  \n21          0  \n22          0  \n23          0  \n24          0  \n25          0  \n26          0  \n27          0  \n28          0  \n29          0  ",
      "text/html": "<div>\n<style scoped>\n    .dataframe tbody tr th:only-of-type {\n        vertical-align: middle;\n    }\n\n    .dataframe tbody tr th {\n        vertical-align: top;\n    }\n\n    .dataframe thead th {\n        text-align: right;\n    }\n</style>\n<table border=\"1\" class=\"dataframe\">\n  <thead>\n    <tr style=\"text-align: right;\">\n      <th></th>\n      <th>id</th>\n      <th>label</th>\n      <th>trash_type_id</th>\n      <th>Time</th>\n      <th>the_geom</th>\n      <th>Latitude</th>\n      <th>Longitude</th>\n      <th>Elevation</th>\n    </tr>\n  </thead>\n  <tbody>\n    <tr>\n      <th>0</th>\n      <td>0</td>\n      <td>unknown</td>\n      <td>1</td>\n      <td>2020-09-26 13:25:39</td>\n      <td>POINT (1018942.49629894 6324546.189385729)</td>\n      <td>43.947661</td>\n      <td>6.974562</td>\n      <td>0</td>\n    </tr>\n    <tr>\n      <th>1</th>\n      <td>1</td>\n      <td>unknown</td>\n      <td>1</td>\n      <td>2020-09-26 13:25:43</td>\n      <td>POINT (1018965.762535683 6324541.008771674)</td>\n      <td>43.947604</td>\n      <td>6.974848</td>\n      <td>0</td>\n    </tr>\n    <tr>\n      <th>2</th>\n      <td>2</td>\n      <td>unknown</td>\n      <td>1</td>\n      <td>2020-09-26 13:25:50</td>\n      <td>POINT (1018965.762535683 6324541.008771674)</td>\n      <td>43.947604</td>\n      <td>6.974848</td>\n      <td>0</td>\n    </tr>\n    <tr>\n      <th>3</th>\n      <td>3</td>\n      <td>unknown</td>\n      <td>1</td>\n      <td>2020-09-26 13:25:51</td>\n      <td>POINT (1018965.762535683 6324541.008771674)</td>\n      <td>43.947604</td>\n      <td>6.974848</td>\n      <td>0</td>\n    </tr>\n    <tr>\n      <th>4</th>\n      <td>4</td>\n      <td>agriculturalFoodWaste</td>\n      <td>2</td>\n      <td>2020-09-26 13:26:12</td>\n      <td>POINT (1019017.705437028 6324516.757451487)</td>\n      <td>43.947362</td>\n      <td>6.975479</td>\n      <td>0</td>\n    </tr>\n    <tr>\n      <th>5</th>\n      <td>5</td>\n      <td>unknown</td>\n      <td>1</td>\n      <td>2020-09-26 13:29:44</td>\n      <td>POINT (1019386.344763959 6324694.618956082)</td>\n      <td>43.948794</td>\n      <td>6.980177</td>\n      <td>0</td>\n    </tr>\n    <tr>\n      <th>6</th>\n      <td>6</td>\n      <td>unknown</td>\n      <td>1</td>\n      <td>2020-09-26 13:30:36</td>\n      <td>POINT (1019470.672897963 6324760.065061009)</td>\n      <td>43.949344</td>\n      <td>6.981267</td>\n      <td>0</td>\n    </tr>\n    <tr>\n      <th>7</th>\n      <td>7</td>\n      <td>foodPackage</td>\n      <td>2</td>\n      <td>2020-09-26 13:30:57</td>\n      <td>POINT (1019493.303073367 6324779.430958421)</td>\n      <td>43.949508</td>\n      <td>6.981561</td>\n      <td>0</td>\n    </tr>\n    <tr>\n      <th>8</th>\n      <td>8</td>\n      <td>unknown</td>\n      <td>1</td>\n      <td>2020-09-26 13:32:37</td>\n      <td>POINT (1019664.192892549 6324821.556933214)</td>\n      <td>43.949809</td>\n      <td>6.983713</td>\n      <td>0</td>\n    </tr>\n    <tr>\n      <th>9</th>\n      <td>9</td>\n      <td>unknown</td>\n      <td>1</td>\n      <td>2020-09-26 13:33:01</td>\n      <td>POINT (1019738.226362991 6324806.671141523)</td>\n      <td>43.949641</td>\n      <td>6.984625</td>\n      <td>0</td>\n    </tr>\n    <tr>\n      <th>10</th>\n      <td>10</td>\n      <td>unknown</td>\n      <td>1</td>\n      <td>2020-09-26 13:33:02</td>\n      <td>POINT (1019738.226362991 6324806.671141523)</td>\n      <td>43.949641</td>\n      <td>6.984625</td>\n      <td>0</td>\n    </tr>\n    <tr>\n      <th>11</th>\n      <td>11</td>\n      <td>unknown10</td>\n      <td>1</td>\n      <td>2020-09-26 13:34:08</td>\n      <td>POINT (1019860.628349893 6324773.736215156)</td>\n      <td>43.949290</td>\n      <td>6.986127</td>\n      <td>0</td>\n    </tr>\n    <tr>\n      <th>12</th>\n      <td>12</td>\n      <td>unknown</td>\n      <td>1</td>\n      <td>2020-09-26 13:35:15</td>\n      <td>POINT (1019958.443778758 6324677.334694792)</td>\n      <td>43.948379</td>\n      <td>6.987283</td>\n      <td>0</td>\n    </tr>\n    <tr>\n      <th>13</th>\n      <td>13</td>\n      <td>unknown</td>\n      <td>1</td>\n      <td>2020-09-26 13:35:16</td>\n      <td>POINT (1019958.443778758 6324677.334694792)</td>\n      <td>43.948379</td>\n      <td>6.987283</td>\n      <td>0</td>\n    </tr>\n    <tr>\n      <th>14</th>\n      <td>14</td>\n      <td>unknown</td>\n      <td>1</td>\n      <td>2020-09-26 13:35:31</td>\n      <td>POINT (1019976.903812164 6324626.989129432)</td>\n      <td>43.947918</td>\n      <td>6.987481</td>\n      <td>0</td>\n    </tr>\n    <tr>\n      <th>15</th>\n      <td>15</td>\n      <td>unknown</td>\n      <td>1</td>\n      <td>2020-09-26 13:40:14</td>\n      <td>POINT (1020157.173433011 6324428.674031194)</td>\n      <td>43.946054</td>\n      <td>6.989599</td>\n      <td>0</td>\n    </tr>\n    <tr>\n      <th>16</th>\n      <td>16</td>\n      <td>unknown</td>\n      <td>1</td>\n      <td>2020-09-26 13:42:02</td>\n      <td>POINT (1020305.433001081 6324362.776200551)</td>\n      <td>43.945394</td>\n      <td>6.991402</td>\n      <td>0</td>\n    </tr>\n    <tr>\n      <th>17</th>\n      <td>17</td>\n      <td>unknown</td>\n      <td>1</td>\n      <td>2020-09-26 13:43:44</td>\n      <td>POINT (1020534.917109964 6324490.14311416)</td>\n      <td>43.946434</td>\n      <td>6.994337</td>\n      <td>0</td>\n    </tr>\n    <tr>\n      <th>18</th>\n      <td>18</td>\n      <td>unknown</td>\n      <td>1</td>\n      <td>2020-09-26 13:44:40</td>\n      <td>POINT (1020676.065494159 6324497.735848698)</td>\n      <td>43.946438</td>\n      <td>6.996098</td>\n      <td>0</td>\n    </tr>\n    <tr>\n      <th>19</th>\n      <td>19</td>\n      <td>unknown</td>\n      <td>1</td>\n      <td>2020-09-26 13:45:36</td>\n      <td>POINT (1020789.44280674 6324480.226545725)</td>\n      <td>43.946229</td>\n      <td>6.997497</td>\n      <td>0</td>\n    </tr>\n    <tr>\n      <th>20</th>\n      <td>20</td>\n      <td>unknown</td>\n      <td>1</td>\n      <td>2020-09-26 13:47:21</td>\n      <td>POINT (1020978.700331234 6324435.213150994)</td>\n      <td>43.945738</td>\n      <td>6.999823</td>\n      <td>0</td>\n    </tr>\n    <tr>\n      <th>21</th>\n      <td>21</td>\n      <td>unknown</td>\n      <td>1</td>\n      <td>2020-09-26 13:47:22</td>\n      <td>POINT (1020978.700331234 6324435.213150994)</td>\n      <td>43.945738</td>\n      <td>6.999823</td>\n      <td>0</td>\n    </tr>\n    <tr>\n      <th>22</th>\n      <td>22</td>\n      <td>industrials</td>\n      <td>0</td>\n      <td>2020-09-26 13:47:41</td>\n      <td>POINT (1021031.960247894 6324394.06657393)</td>\n      <td>43.945344</td>\n      <td>7.000460</td>\n      <td>0</td>\n    </tr>\n    <tr>\n      <th>23</th>\n      <td>23</td>\n      <td>unknown10</td>\n      <td>1</td>\n      <td>2020-09-26 13:48:26</td>\n      <td>POINT (1021130.695712873 6324358.308686613)</td>\n      <td>43.944978</td>\n      <td>7.001666</td>\n      <td>0</td>\n    </tr>\n    <tr>\n      <th>24</th>\n      <td>24</td>\n      <td>unknown</td>\n      <td>1</td>\n      <td>2020-09-26 13:49:29</td>\n      <td>POINT (1021253.455382319 6324278.444402293)</td>\n      <td>43.944204</td>\n      <td>7.003142</td>\n      <td>0</td>\n    </tr>\n    <tr>\n      <th>25</th>\n      <td>25</td>\n      <td>unknown</td>\n      <td>1</td>\n      <td>2020-09-26 13:49:30</td>\n      <td>POINT (1021253.455382319 6324278.444402293)</td>\n      <td>43.944204</td>\n      <td>7.003142</td>\n      <td>0</td>\n    </tr>\n    <tr>\n      <th>26</th>\n      <td>26</td>\n      <td>unknown</td>\n      <td>1</td>\n      <td>2020-09-26 13:51:08</td>\n      <td>POINT (1021470.565402998 6324286.404729269)</td>\n      <td>43.944177</td>\n      <td>7.005848</td>\n      <td>0</td>\n    </tr>\n    <tr>\n      <th>27</th>\n      <td>27</td>\n      <td>fishHunting</td>\n      <td>2</td>\n      <td>2020-09-26 13:53:16</td>\n      <td>POINT (1021725.885795215 6324327.555639304)</td>\n      <td>43.944430</td>\n      <td>7.009050</td>\n      <td>0</td>\n    </tr>\n    <tr>\n      <th>28</th>\n      <td>28</td>\n      <td>unknown</td>\n      <td>1</td>\n      <td>2020-09-26 13:53:21</td>\n      <td>POINT (1021742.847200139 6324340.377925199)</td>\n      <td>43.944538</td>\n      <td>7.009269</td>\n      <td>0</td>\n    </tr>\n    <tr>\n      <th>29</th>\n      <td>29</td>\n      <td>unknown</td>\n      <td>1</td>\n      <td>2020-09-26 13:53:22</td>\n      <td>POINT (1021742.847200139 6324340.377925199)</td>\n      <td>43.944538</td>\n      <td>7.009269</td>\n      <td>0</td>\n    </tr>\n  </tbody>\n</table>\n</div>"
     },
     "metadata": {},
     "execution_count": 169
    }
   ],
   "source": [
    "data_df = get_df_data(json_trash_df,json_gps_df)\n",
    "data_df"
   ]
  },
  {
   "cell_type": "code",
   "execution_count": null,
   "metadata": {},
   "outputs": [],
   "source": []
  }
 ]
}