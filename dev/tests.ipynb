{
 "nbformat": 4,
 "nbformat_minor": 2,
 "metadata": {
  "language_info": {
   "name": "python",
   "codemirror_mode": {
    "name": "ipython",
    "version": 3
   },
   "version": "3.6.9-final"
  },
  "orig_nbformat": 2,
  "file_extension": ".py",
  "mimetype": "text/x-python",
  "name": "python",
  "npconvert_exporter": "python",
  "pygments_lexer": "ipython3",
  "version": 3,
  "kernelspec": {
   "name": "python36964bitsurfridercondaa4d29431e9f947419d6d850056118d13",
   "display_name": "Python 3.6.9 64-bit ('surfrider': conda)"
  }
 },
 "cells": [
  {
   "cell_type": "code",
   "execution_count": null,
   "metadata": {},
   "outputs": [],
   "source": [
    "from modules.ai import AIready,ai_ready,get_prediction,json_prediction"
   ]
  },
  {
   "cell_type": "code",
   "execution_count": null,
   "metadata": {},
   "outputs": [],
   "source": [
    "import os\n",
    "os.getcwd()"
   ]
  },
  {
   "cell_type": "code",
   "execution_count": null,
   "metadata": {},
   "outputs": [],
   "source": [
    "import json\n",
    "with open('../data/prediction.json') as json_file:\n",
    "    data = json.load(json_file)"
   ]
  },
  {
   "cell_type": "code",
   "execution_count": null,
   "metadata": {},
   "outputs": [],
   "source": [
    "for f in data['detected_trash']:\n",
    "    print(f)\n",
    "    print(f['frame_to_box'])\n",
    "    ff = f['frame_to_box']\n",
    "    print(ff.keys())\n",
    "    print(len(ff))"
   ]
  },
  {
   "cell_type": "code",
   "execution_count": 49,
   "metadata": {},
   "outputs": [
    {
     "data": {
      "text/plain": "44"
     },
     "execution_count": 49,
     "metadata": {},
     "output_type": "execute_result"
    }
   ],
   "source": [
    "int(list(f['frame_to_box'].keys())[0])"
   ]
  },
  {
   "cell_type": "code",
   "execution_count": 50,
   "metadata": {},
   "outputs": [],
   "source": [
    "def get_frame_id(frame_2_box:dict)->int:\n",
    "    temp_dico = frame_2_box['frame_to_box']    \n",
    "    return int(list(temp_dico.keys())[0]) "
   ]
  },
  {
   "cell_type": "code",
   "execution_count": 55,
   "metadata": {},
   "outputs": [
    {
     "data": {
      "text/plain": "0"
     },
     "execution_count": 55,
     "metadata": {},
     "output_type": "execute_result"
    }
   ],
   "source": [
    "get_frame_id(f)"
   ]
  },
  {
   "cell_type": "code",
   "execution_count": 54,
   "metadata": {},
   "outputs": [],
   "source": [
    "f = data['detected_trash'][0]"
   ]
  },
  {
   "cell_type": "code",
   "execution_count": 56,
   "metadata": {},
   "outputs": [],
   "source": [
    "from moviepy.editor import VideoFileClip\n",
    "\n",
    "\n",
    "def get_media_duration(media_path: str) -> float:\n",
    "    \"\"\" Extract duration from a media file\n",
    "    Taken from `here <https://www.reddit.com/r/moviepy/comments/2bsnrq/is_it_possible_to_get_the_length_of_a_video/>`_\n",
    "    Parameters\n",
    "    ----------\n",
    "    media_path: Path to media\n",
    "    Returns\n",
    "    -------\n",
    "    duration: duration of the media\n",
    "    \"\"\"\n",
    "    clip = VideoFileClip(media_path)\n",
    "    return clip.duration"
   ]
  },
  {
   "cell_type": "code",
   "execution_count": null,
   "metadata": {},
   "outputs": [],
   "source": [
    "get_media_duration('/tmp')"
   ]
  },
  {
   "cell_type": "code",
   "execution_count": 58,
   "metadata": {},
   "outputs": [
    {
     "data": {
      "text/plain": "682.43"
     },
     "execution_count": 58,
     "metadata": {},
     "output_type": "execute_result"
    }
   ],
   "source": [
    "get_media_duration('/tmp/28022020_Boudigau_4.MP4')"
   ]
  },
  {
   "cell_type": "code",
   "execution_count": 60,
   "metadata": {},
   "outputs": [],
   "source": [
    "media_path = '/tmp/28022020_Boudigau_4.MP4'\n",
    "clip = VideoFileClip(media_path)"
   ]
  },
  {
   "cell_type": "code",
   "execution_count": 63,
   "metadata": {},
   "outputs": [
    {
     "data": {
      "text/plain": "float"
     },
     "execution_count": 63,
     "metadata": {},
     "output_type": "execute_result"
    }
   ],
   "source": [
    "type(clip.fps)"
   ]
  },
  {
   "source": [
    "import modules.ai"
   ],
   "cell_type": "code",
   "outputs": [],
   "metadata": {},
   "execution_count": 81
  },
  {
   "source": [
    "from modules.media import get_media_duration, get_media_fps\n",
    "from modules.ai import ai_ready,get_trash_time_index,get_trash_time_stamp"
   ],
   "cell_type": "code",
   "outputs": [],
   "metadata": {},
   "execution_count": 1
  },
  {
   "source": [
    "media_path = '/tmp/28022020_Boudigau_4.MP4'\n",
    "media_duration = get_media_duration(media_path)\n",
    "media_fps = get_media_fps(media_path)\n",
    "print(media_duration)\n",
    "print(media_fps)"
   ],
   "cell_type": "code",
   "outputs": [
    {
     "output_type": "stream",
     "name": "stdout",
     "text": "682.43\n24\n"
    }
   ],
   "metadata": {},
   "execution_count": 2
  },
  {
   "source": [
    "import json\n",
    "with open('../data/prediction.json') as json_file:\n",
    "    data = json.load(json_file)\n",
    "f = data['detected_trash'][0]\n",
    "time_index = 60\n",
    "time_stamp = get_trash_time_stamp(time_index,media_fps)\n",
    "print(time_index)\n",
    "print(time_stamp)"
   ],
   "cell_type": "code",
   "outputs": [
    {
     "output_type": "stream",
     "name": "stdout",
     "text": "60\n2\n"
    }
   ],
   "metadata": {},
   "execution_count": 6
  },
  {
   "source": [
    "print(time_index)\n",
    "print(media_fps)\n",
    "print(int(time_index % media_fps))"
   ],
   "cell_type": "code",
   "outputs": [
    {
     "output_type": "stream",
     "name": "stdout",
     "text": "48\n24\n0\n"
    }
   ],
   "metadata": {},
   "execution_count": 8
  },
  {
   "source": [
    "def get_trash_time_stamp(timeIndex:int,mediaFPS:float)->int:\n",
    "    \"\"\" Get trash timestamp with regard to media\n",
    "\n",
    "    Arguments:\n",
    "        timeIndex {int} -- [description]\n",
    "        mediaFPS {float} -- [description]\n",
    "\n",
    "    Returns:\n",
    "        int -- [description]\n",
    "    \"\"\"\n",
    "    return int(timeIndex % mediaFPS)"
   ],
   "cell_type": "code",
   "outputs": [],
   "metadata": {},
   "execution_count": 19
  },
  {
   "cell_type": "code",
   "execution_count": null,
   "metadata": {},
   "outputs": [],
   "source": []
  }
 ]
}