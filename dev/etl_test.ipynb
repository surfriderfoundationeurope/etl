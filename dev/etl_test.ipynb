{
 "nbformat": 4,
 "nbformat_minor": 2,
 "metadata": {
  "language_info": {
   "name": "python",
   "codemirror_mode": {
    "name": "ipython",
    "version": 3
   },
   "version": "3.6.9-final"
  },
  "orig_nbformat": 2,
  "file_extension": ".py",
  "mimetype": "text/x-python",
  "name": "python",
  "npconvert_exporter": "python",
  "pygments_lexer": "ipython3",
  "version": 3,
  "kernelspec": {
   "name": "python36964bitsurfridercondaa4d29431e9f947419d6d850056118d13",
   "display_name": "Python 3.6.9 64-bit ('surfrider': conda)"
  }
 },
 "cells": [
  {
   "cell_type": "code",
   "execution_count": 2,
   "metadata": {},
   "outputs": [],
   "source": [
    "# import prerequesite for blob\n",
    "from azure.storage.blob import ContainerClient\n",
    "from azure.storage.blob import BlobClient\n",
    "from utils.blob import list_blob_in_container,get_blob_infos,download_blob\n",
    "# import prerequesite for ai\n",
    "import json\n",
    "import requests\n",
    "import logging\n",
    "from utils.ai import is_ai_ready,get_prediction,get_json_prediction,get_clean_timed_prediction,get_trash_label,map_label_to_trash_id_PG,get_trash_first_time,get_trash_time_index,get_df_prediction,get_df_manual_trash\n",
    "# import prerequesite for gps\n",
    "import gpxpy\n",
    "import gpxpy.gpx\n",
    "import json\n",
    "import subprocess\n",
    "import datetime\n",
    "from datetime import datetime\n",
    "from datetime import timedelta\n",
    "from shapely.geometry import Point\n",
    "from functools import partial\n",
    "import pyproj\n",
    "from shapely.ops import transform\n",
    "from tqdm import tqdm\n",
    "from utils.gps import extract_gpx_from_gopro,parse_gpx,get_gps_point_list,create_time,create_latitude,create_longitude,create_elevation,fill_gps,long_lat_to_shape_point,transform_geo,get_df_trash_gps,get_gpx_name,get_df_manual_gps\n",
    "# import prerequesite from media\n",
    "from utils.media import get_media_duration,get_media_fps\n",
    "# import prerequesite for postgre\n",
    "import os\n",
    "import psycopg2\n",
    "from utils.postgre import get_pg_connection_string,open_pg_connection,close_pg_connection,insert_trash_2,insert_trash_df,get_df_data\n",
    "# import exception\n",
    "from utils.exceptions import ETLError\n",
    "import warnings\n",
    "warnings.filterwarnings('ignore')\n",
    "# import argparse to pass parameters to main function\n",
    "import argparse\n",
    "import pathlib"
   ]
  },
  {
   "cell_type": "code",
   "execution_count": 3,
   "metadata": {},
   "outputs": [],
   "source": [
    "with open('../datasample/prediction.json') as json_file:\n",
    "    jsonPrediction = json.load(json_file)"
   ]
  },
  {
   "cell_type": "code",
   "execution_count": 4,
   "metadata": {},
   "outputs": [],
   "source": [
    "DOWNLOAD_PATH = '/tmp'\n",
    "AI_PORT = '5000'"
   ]
  },
  {
   "cell_type": "code",
   "execution_count": 5,
   "metadata": {},
   "outputs": [],
   "source": [
    "blob_name = 'mobile.mp4'\n",
    "container_name = 'campaign0'\n",
    "source_data = 'mobile'\n",
    "prediction_source = 'json'\n",
    "\n",
    "connection_string = os.getenv(\"CONN_STRING\")\n",
    "pgserver = os.getenv(\"PGSERVER\")\n",
    "pgdatabase = os.getenv(\"PGDATABASE\")\n",
    "pgusername = os.getenv(\"PGUSERNAME\")\n",
    "pgpassword = os.getenv(\"PGPWD\")"
   ]
  },
  {
   "cell_type": "code",
   "execution_count": 6,
   "metadata": {},
   "outputs": [],
   "source": [
    "if not blob_name in os.listdir(DOWNLOAD_PATH):\n",
    "    blob_video_client = BlobClient.from_connection_string(\n",
    "        conn_str=connection_string, container_name=container_name, blob_name=blob_name)\n",
    "    download_blob(blob_video_client, DOWNLOAD_PATH)\n",
    "if source_data == 'mobile':\n",
    "    blob_gpx_name = get_gpx_name(blob_name)\n",
    "    if not blob_gpx_name in os.listdir(DOWNLOAD_PATH):\n",
    "        blob_gpx_client = BlobClient.from_connection_string(\n",
    "            conn_str=connection_string, container_name=container_name, blob_name=blob_gpx_name)\n",
    "        download_blob(blob_gpx_client, DOWNLOAD_PATH)"
   ]
  },
  {
   "cell_type": "code",
   "execution_count": 7,
   "metadata": {},
   "outputs": [],
   "source": [
    "if source_data == 'gopro' or source_data == 'mobile':\n",
    "            # From AI inference server\n",
    "            if prediction_source == 'ai':\n",
    "                # Test that AI service is ready\n",
    "                ai_ready = is_ai_ready(f'{ai_url}:{AI_PORT}')\n",
    "                if ai_ready == True:\n",
    "                    prediction = get_prediction(\n",
    "                        blob_name, f'{ai_url}:{AI_PORT}')\n",
    "                else:\n",
    "                    logger.info(\n",
    "                        \"Early exit of ETL workflow as AI service is not available\")\n",
    "                    exit()\n",
    "                # Cast prediction to JSON/Dictionnary format\n",
    "                json_prediction = get_json_prediction(prediction)\n",
    "\n",
    "            # From JSON file\n",
    "            elif prediction_source == 'json':\n",
    "                with open('../datasample/prediction.json') as json_file:\n",
    "                    json_prediction = json.load(json_file)"
   ]
  },
  {
   "cell_type": "code",
   "execution_count": 8,
   "metadata": {},
   "outputs": [],
   "source": [
    "if source_data == 'gopro':\n",
    "    gpx_path = extract_gpx_from_gopro(f'{DOWNLOAD_PATH}/{blob_name}')\n",
    "elif source_data == 'mobile' or source_data == 'manual':\n",
    "    gpx_path = f'{DOWNLOAD_PATH}/{blob_gpx_name}'\n",
    "\n",
    "# GPX parsing\n",
    "gpx_data = parse_gpx(gpx_path)"
   ]
  },
  {
   "cell_type": "code",
   "execution_count": 9,
   "metadata": {},
   "outputs": [],
   "source": [
    "# GPS Points\n",
    "if source_data == 'gopro' or source_data == 'mobile':\n",
    "    gps_points = get_gps_point_list(gpx_data)  # full list of gps point\n",
    "elif source_data == 'manual':\n",
    "    gps_points = gpx_data.waypoints  # list of gps point with trash"
   ]
  },
  {
   "cell_type": "code",
   "execution_count": 10,
   "metadata": {},
   "outputs": [],
   "source": [
    "# Video duration\n",
    "if source_data == 'gopro' or source_data == 'mobile':\n",
    "    video_duration = get_media_duration(f'{DOWNLOAD_PATH}/{blob_name}')\n",
    "    media_fps = get_media_fps(json_prediction)\n",
    "\n",
    "if source_data == 'gopro' or source_data == 'mobile':\n",
    "    video_duration_sup = int(video_duration)+1\n",
    "    gps_points_filled = fill_gps(gps_points, video_duration_sup)\n"
   ]
  },
  {
   "cell_type": "code",
   "execution_count": 11,
   "metadata": {},
   "outputs": [],
   "source": [
    "if source_data == 'gopro' or source_data == 'mobile':\n",
    "    df_predictions = get_df_prediction(json_prediction, media_fps)\n",
    "    df_trash_gps = get_df_trash_gps(df_predictions, gps_points_filled)\n",
    "    df_data = get_df_data(df_predictions, df_trash_gps)\n",
    "    campaign_id = 'ec501e35-b022-4c73-9988-a41218d6105e'\n",
    "    df_data['campaign_id'] = campaign_id"
   ]
  },
  {
   "cell_type": "code",
   "execution_count": 14,
   "metadata": {},
   "outputs": [
    {
     "data": {
      "text/html": "<div>\n<style scoped>\n    .dataframe tbody tr th:only-of-type {\n        vertical-align: middle;\n    }\n\n    .dataframe tbody tr th {\n        vertical-align: top;\n    }\n\n    .dataframe thead th {\n        text-align: right;\n    }\n</style>\n<table border=\"1\" class=\"dataframe\">\n  <thead>\n    <tr style=\"text-align: right;\">\n      <th></th>\n      <th>time_index</th>\n      <th>frame_to_box</th>\n      <th>id</th>\n      <th>label</th>\n      <th>trash_type_id</th>\n      <th>Time</th>\n      <th>the_geom</th>\n      <th>Latitude</th>\n      <th>Longitude</th>\n      <th>Elevation</th>\n      <th>campaign_id</th>\n    </tr>\n  </thead>\n  <tbody>\n    <tr>\n      <th>0</th>\n      <td>0</td>\n      <td>[0.27, 0.12, 0.3, 0.18]</td>\n      <td>0</td>\n      <td>fragments</td>\n      <td>4</td>\n      <td>2020-02-28 11:20:34+00:00</td>\n      <td>POINT (340207.587546391 6288394.037647896)</td>\n      <td>43.603185</td>\n      <td>-1.457192</td>\n      <td>59.616760</td>\n      <td>ec501e35-b022-4c73-9988-a41218d6105e</td>\n    </tr>\n    <tr>\n      <th>1</th>\n      <td>0</td>\n      <td>[0.28, 0.45, 0.29, 0.48]</td>\n      <td>1</td>\n      <td>fragments</td>\n      <td>4</td>\n      <td>2020-02-28 11:20:34+00:00</td>\n      <td>POINT (340207.587546391 6288394.037647896)</td>\n      <td>43.603185</td>\n      <td>-1.457192</td>\n      <td>59.616760</td>\n      <td>ec501e35-b022-4c73-9988-a41218d6105e</td>\n    </tr>\n    <tr>\n      <th>2</th>\n      <td>0</td>\n      <td>[0.18, 0.43, 0.2, 0.48]</td>\n      <td>2</td>\n      <td>fragments</td>\n      <td>4</td>\n      <td>2020-02-28 11:20:34+00:00</td>\n      <td>POINT (340207.587546391 6288394.037647896)</td>\n      <td>43.603185</td>\n      <td>-1.457192</td>\n      <td>59.616760</td>\n      <td>ec501e35-b022-4c73-9988-a41218d6105e</td>\n    </tr>\n    <tr>\n      <th>3</th>\n      <td>1</td>\n      <td>[0.15, 0.15, 0.18, 0.21]</td>\n      <td>3</td>\n      <td>fragments</td>\n      <td>4</td>\n      <td>2020-02-28 11:20:35+00:00</td>\n      <td>POINT (340207.8647825579 6288393.976342013)</td>\n      <td>43.603184</td>\n      <td>-1.457189</td>\n      <td>57.599792</td>\n      <td>ec501e35-b022-4c73-9988-a41218d6105e</td>\n    </tr>\n    <tr>\n      <th>4</th>\n      <td>1</td>\n      <td>[0.32, 0.11, 0.35, 0.17]</td>\n      <td>4</td>\n      <td>fragments</td>\n      <td>4</td>\n      <td>2020-02-28 11:20:35+00:00</td>\n      <td>POINT (340207.8647825579 6288393.976342013)</td>\n      <td>43.603184</td>\n      <td>-1.457189</td>\n      <td>57.599792</td>\n      <td>ec501e35-b022-4c73-9988-a41218d6105e</td>\n    </tr>\n    <tr>\n      <th>5</th>\n      <td>1</td>\n      <td>[0.17, 0.16, 0.19, 0.23]</td>\n      <td>5</td>\n      <td>fragments</td>\n      <td>4</td>\n      <td>2020-02-28 11:20:35+00:00</td>\n      <td>POINT (340207.8647825579 6288393.976342013)</td>\n      <td>43.603184</td>\n      <td>-1.457189</td>\n      <td>57.599792</td>\n      <td>ec501e35-b022-4c73-9988-a41218d6105e</td>\n    </tr>\n    <tr>\n      <th>6</th>\n      <td>2</td>\n      <td>[0.42, 0.38, 0.45, 0.51]</td>\n      <td>6</td>\n      <td>fragments</td>\n      <td>4</td>\n      <td>2020-02-28 11:20:36+00:00</td>\n      <td>POINT (340208.0997494296 6288395.099614676)</td>\n      <td>43.603194</td>\n      <td>-1.457187</td>\n      <td>57.375122</td>\n      <td>ec501e35-b022-4c73-9988-a41218d6105e</td>\n    </tr>\n    <tr>\n      <th>7</th>\n      <td>2</td>\n      <td>[0.99, 0.35, 1.0, 0.4]</td>\n      <td>7</td>\n      <td>fragments</td>\n      <td>4</td>\n      <td>2020-02-28 11:20:36+00:00</td>\n      <td>POINT (340208.0997494296 6288395.099614676)</td>\n      <td>43.603194</td>\n      <td>-1.457187</td>\n      <td>57.375122</td>\n      <td>ec501e35-b022-4c73-9988-a41218d6105e</td>\n    </tr>\n    <tr>\n      <th>8</th>\n      <td>3</td>\n      <td>[0.28, 0.4, 0.31, 0.51]</td>\n      <td>8</td>\n      <td>fragments</td>\n      <td>4</td>\n      <td>2020-02-28 11:20:37+00:00</td>\n      <td>POINT (340208.1528626664 6288395.023143975)</td>\n      <td>43.603194</td>\n      <td>-1.457186</td>\n      <td>56.295898</td>\n      <td>ec501e35-b022-4c73-9988-a41218d6105e</td>\n    </tr>\n    <tr>\n      <th>9</th>\n      <td>3</td>\n      <td>[0.19, 0.14, 0.23, 0.21]</td>\n      <td>9</td>\n      <td>fragments</td>\n      <td>4</td>\n      <td>2020-02-28 11:20:37+00:00</td>\n      <td>POINT (340208.1528626664 6288395.023143975)</td>\n      <td>43.603194</td>\n      <td>-1.457186</td>\n      <td>56.295898</td>\n      <td>ec501e35-b022-4c73-9988-a41218d6105e</td>\n    </tr>\n    <tr>\n      <th>10</th>\n      <td>3</td>\n      <td>[0.27, 0.38, 0.29, 0.41]</td>\n      <td>10</td>\n      <td>fragments</td>\n      <td>4</td>\n      <td>2020-02-28 11:20:37+00:00</td>\n      <td>POINT (340208.1528626664 6288395.023143975)</td>\n      <td>43.603194</td>\n      <td>-1.457186</td>\n      <td>56.295898</td>\n      <td>ec501e35-b022-4c73-9988-a41218d6105e</td>\n    </tr>\n    <tr>\n      <th>11</th>\n      <td>3</td>\n      <td>[0.28, 0.42, 0.3, 0.51]</td>\n      <td>11</td>\n      <td>fragments</td>\n      <td>4</td>\n      <td>2020-02-28 11:20:37+00:00</td>\n      <td>POINT (340208.1528626664 6288395.023143975)</td>\n      <td>43.603194</td>\n      <td>-1.457186</td>\n      <td>56.295898</td>\n      <td>ec501e35-b022-4c73-9988-a41218d6105e</td>\n    </tr>\n    <tr>\n      <th>12</th>\n      <td>3</td>\n      <td>[0.66, 0.09, 0.73, 0.15]</td>\n      <td>12</td>\n      <td>bottles</td>\n      <td>3</td>\n      <td>2020-02-28 11:20:37+00:00</td>\n      <td>POINT (340208.1528626664 6288395.023143975)</td>\n      <td>43.603194</td>\n      <td>-1.457186</td>\n      <td>56.295898</td>\n      <td>ec501e35-b022-4c73-9988-a41218d6105e</td>\n    </tr>\n    <tr>\n      <th>13</th>\n      <td>3</td>\n      <td>[0.66, 0.08, 0.73, 0.15]</td>\n      <td>13</td>\n      <td>fragments</td>\n      <td>4</td>\n      <td>2020-02-28 11:20:37+00:00</td>\n      <td>POINT (340208.1528626664 6288395.023143975)</td>\n      <td>43.603194</td>\n      <td>-1.457186</td>\n      <td>56.295898</td>\n      <td>ec501e35-b022-4c73-9988-a41218d6105e</td>\n    </tr>\n    <tr>\n      <th>14</th>\n      <td>3</td>\n      <td>[0.21, 0.38, 0.23, 0.52]</td>\n      <td>14</td>\n      <td>fragments</td>\n      <td>4</td>\n      <td>2020-02-28 11:20:37+00:00</td>\n      <td>POINT (340208.1528626664 6288395.023143975)</td>\n      <td>43.603194</td>\n      <td>-1.457186</td>\n      <td>56.295898</td>\n      <td>ec501e35-b022-4c73-9988-a41218d6105e</td>\n    </tr>\n    <tr>\n      <th>15</th>\n      <td>3</td>\n      <td>[0.92, 0.37, 0.94, 0.4]</td>\n      <td>15</td>\n      <td>fragments</td>\n      <td>4</td>\n      <td>2020-02-28 11:20:37+00:00</td>\n      <td>POINT (340208.1528626664 6288395.023143975)</td>\n      <td>43.603194</td>\n      <td>-1.457186</td>\n      <td>56.295898</td>\n      <td>ec501e35-b022-4c73-9988-a41218d6105e</td>\n    </tr>\n    <tr>\n      <th>16</th>\n      <td>3</td>\n      <td>[0.66, 0.08, 0.73, 0.14]</td>\n      <td>16</td>\n      <td>others</td>\n      <td>1</td>\n      <td>2020-02-28 11:20:37+00:00</td>\n      <td>POINT (340208.1528626664 6288395.023143975)</td>\n      <td>43.603194</td>\n      <td>-1.457186</td>\n      <td>56.295898</td>\n      <td>ec501e35-b022-4c73-9988-a41218d6105e</td>\n    </tr>\n    <tr>\n      <th>17</th>\n      <td>4</td>\n      <td>[1.17, 0.61, 1.33, 0.74]</td>\n      <td>17</td>\n      <td>fragments</td>\n      <td>4</td>\n      <td>2020-02-28 11:20:38+00:00</td>\n      <td>POINT (340208.8295117432 6288395.888805347)</td>\n      <td>43.603202</td>\n      <td>-1.457178</td>\n      <td>55.598022</td>\n      <td>ec501e35-b022-4c73-9988-a41218d6105e</td>\n    </tr>\n    <tr>\n      <th>18</th>\n      <td>4</td>\n      <td>[1.19, 0.62, 1.33, 0.75]</td>\n      <td>18</td>\n      <td>others</td>\n      <td>1</td>\n      <td>2020-02-28 11:20:38+00:00</td>\n      <td>POINT (340208.8295117432 6288395.888805347)</td>\n      <td>43.603202</td>\n      <td>-1.457178</td>\n      <td>55.598022</td>\n      <td>ec501e35-b022-4c73-9988-a41218d6105e</td>\n    </tr>\n    <tr>\n      <th>19</th>\n      <td>5</td>\n      <td>[0.93, 0.51, 1.33, 0.74]</td>\n      <td>19</td>\n      <td>others</td>\n      <td>1</td>\n      <td>2020-02-28 11:20:39+00:00</td>\n      <td>POINT (340209.3486346506 6288396.701030367)</td>\n      <td>43.603209</td>\n      <td>-1.457173</td>\n      <td>54.850220</td>\n      <td>ec501e35-b022-4c73-9988-a41218d6105e</td>\n    </tr>\n    <tr>\n      <th>20</th>\n      <td>5</td>\n      <td>[0.93, 0.51, 1.33, 0.75]</td>\n      <td>20</td>\n      <td>fragments</td>\n      <td>4</td>\n      <td>2020-02-28 11:20:39+00:00</td>\n      <td>POINT (340209.3486346506 6288396.701030367)</td>\n      <td>43.603209</td>\n      <td>-1.457173</td>\n      <td>54.850220</td>\n      <td>ec501e35-b022-4c73-9988-a41218d6105e</td>\n    </tr>\n    <tr>\n      <th>21</th>\n      <td>5</td>\n      <td>[0.95, 0.52, 1.33, 0.75]</td>\n      <td>21</td>\n      <td>bottles</td>\n      <td>3</td>\n      <td>2020-02-28 11:20:39+00:00</td>\n      <td>POINT (340209.3486346506 6288396.701030367)</td>\n      <td>43.603209</td>\n      <td>-1.457173</td>\n      <td>54.850220</td>\n      <td>ec501e35-b022-4c73-9988-a41218d6105e</td>\n    </tr>\n    <tr>\n      <th>22</th>\n      <td>5</td>\n      <td>[1.19, 0.29, 1.33, 0.73]</td>\n      <td>22</td>\n      <td>fragments</td>\n      <td>4</td>\n      <td>2020-02-28 11:20:39+00:00</td>\n      <td>POINT (340209.3486346506 6288396.701030367)</td>\n      <td>43.603209</td>\n      <td>-1.457173</td>\n      <td>54.850220</td>\n      <td>ec501e35-b022-4c73-9988-a41218d6105e</td>\n    </tr>\n    <tr>\n      <th>23</th>\n      <td>5</td>\n      <td>[0.33, 0.56, 0.35, 0.58]</td>\n      <td>23</td>\n      <td>fragments</td>\n      <td>4</td>\n      <td>2020-02-28 11:20:39+00:00</td>\n      <td>POINT (340209.3486346506 6288396.701030367)</td>\n      <td>43.603209</td>\n      <td>-1.457173</td>\n      <td>54.850220</td>\n      <td>ec501e35-b022-4c73-9988-a41218d6105e</td>\n    </tr>\n    <tr>\n      <th>24</th>\n      <td>6</td>\n      <td>[1.08, 0.32, 1.15, 0.41]</td>\n      <td>24</td>\n      <td>fragments</td>\n      <td>4</td>\n      <td>2020-02-28 11:20:40+00:00</td>\n      <td>POINT (340210.1179216283 6288397.817487028)</td>\n      <td>43.603220</td>\n      <td>-1.457164</td>\n      <td>55.613342</td>\n      <td>ec501e35-b022-4c73-9988-a41218d6105e</td>\n    </tr>\n    <tr>\n      <th>25</th>\n      <td>6</td>\n      <td>[0.17, 0.55, 0.19, 0.58]</td>\n      <td>25</td>\n      <td>fragments</td>\n      <td>4</td>\n      <td>2020-02-28 11:20:40+00:00</td>\n      <td>POINT (340210.1179216283 6288397.817487028)</td>\n      <td>43.603220</td>\n      <td>-1.457164</td>\n      <td>55.613342</td>\n      <td>ec501e35-b022-4c73-9988-a41218d6105e</td>\n    </tr>\n    <tr>\n      <th>26</th>\n      <td>6</td>\n      <td>[1.07, 0.33, 1.14, 0.4]</td>\n      <td>26</td>\n      <td>others</td>\n      <td>1</td>\n      <td>2020-02-28 11:20:40+00:00</td>\n      <td>POINT (340210.1179216283 6288397.817487028)</td>\n      <td>43.603220</td>\n      <td>-1.457164</td>\n      <td>55.613342</td>\n      <td>ec501e35-b022-4c73-9988-a41218d6105e</td>\n    </tr>\n    <tr>\n      <th>27</th>\n      <td>6</td>\n      <td>[0.8, 0.33, 1.32, 0.74]</td>\n      <td>27</td>\n      <td>fragments</td>\n      <td>4</td>\n      <td>2020-02-28 11:20:40+00:00</td>\n      <td>POINT (340210.1179216283 6288397.817487028)</td>\n      <td>43.603220</td>\n      <td>-1.457164</td>\n      <td>55.613342</td>\n      <td>ec501e35-b022-4c73-9988-a41218d6105e</td>\n    </tr>\n    <tr>\n      <th>28</th>\n      <td>6</td>\n      <td>[1.07, 0.32, 1.15, 0.41]</td>\n      <td>28</td>\n      <td>bottles</td>\n      <td>3</td>\n      <td>2020-02-28 11:20:40+00:00</td>\n      <td>POINT (340210.1179216283 6288397.817487028)</td>\n      <td>43.603220</td>\n      <td>-1.457164</td>\n      <td>55.613342</td>\n      <td>ec501e35-b022-4c73-9988-a41218d6105e</td>\n    </tr>\n    <tr>\n      <th>29</th>\n      <td>6</td>\n      <td>[0.17, 0.55, 0.19, 0.58]</td>\n      <td>29</td>\n      <td>fragments</td>\n      <td>4</td>\n      <td>2020-02-28 11:20:40+00:00</td>\n      <td>POINT (340210.1179216283 6288397.817487028)</td>\n      <td>43.603220</td>\n      <td>-1.457164</td>\n      <td>55.613342</td>\n      <td>ec501e35-b022-4c73-9988-a41218d6105e</td>\n    </tr>\n    <tr>\n      <th>30</th>\n      <td>6</td>\n      <td>[1.09, 0.34, 1.13, 0.4]</td>\n      <td>30</td>\n      <td>fragments</td>\n      <td>4</td>\n      <td>2020-02-28 11:20:40+00:00</td>\n      <td>POINT (340210.1179216283 6288397.817487028)</td>\n      <td>43.603220</td>\n      <td>-1.457164</td>\n      <td>55.613342</td>\n      <td>ec501e35-b022-4c73-9988-a41218d6105e</td>\n    </tr>\n    <tr>\n      <th>31</th>\n      <td>6</td>\n      <td>[1.08, 0.34, 1.11, 0.39]</td>\n      <td>31</td>\n      <td>fragments</td>\n      <td>4</td>\n      <td>2020-02-28 11:20:40+00:00</td>\n      <td>POINT (340210.1179216283 6288397.817487028)</td>\n      <td>43.603220</td>\n      <td>-1.457164</td>\n      <td>55.613342</td>\n      <td>ec501e35-b022-4c73-9988-a41218d6105e</td>\n    </tr>\n    <tr>\n      <th>32</th>\n      <td>6</td>\n      <td>[0.99, 0.38, 1.04, 0.5]</td>\n      <td>32</td>\n      <td>fragments</td>\n      <td>4</td>\n      <td>2020-02-28 11:20:40+00:00</td>\n      <td>POINT (340210.1179216283 6288397.817487028)</td>\n      <td>43.603220</td>\n      <td>-1.457164</td>\n      <td>55.613342</td>\n      <td>ec501e35-b022-4c73-9988-a41218d6105e</td>\n    </tr>\n    <tr>\n      <th>33</th>\n      <td>6</td>\n      <td>[0.59, 0.42, 1.1, 0.74]</td>\n      <td>33</td>\n      <td>others</td>\n      <td>1</td>\n      <td>2020-02-28 11:20:40+00:00</td>\n      <td>POINT (340210.1179216283 6288397.817487028)</td>\n      <td>43.603220</td>\n      <td>-1.457164</td>\n      <td>55.613342</td>\n      <td>ec501e35-b022-4c73-9988-a41218d6105e</td>\n    </tr>\n    <tr>\n      <th>34</th>\n      <td>6</td>\n      <td>[0.66, 0.5, 0.68, 0.52]</td>\n      <td>34</td>\n      <td>fragments</td>\n      <td>4</td>\n      <td>2020-02-28 11:20:40+00:00</td>\n      <td>POINT (340210.1179216283 6288397.817487028)</td>\n      <td>43.603220</td>\n      <td>-1.457164</td>\n      <td>55.613342</td>\n      <td>ec501e35-b022-4c73-9988-a41218d6105e</td>\n    </tr>\n    <tr>\n      <th>35</th>\n      <td>6</td>\n      <td>[1.0, 0.32, 1.22, 0.52]</td>\n      <td>35</td>\n      <td>fragments</td>\n      <td>4</td>\n      <td>2020-02-28 11:20:40+00:00</td>\n      <td>POINT (340210.1179216283 6288397.817487028)</td>\n      <td>43.603220</td>\n      <td>-1.457164</td>\n      <td>55.613342</td>\n      <td>ec501e35-b022-4c73-9988-a41218d6105e</td>\n    </tr>\n    <tr>\n      <th>36</th>\n      <td>6</td>\n      <td>[0.83, 0.55, 0.88, 0.57]</td>\n      <td>36</td>\n      <td>bottles</td>\n      <td>3</td>\n      <td>2020-02-28 11:20:40+00:00</td>\n      <td>POINT (340210.1179216283 6288397.817487028)</td>\n      <td>43.603220</td>\n      <td>-1.457164</td>\n      <td>55.613342</td>\n      <td>ec501e35-b022-4c73-9988-a41218d6105e</td>\n    </tr>\n    <tr>\n      <th>37</th>\n      <td>6</td>\n      <td>[0.83, 0.54, 0.88, 0.57]</td>\n      <td>37</td>\n      <td>others</td>\n      <td>1</td>\n      <td>2020-02-28 11:20:40+00:00</td>\n      <td>POINT (340210.1179216283 6288397.817487028)</td>\n      <td>43.603220</td>\n      <td>-1.457164</td>\n      <td>55.613342</td>\n      <td>ec501e35-b022-4c73-9988-a41218d6105e</td>\n    </tr>\n    <tr>\n      <th>38</th>\n      <td>7</td>\n      <td>[1.13, 0.33, 1.17, 0.39]</td>\n      <td>38</td>\n      <td>fragments</td>\n      <td>4</td>\n      <td>2020-02-28 11:20:41+00:00</td>\n      <td>POINT (340210.0674759779 6288398.714215656)</td>\n      <td>43.603228</td>\n      <td>-1.457165</td>\n      <td>54.805359</td>\n      <td>ec501e35-b022-4c73-9988-a41218d6105e</td>\n    </tr>\n    <tr>\n      <th>39</th>\n      <td>7</td>\n      <td>[1.03, 0.46, 1.15, 0.5]</td>\n      <td>39</td>\n      <td>fragments</td>\n      <td>4</td>\n      <td>2020-02-28 11:20:41+00:00</td>\n      <td>POINT (340210.0674759779 6288398.714215656)</td>\n      <td>43.603228</td>\n      <td>-1.457165</td>\n      <td>54.805359</td>\n      <td>ec501e35-b022-4c73-9988-a41218d6105e</td>\n    </tr>\n    <tr>\n      <th>40</th>\n      <td>7</td>\n      <td>[0.7, 0.58, 0.72, 0.6]</td>\n      <td>40</td>\n      <td>fragments</td>\n      <td>4</td>\n      <td>2020-02-28 11:20:41+00:00</td>\n      <td>POINT (340210.0674759779 6288398.714215656)</td>\n      <td>43.603228</td>\n      <td>-1.457165</td>\n      <td>54.805359</td>\n      <td>ec501e35-b022-4c73-9988-a41218d6105e</td>\n    </tr>\n    <tr>\n      <th>41</th>\n      <td>7</td>\n      <td>[1.16, 0.37, 1.3, 0.62]</td>\n      <td>41</td>\n      <td>fragments</td>\n      <td>4</td>\n      <td>2020-02-28 11:20:41+00:00</td>\n      <td>POINT (340210.0674759779 6288398.714215656)</td>\n      <td>43.603228</td>\n      <td>-1.457165</td>\n      <td>54.805359</td>\n      <td>ec501e35-b022-4c73-9988-a41218d6105e</td>\n    </tr>\n    <tr>\n      <th>42</th>\n      <td>7</td>\n      <td>[1.19, 0.4, 1.25, 0.55]</td>\n      <td>42</td>\n      <td>fragments</td>\n      <td>4</td>\n      <td>2020-02-28 11:20:41+00:00</td>\n      <td>POINT (340210.0674759779 6288398.714215656)</td>\n      <td>43.603228</td>\n      <td>-1.457165</td>\n      <td>54.805359</td>\n      <td>ec501e35-b022-4c73-9988-a41218d6105e</td>\n    </tr>\n    <tr>\n      <th>43</th>\n      <td>7</td>\n      <td>[1.25, 0.4, 1.31, 0.53]</td>\n      <td>43</td>\n      <td>fragments</td>\n      <td>4</td>\n      <td>2020-02-28 11:20:41+00:00</td>\n      <td>POINT (340210.0674759779 6288398.714215656)</td>\n      <td>43.603228</td>\n      <td>-1.457165</td>\n      <td>54.805359</td>\n      <td>ec501e35-b022-4c73-9988-a41218d6105e</td>\n    </tr>\n    <tr>\n      <th>44</th>\n      <td>8</td>\n      <td>[0.42, 0.38, 0.43, 0.42]</td>\n      <td>44</td>\n      <td>fragments</td>\n      <td>4</td>\n      <td>2020-02-28 11:20:42+00:00</td>\n      <td>POINT (340210.5117261041 6288398.702470662)</td>\n      <td>43.603228</td>\n      <td>-1.457160</td>\n      <td>54.385010</td>\n      <td>ec501e35-b022-4c73-9988-a41218d6105e</td>\n    </tr>\n    <tr>\n      <th>45</th>\n      <td>8</td>\n      <td>[1.22, 0.34, 1.33, 0.64]</td>\n      <td>45</td>\n      <td>others</td>\n      <td>1</td>\n      <td>2020-02-28 11:20:42+00:00</td>\n      <td>POINT (340210.5117261041 6288398.702470662)</td>\n      <td>43.603228</td>\n      <td>-1.457160</td>\n      <td>54.385010</td>\n      <td>ec501e35-b022-4c73-9988-a41218d6105e</td>\n    </tr>\n    <tr>\n      <th>46</th>\n      <td>8</td>\n      <td>[0.27, 0.03, 0.3, 0.08]</td>\n      <td>46</td>\n      <td>fragments</td>\n      <td>4</td>\n      <td>2020-02-28 11:20:42+00:00</td>\n      <td>POINT (340210.5117261041 6288398.702470662)</td>\n      <td>43.603228</td>\n      <td>-1.457160</td>\n      <td>54.385010</td>\n      <td>ec501e35-b022-4c73-9988-a41218d6105e</td>\n    </tr>\n    <tr>\n      <th>47</th>\n      <td>8</td>\n      <td>[0.07, 0.05, 0.11, 0.1]</td>\n      <td>47</td>\n      <td>fragments</td>\n      <td>4</td>\n      <td>2020-02-28 11:20:42+00:00</td>\n      <td>POINT (340210.5117261041 6288398.702470662)</td>\n      <td>43.603228</td>\n      <td>-1.457160</td>\n      <td>54.385010</td>\n      <td>ec501e35-b022-4c73-9988-a41218d6105e</td>\n    </tr>\n    <tr>\n      <th>48</th>\n      <td>9</td>\n      <td>[1.13, 0.47, 1.23, 0.7]</td>\n      <td>48</td>\n      <td>fragments</td>\n      <td>4</td>\n      <td>2020-02-28 11:20:43+00:00</td>\n      <td>POINT (340210.9855790124 6288399.944712345)</td>\n      <td>43.603239</td>\n      <td>-1.457155</td>\n      <td>54.128906</td>\n      <td>ec501e35-b022-4c73-9988-a41218d6105e</td>\n    </tr>\n    <tr>\n      <th>49</th>\n      <td>9</td>\n      <td>[0.28, 0.37, 0.29, 0.41]</td>\n      <td>49</td>\n      <td>fragments</td>\n      <td>4</td>\n      <td>2020-02-28 11:20:43+00:00</td>\n      <td>POINT (340210.9855790124 6288399.944712345)</td>\n      <td>43.603239</td>\n      <td>-1.457155</td>\n      <td>54.128906</td>\n      <td>ec501e35-b022-4c73-9988-a41218d6105e</td>\n    </tr>\n    <tr>\n      <th>50</th>\n      <td>10</td>\n      <td>[0.22, 0.38, 0.24, 0.42]</td>\n      <td>50</td>\n      <td>fragments</td>\n      <td>4</td>\n      <td>2020-02-28 11:20:44+00:00</td>\n      <td>POINT (340211.5174661506 6288400.939889804)</td>\n      <td>43.603249</td>\n      <td>-1.457149</td>\n      <td>54.417908</td>\n      <td>ec501e35-b022-4c73-9988-a41218d6105e</td>\n    </tr>\n    <tr>\n      <th>51</th>\n      <td>10</td>\n      <td>[1.07, 0.48, 1.14, 0.54]</td>\n      <td>51</td>\n      <td>fragments</td>\n      <td>4</td>\n      <td>2020-02-28 11:20:44+00:00</td>\n      <td>POINT (340211.5174661506 6288400.939889804)</td>\n      <td>43.603249</td>\n      <td>-1.457149</td>\n      <td>54.417908</td>\n      <td>ec501e35-b022-4c73-9988-a41218d6105e</td>\n    </tr>\n    <tr>\n      <th>52</th>\n      <td>10</td>\n      <td>[1.07, 0.48, 1.15, 0.67]</td>\n      <td>52</td>\n      <td>fragments</td>\n      <td>4</td>\n      <td>2020-02-28 11:20:44+00:00</td>\n      <td>POINT (340211.5174661506 6288400.939889804)</td>\n      <td>43.603249</td>\n      <td>-1.457149</td>\n      <td>54.417908</td>\n      <td>ec501e35-b022-4c73-9988-a41218d6105e</td>\n    </tr>\n    <tr>\n      <th>53</th>\n      <td>10</td>\n      <td>[1.16, 0.48, 1.22, 0.56]</td>\n      <td>53</td>\n      <td>fragments</td>\n      <td>4</td>\n      <td>2020-02-28 11:20:44+00:00</td>\n      <td>POINT (340211.5174661506 6288400.939889804)</td>\n      <td>43.603249</td>\n      <td>-1.457149</td>\n      <td>54.417908</td>\n      <td>ec501e35-b022-4c73-9988-a41218d6105e</td>\n    </tr>\n    <tr>\n      <th>54</th>\n      <td>11</td>\n      <td>[0.49, 0.02, 0.52, 0.05]</td>\n      <td>54</td>\n      <td>fragments</td>\n      <td>4</td>\n      <td>2020-02-28 11:20:45+00:00</td>\n      <td>POINT (340211.9604960262 6288401.679605765)</td>\n      <td>43.603255</td>\n      <td>-1.457144</td>\n      <td>54.176819</td>\n      <td>ec501e35-b022-4c73-9988-a41218d6105e</td>\n    </tr>\n    <tr>\n      <th>55</th>\n      <td>11</td>\n      <td>[1.11, 0.62, 1.31, 0.75]</td>\n      <td>55</td>\n      <td>fragments</td>\n      <td>4</td>\n      <td>2020-02-28 11:20:45+00:00</td>\n      <td>POINT (340211.9604960262 6288401.679605765)</td>\n      <td>43.603255</td>\n      <td>-1.457144</td>\n      <td>54.176819</td>\n      <td>ec501e35-b022-4c73-9988-a41218d6105e</td>\n    </tr>\n    <tr>\n      <th>56</th>\n      <td>11</td>\n      <td>[1.09, 0.62, 1.33, 0.74]</td>\n      <td>56</td>\n      <td>bottles</td>\n      <td>3</td>\n      <td>2020-02-28 11:20:45+00:00</td>\n      <td>POINT (340211.9604960262 6288401.679605765)</td>\n      <td>43.603255</td>\n      <td>-1.457144</td>\n      <td>54.176819</td>\n      <td>ec501e35-b022-4c73-9988-a41218d6105e</td>\n    </tr>\n  </tbody>\n</table>\n</div>",
      "text/plain": "    time_index              frame_to_box  id      label  trash_type_id  \\\n0            0   [0.27, 0.12, 0.3, 0.18]   0  fragments              4   \n1            0  [0.28, 0.45, 0.29, 0.48]   1  fragments              4   \n2            0   [0.18, 0.43, 0.2, 0.48]   2  fragments              4   \n3            1  [0.15, 0.15, 0.18, 0.21]   3  fragments              4   \n4            1  [0.32, 0.11, 0.35, 0.17]   4  fragments              4   \n5            1  [0.17, 0.16, 0.19, 0.23]   5  fragments              4   \n6            2  [0.42, 0.38, 0.45, 0.51]   6  fragments              4   \n7            2    [0.99, 0.35, 1.0, 0.4]   7  fragments              4   \n8            3   [0.28, 0.4, 0.31, 0.51]   8  fragments              4   \n9            3  [0.19, 0.14, 0.23, 0.21]   9  fragments              4   \n10           3  [0.27, 0.38, 0.29, 0.41]  10  fragments              4   \n11           3   [0.28, 0.42, 0.3, 0.51]  11  fragments              4   \n12           3  [0.66, 0.09, 0.73, 0.15]  12    bottles              3   \n13           3  [0.66, 0.08, 0.73, 0.15]  13  fragments              4   \n14           3  [0.21, 0.38, 0.23, 0.52]  14  fragments              4   \n15           3   [0.92, 0.37, 0.94, 0.4]  15  fragments              4   \n16           3  [0.66, 0.08, 0.73, 0.14]  16     others              1   \n17           4  [1.17, 0.61, 1.33, 0.74]  17  fragments              4   \n18           4  [1.19, 0.62, 1.33, 0.75]  18     others              1   \n19           5  [0.93, 0.51, 1.33, 0.74]  19     others              1   \n20           5  [0.93, 0.51, 1.33, 0.75]  20  fragments              4   \n21           5  [0.95, 0.52, 1.33, 0.75]  21    bottles              3   \n22           5  [1.19, 0.29, 1.33, 0.73]  22  fragments              4   \n23           5  [0.33, 0.56, 0.35, 0.58]  23  fragments              4   \n24           6  [1.08, 0.32, 1.15, 0.41]  24  fragments              4   \n25           6  [0.17, 0.55, 0.19, 0.58]  25  fragments              4   \n26           6   [1.07, 0.33, 1.14, 0.4]  26     others              1   \n27           6   [0.8, 0.33, 1.32, 0.74]  27  fragments              4   \n28           6  [1.07, 0.32, 1.15, 0.41]  28    bottles              3   \n29           6  [0.17, 0.55, 0.19, 0.58]  29  fragments              4   \n30           6   [1.09, 0.34, 1.13, 0.4]  30  fragments              4   \n31           6  [1.08, 0.34, 1.11, 0.39]  31  fragments              4   \n32           6   [0.99, 0.38, 1.04, 0.5]  32  fragments              4   \n33           6   [0.59, 0.42, 1.1, 0.74]  33     others              1   \n34           6   [0.66, 0.5, 0.68, 0.52]  34  fragments              4   \n35           6   [1.0, 0.32, 1.22, 0.52]  35  fragments              4   \n36           6  [0.83, 0.55, 0.88, 0.57]  36    bottles              3   \n37           6  [0.83, 0.54, 0.88, 0.57]  37     others              1   \n38           7  [1.13, 0.33, 1.17, 0.39]  38  fragments              4   \n39           7   [1.03, 0.46, 1.15, 0.5]  39  fragments              4   \n40           7    [0.7, 0.58, 0.72, 0.6]  40  fragments              4   \n41           7   [1.16, 0.37, 1.3, 0.62]  41  fragments              4   \n42           7   [1.19, 0.4, 1.25, 0.55]  42  fragments              4   \n43           7   [1.25, 0.4, 1.31, 0.53]  43  fragments              4   \n44           8  [0.42, 0.38, 0.43, 0.42]  44  fragments              4   \n45           8  [1.22, 0.34, 1.33, 0.64]  45     others              1   \n46           8   [0.27, 0.03, 0.3, 0.08]  46  fragments              4   \n47           8   [0.07, 0.05, 0.11, 0.1]  47  fragments              4   \n48           9   [1.13, 0.47, 1.23, 0.7]  48  fragments              4   \n49           9  [0.28, 0.37, 0.29, 0.41]  49  fragments              4   \n50          10  [0.22, 0.38, 0.24, 0.42]  50  fragments              4   \n51          10  [1.07, 0.48, 1.14, 0.54]  51  fragments              4   \n52          10  [1.07, 0.48, 1.15, 0.67]  52  fragments              4   \n53          10  [1.16, 0.48, 1.22, 0.56]  53  fragments              4   \n54          11  [0.49, 0.02, 0.52, 0.05]  54  fragments              4   \n55          11  [1.11, 0.62, 1.31, 0.75]  55  fragments              4   \n56          11  [1.09, 0.62, 1.33, 0.74]  56    bottles              3   \n\n                        Time                                     the_geom  \\\n0  2020-02-28 11:20:34+00:00   POINT (340207.587546391 6288394.037647896)   \n1  2020-02-28 11:20:34+00:00   POINT (340207.587546391 6288394.037647896)   \n2  2020-02-28 11:20:34+00:00   POINT (340207.587546391 6288394.037647896)   \n3  2020-02-28 11:20:35+00:00  POINT (340207.8647825579 6288393.976342013)   \n4  2020-02-28 11:20:35+00:00  POINT (340207.8647825579 6288393.976342013)   \n5  2020-02-28 11:20:35+00:00  POINT (340207.8647825579 6288393.976342013)   \n6  2020-02-28 11:20:36+00:00  POINT (340208.0997494296 6288395.099614676)   \n7  2020-02-28 11:20:36+00:00  POINT (340208.0997494296 6288395.099614676)   \n8  2020-02-28 11:20:37+00:00  POINT (340208.1528626664 6288395.023143975)   \n9  2020-02-28 11:20:37+00:00  POINT (340208.1528626664 6288395.023143975)   \n10 2020-02-28 11:20:37+00:00  POINT (340208.1528626664 6288395.023143975)   \n11 2020-02-28 11:20:37+00:00  POINT (340208.1528626664 6288395.023143975)   \n12 2020-02-28 11:20:37+00:00  POINT (340208.1528626664 6288395.023143975)   \n13 2020-02-28 11:20:37+00:00  POINT (340208.1528626664 6288395.023143975)   \n14 2020-02-28 11:20:37+00:00  POINT (340208.1528626664 6288395.023143975)   \n15 2020-02-28 11:20:37+00:00  POINT (340208.1528626664 6288395.023143975)   \n16 2020-02-28 11:20:37+00:00  POINT (340208.1528626664 6288395.023143975)   \n17 2020-02-28 11:20:38+00:00  POINT (340208.8295117432 6288395.888805347)   \n18 2020-02-28 11:20:38+00:00  POINT (340208.8295117432 6288395.888805347)   \n19 2020-02-28 11:20:39+00:00  POINT (340209.3486346506 6288396.701030367)   \n20 2020-02-28 11:20:39+00:00  POINT (340209.3486346506 6288396.701030367)   \n21 2020-02-28 11:20:39+00:00  POINT (340209.3486346506 6288396.701030367)   \n22 2020-02-28 11:20:39+00:00  POINT (340209.3486346506 6288396.701030367)   \n23 2020-02-28 11:20:39+00:00  POINT (340209.3486346506 6288396.701030367)   \n24 2020-02-28 11:20:40+00:00  POINT (340210.1179216283 6288397.817487028)   \n25 2020-02-28 11:20:40+00:00  POINT (340210.1179216283 6288397.817487028)   \n26 2020-02-28 11:20:40+00:00  POINT (340210.1179216283 6288397.817487028)   \n27 2020-02-28 11:20:40+00:00  POINT (340210.1179216283 6288397.817487028)   \n28 2020-02-28 11:20:40+00:00  POINT (340210.1179216283 6288397.817487028)   \n29 2020-02-28 11:20:40+00:00  POINT (340210.1179216283 6288397.817487028)   \n30 2020-02-28 11:20:40+00:00  POINT (340210.1179216283 6288397.817487028)   \n31 2020-02-28 11:20:40+00:00  POINT (340210.1179216283 6288397.817487028)   \n32 2020-02-28 11:20:40+00:00  POINT (340210.1179216283 6288397.817487028)   \n33 2020-02-28 11:20:40+00:00  POINT (340210.1179216283 6288397.817487028)   \n34 2020-02-28 11:20:40+00:00  POINT (340210.1179216283 6288397.817487028)   \n35 2020-02-28 11:20:40+00:00  POINT (340210.1179216283 6288397.817487028)   \n36 2020-02-28 11:20:40+00:00  POINT (340210.1179216283 6288397.817487028)   \n37 2020-02-28 11:20:40+00:00  POINT (340210.1179216283 6288397.817487028)   \n38 2020-02-28 11:20:41+00:00  POINT (340210.0674759779 6288398.714215656)   \n39 2020-02-28 11:20:41+00:00  POINT (340210.0674759779 6288398.714215656)   \n40 2020-02-28 11:20:41+00:00  POINT (340210.0674759779 6288398.714215656)   \n41 2020-02-28 11:20:41+00:00  POINT (340210.0674759779 6288398.714215656)   \n42 2020-02-28 11:20:41+00:00  POINT (340210.0674759779 6288398.714215656)   \n43 2020-02-28 11:20:41+00:00  POINT (340210.0674759779 6288398.714215656)   \n44 2020-02-28 11:20:42+00:00  POINT (340210.5117261041 6288398.702470662)   \n45 2020-02-28 11:20:42+00:00  POINT (340210.5117261041 6288398.702470662)   \n46 2020-02-28 11:20:42+00:00  POINT (340210.5117261041 6288398.702470662)   \n47 2020-02-28 11:20:42+00:00  POINT (340210.5117261041 6288398.702470662)   \n48 2020-02-28 11:20:43+00:00  POINT (340210.9855790124 6288399.944712345)   \n49 2020-02-28 11:20:43+00:00  POINT (340210.9855790124 6288399.944712345)   \n50 2020-02-28 11:20:44+00:00  POINT (340211.5174661506 6288400.939889804)   \n51 2020-02-28 11:20:44+00:00  POINT (340211.5174661506 6288400.939889804)   \n52 2020-02-28 11:20:44+00:00  POINT (340211.5174661506 6288400.939889804)   \n53 2020-02-28 11:20:44+00:00  POINT (340211.5174661506 6288400.939889804)   \n54 2020-02-28 11:20:45+00:00  POINT (340211.9604960262 6288401.679605765)   \n55 2020-02-28 11:20:45+00:00  POINT (340211.9604960262 6288401.679605765)   \n56 2020-02-28 11:20:45+00:00  POINT (340211.9604960262 6288401.679605765)   \n\n     Latitude  Longitude  Elevation                           campaign_id  \n0   43.603185  -1.457192  59.616760  ec501e35-b022-4c73-9988-a41218d6105e  \n1   43.603185  -1.457192  59.616760  ec501e35-b022-4c73-9988-a41218d6105e  \n2   43.603185  -1.457192  59.616760  ec501e35-b022-4c73-9988-a41218d6105e  \n3   43.603184  -1.457189  57.599792  ec501e35-b022-4c73-9988-a41218d6105e  \n4   43.603184  -1.457189  57.599792  ec501e35-b022-4c73-9988-a41218d6105e  \n5   43.603184  -1.457189  57.599792  ec501e35-b022-4c73-9988-a41218d6105e  \n6   43.603194  -1.457187  57.375122  ec501e35-b022-4c73-9988-a41218d6105e  \n7   43.603194  -1.457187  57.375122  ec501e35-b022-4c73-9988-a41218d6105e  \n8   43.603194  -1.457186  56.295898  ec501e35-b022-4c73-9988-a41218d6105e  \n9   43.603194  -1.457186  56.295898  ec501e35-b022-4c73-9988-a41218d6105e  \n10  43.603194  -1.457186  56.295898  ec501e35-b022-4c73-9988-a41218d6105e  \n11  43.603194  -1.457186  56.295898  ec501e35-b022-4c73-9988-a41218d6105e  \n12  43.603194  -1.457186  56.295898  ec501e35-b022-4c73-9988-a41218d6105e  \n13  43.603194  -1.457186  56.295898  ec501e35-b022-4c73-9988-a41218d6105e  \n14  43.603194  -1.457186  56.295898  ec501e35-b022-4c73-9988-a41218d6105e  \n15  43.603194  -1.457186  56.295898  ec501e35-b022-4c73-9988-a41218d6105e  \n16  43.603194  -1.457186  56.295898  ec501e35-b022-4c73-9988-a41218d6105e  \n17  43.603202  -1.457178  55.598022  ec501e35-b022-4c73-9988-a41218d6105e  \n18  43.603202  -1.457178  55.598022  ec501e35-b022-4c73-9988-a41218d6105e  \n19  43.603209  -1.457173  54.850220  ec501e35-b022-4c73-9988-a41218d6105e  \n20  43.603209  -1.457173  54.850220  ec501e35-b022-4c73-9988-a41218d6105e  \n21  43.603209  -1.457173  54.850220  ec501e35-b022-4c73-9988-a41218d6105e  \n22  43.603209  -1.457173  54.850220  ec501e35-b022-4c73-9988-a41218d6105e  \n23  43.603209  -1.457173  54.850220  ec501e35-b022-4c73-9988-a41218d6105e  \n24  43.603220  -1.457164  55.613342  ec501e35-b022-4c73-9988-a41218d6105e  \n25  43.603220  -1.457164  55.613342  ec501e35-b022-4c73-9988-a41218d6105e  \n26  43.603220  -1.457164  55.613342  ec501e35-b022-4c73-9988-a41218d6105e  \n27  43.603220  -1.457164  55.613342  ec501e35-b022-4c73-9988-a41218d6105e  \n28  43.603220  -1.457164  55.613342  ec501e35-b022-4c73-9988-a41218d6105e  \n29  43.603220  -1.457164  55.613342  ec501e35-b022-4c73-9988-a41218d6105e  \n30  43.603220  -1.457164  55.613342  ec501e35-b022-4c73-9988-a41218d6105e  \n31  43.603220  -1.457164  55.613342  ec501e35-b022-4c73-9988-a41218d6105e  \n32  43.603220  -1.457164  55.613342  ec501e35-b022-4c73-9988-a41218d6105e  \n33  43.603220  -1.457164  55.613342  ec501e35-b022-4c73-9988-a41218d6105e  \n34  43.603220  -1.457164  55.613342  ec501e35-b022-4c73-9988-a41218d6105e  \n35  43.603220  -1.457164  55.613342  ec501e35-b022-4c73-9988-a41218d6105e  \n36  43.603220  -1.457164  55.613342  ec501e35-b022-4c73-9988-a41218d6105e  \n37  43.603220  -1.457164  55.613342  ec501e35-b022-4c73-9988-a41218d6105e  \n38  43.603228  -1.457165  54.805359  ec501e35-b022-4c73-9988-a41218d6105e  \n39  43.603228  -1.457165  54.805359  ec501e35-b022-4c73-9988-a41218d6105e  \n40  43.603228  -1.457165  54.805359  ec501e35-b022-4c73-9988-a41218d6105e  \n41  43.603228  -1.457165  54.805359  ec501e35-b022-4c73-9988-a41218d6105e  \n42  43.603228  -1.457165  54.805359  ec501e35-b022-4c73-9988-a41218d6105e  \n43  43.603228  -1.457165  54.805359  ec501e35-b022-4c73-9988-a41218d6105e  \n44  43.603228  -1.457160  54.385010  ec501e35-b022-4c73-9988-a41218d6105e  \n45  43.603228  -1.457160  54.385010  ec501e35-b022-4c73-9988-a41218d6105e  \n46  43.603228  -1.457160  54.385010  ec501e35-b022-4c73-9988-a41218d6105e  \n47  43.603228  -1.457160  54.385010  ec501e35-b022-4c73-9988-a41218d6105e  \n48  43.603239  -1.457155  54.128906  ec501e35-b022-4c73-9988-a41218d6105e  \n49  43.603239  -1.457155  54.128906  ec501e35-b022-4c73-9988-a41218d6105e  \n50  43.603249  -1.457149  54.417908  ec501e35-b022-4c73-9988-a41218d6105e  \n51  43.603249  -1.457149  54.417908  ec501e35-b022-4c73-9988-a41218d6105e  \n52  43.603249  -1.457149  54.417908  ec501e35-b022-4c73-9988-a41218d6105e  \n53  43.603249  -1.457149  54.417908  ec501e35-b022-4c73-9988-a41218d6105e  \n54  43.603255  -1.457144  54.176819  ec501e35-b022-4c73-9988-a41218d6105e  \n55  43.603255  -1.457144  54.176819  ec501e35-b022-4c73-9988-a41218d6105e  \n56  43.603255  -1.457144  54.176819  ec501e35-b022-4c73-9988-a41218d6105e  "
     },
     "execution_count": 14,
     "metadata": {},
     "output_type": "execute_result"
    }
   ],
   "source": [
    "df_data"
   ]
  },
  {
   "cell_type": "code",
   "execution_count": 12,
   "metadata": {},
   "outputs": [
    {
     "name": "stderr",
     "output_type": "stream",
     "text": "INFO:root:Connection established\n0it [00:00, ?it/s]INFO:root:d5ff2788-5629-41bf-b048-2dcaa5918fca\n1it [00:00,  1.15it/s]INFO:root:6dd6c877-f9ab-4a29-b255-df79eb9ea460\n2it [00:01,  1.38it/s]INFO:root:8e22febf-853b-4473-a9fc-a0aead2854b5\n3it [00:01,  1.61it/s]INFO:root:6fd37e72-cd52-498c-9bf1-eb2d43c4fd66\n4it [00:02,  1.80it/s]INFO:root:78239425-de43-442c-8a43-4208d73586d3\n5it [00:02,  1.99it/s]INFO:root:0ee36eda-0e6b-4069-aed9-48b8c0103a19\n6it [00:02,  2.15it/s]INFO:root:e19e4361-c26b-4969-b1ed-c67b7788a9bc\n7it [00:03,  2.28it/s]INFO:root:ae88887d-b1ae-4f15-991d-bbc8726a14b9\n8it [00:03,  2.34it/s]INFO:root:bcefcf8f-04d5-419a-8772-4da5cd9aebbc\n9it [00:03,  2.36it/s]INFO:root:68c0c677-f5db-46a6-8e2e-a16e7b2097ab\n10it [00:04,  2.44it/s]INFO:root:493fafa0-e448-47ef-b6a6-333be2f08c2f\n11it [00:04,  2.36it/s]INFO:root:f0c6d502-084b-4d9d-8c0c-db7cbc918d34\n12it [00:05,  2.43it/s]INFO:root:b7be1668-589a-41e3-8032-f13ea0333e14\n13it [00:05,  2.47it/s]INFO:root:3b916048-5251-47b9-82fa-76693ca642b0\n14it [00:05,  2.54it/s]INFO:root:56fb0e85-fc9c-4a4c-b395-7531af374124\n15it [00:06,  2.56it/s]INFO:root:df9e8af2-00c2-4d7e-8fc5-ea5545fe528e\n16it [00:06,  2.58it/s]INFO:root:2630adfb-961e-407a-874d-50e6a2b40a05\n17it [00:07,  2.56it/s]INFO:root:a50a59f4-1eb9-4012-b591-d2d6c019e522\n18it [00:07,  2.55it/s]INFO:root:cdff1104-cbdb-4b26-b680-03fe9545365c\n19it [00:07,  2.57it/s]INFO:root:d4c03304-2cf3-4818-ab80-37551c22483b\n20it [00:08,  2.56it/s]INFO:root:0b17437f-9c2c-40e0-a444-689961141101\n21it [00:08,  2.57it/s]INFO:root:2573e0f5-51c7-442b-bdff-8f5cb2dc517b\n22it [00:09,  2.55it/s]INFO:root:4ea3edaf-be2a-4c9b-9ee7-ac2ca2bb66eb\n23it [00:09,  2.53it/s]INFO:root:ffae5940-0950-4425-b6e8-afe0a9039746\n24it [00:09,  2.56it/s]INFO:root:71638667-5002-4990-a630-3e9e7419e288\n25it [00:10,  2.56it/s]INFO:root:71e350cd-46a4-484b-9cbb-1da2df86c314\n26it [00:10,  2.56it/s]INFO:root:ab0720e6-c392-410a-b873-ac1a7bb96388\n27it [00:11,  2.56it/s]INFO:root:c0efb006-6195-4770-9fcd-41ef1f460f1f\n28it [00:11,  2.57it/s]INFO:root:34ffc2b9-c857-4e6c-8b89-dcb2dbe05d9a\n29it [00:11,  2.56it/s]INFO:root:539d913a-21ad-4fa0-94f7-7eb7b0d351b2\n30it [00:12,  2.55it/s]INFO:root:5b695f0c-11f6-412c-9a3a-c47bce78ed6b\n31it [00:12,  2.56it/s]INFO:root:0c07f9c0-9948-4568-a266-7b4c9df3d808\n32it [00:12,  2.57it/s]INFO:root:521f60db-bf4a-4cb9-a36e-2362445de429\n33it [00:13,  2.56it/s]INFO:root:218b66ef-6f91-43f9-9341-28a35d8bb31f\n34it [00:13,  2.59it/s]INFO:root:f45ee16f-ab0f-4d20-851a-e51f337ffbca\n35it [00:14,  2.63it/s]INFO:root:12992ee0-c00b-4f39-b974-285a37d5b18c\n36it [00:14,  2.62it/s]INFO:root:a1a9aae9-5a8c-4e5d-ab7e-7de43e082715\n37it [00:14,  2.63it/s]INFO:root:e8ae0cf6-13d9-4b03-9a02-5deb6090f272\n38it [00:15,  2.63it/s]INFO:root:452dd856-82b3-4110-a1dd-c8df9144b73b\n39it [00:15,  2.60it/s]INFO:root:b25cd317-bccf-4df6-81c6-58e0e85fca13\n40it [00:16,  2.59it/s]INFO:root:36feb97b-272d-4b0f-a818-afdbb272ffea\n41it [00:16,  2.59it/s]INFO:root:78834db6-ad23-42d3-85da-81dcdd0fabed\n42it [00:16,  2.60it/s]INFO:root:7afe577e-dd7f-4016-b05c-82b74b93ce96\n43it [00:17,  2.58it/s]INFO:root:4153a7ef-027a-42bb-ad21-0fc5a0203322\n44it [00:17,  2.54it/s]INFO:root:24d1523c-13a4-498b-a711-28b03a45da39\n45it [00:17,  2.57it/s]INFO:root:e813d2ff-0366-4f2f-ae41-779fbb0a2010\n46it [00:18,  2.58it/s]INFO:root:f9d42f82-1987-4c5c-99e3-4ba7d66c111a\n47it [00:18,  2.58it/s]INFO:root:6c275103-15d9-4ec3-b4fd-2af5b9aa811b\n48it [00:19,  2.58it/s]INFO:root:5f3b102d-5297-47e3-b94c-1d9d9a6de571\n49it [00:19,  2.58it/s]INFO:root:919c58ee-1d6c-465a-b2e7-e14887cb7655\n50it [00:19,  2.59it/s]INFO:root:3a110eaf-78da-4563-a30d-f2c4b77bc2ee\n51it [00:20,  2.61it/s]INFO:root:9174d402-8d76-4371-aeda-8f95cbe5acf2\n52it [00:20,  2.61it/s]INFO:root:a8da7705-051e-4c04-a921-8795a3c460e7\n53it [00:21,  2.58it/s]INFO:root:f4a8776d-00eb-435a-85b2-108afc4a4451\n54it [00:21,  2.62it/s]INFO:root:a097a9d8-a7d5-4916-9ebd-a11298cf8318\n55it [00:21,  2.66it/s]INFO:root:4c9af29d-758f-4fa2-993c-835cb865e780\n56it [00:22,  2.64it/s]INFO:root:e0e48898-a787-40c8-a90e-f2a3ce7b5433\n57it [00:22,  2.52it/s]\nINFO:root:Successfully inserted 57 Trashes within Trash table\nINFO:root:PG connection closed\n"
    }
   ],
   "source": [
    "import logging\n",
    "logging.basicConfig(level=logging.INFO)\n",
    "logger = logging.getLogger()\n",
    "target_store = 'postgre'\n",
    "if target_store == 'postgre':\n",
    "    # Get connection string information from env variables\n",
    "    pg_conn_string = get_pg_connection_string()\n",
    "    pg_connection = open_pg_connection(pg_conn_string)\n",
    "    pg_cursor = pg_connection.cursor()\n",
    "    # Store row_id when insert\n",
    "    row_id_list = []\n",
    "\n",
    "    for i, row in tqdm(df_data.iterrows()):\n",
    "        try:\n",
    "            row_id = insert_trash_df(row, pg_cursor, pg_connection)\n",
    "            logger.info(row_id)\n",
    "            row_id_list.append(row_id)\n",
    "        except:\n",
    "            prediction_id = row['id']\n",
    "            logger.error(\n",
    "                f'There was an issue inserting Trash id: {prediction_id} within PostGre')\n",
    "            logger.error(\n",
    "                \"Early exit of ETL workflow as PG INSERT failed\")\n",
    "            exit()\n",
    "\n",
    "    logger.info(\n",
    "        f'Successfully inserted {str(len(row_id_list))} Trashes within Trash table')\n",
    "\n",
    "    # Close PG connection\n",
    "    close_pg_connection(pg_connection)"
   ]
  },
  {
   "cell_type": "code",
   "execution_count": null,
   "metadata": {},
   "outputs": [],
   "source": []
  }
 ]
}