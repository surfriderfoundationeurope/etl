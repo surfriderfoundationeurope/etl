{
 "nbformat": 4,
 "nbformat_minor": 2,
 "metadata": {
  "language_info": {
   "name": "python",
   "codemirror_mode": {
    "name": "ipython",
    "version": 3
   },
   "version": "3.6.9-final"
  },
  "orig_nbformat": 2,
  "file_extension": ".py",
  "mimetype": "text/x-python",
  "name": "python",
  "npconvert_exporter": "python",
  "pygments_lexer": "ipython3",
  "version": 3,
  "kernelspec": {
   "name": "python36964bitsurfridercondaa4d29431e9f947419d6d850056118d13",
   "display_name": "Python 3.6.9 64-bit ('surfrider': conda)"
  }
 },
 "cells": [
  {
   "cell_type": "code",
   "execution_count": null,
   "metadata": {},
   "outputs": [],
   "source": [
    "import logging \n",
    "logging.basicConfig(level=logging.INFO)\n",
    "log = logging.getLogger(\"my-logger\")\n",
    "log.setLevel(logging.INFO)\n",
    "log.info(\"Hello World\")\n",
    "log.warning(\"this is a warning\")"
   ]
  },
  {
   "cell_type": "code",
   "execution_count": null,
   "metadata": {},
   "outputs": [],
   "source": [
    "# Test AIReady\n",
    "import logging\n",
    "logging.basicConfig(level=logging.INFO)\n",
    "\n",
    "aiurl = 'http://aiapiplastico-dev.westeurope.cloudapp.azure.com'\n",
    "isAIready = AIready(f'{aiurl}:5000')"
   ]
  },
  {
   "cell_type": "code",
   "execution_count": null,
   "metadata": {},
   "outputs": [],
   "source": [
    "# Test getPrediction\n",
    "blob_video_name = '28022020_Boudigau_4_short_480.mov'  \n",
    "aiurl = 'http://aiapiplastico-dev.westeurope.cloudapp.azure.com'\n",
    "prediction = getPrediction(blob_video_name,aiurl)"
   ]
  },
  {
   "cell_type": "code",
   "execution_count": null,
   "metadata": {},
   "outputs": [],
   "source": [
    "str(prediction)"
   ]
  },
  {
   "cell_type": "code",
   "execution_count": null,
   "metadata": {},
   "outputs": [],
   "source": [
    "# import prerequesite for blob\n",
    "from azure.storage.blob import ContainerClient\n",
    "from azure.storage.blob import BlobClient\n",
    "from modules.blob import blob_in_container,blob_infos,download_blob\n",
    "# import prerequesite for ai\n",
    "import json\n",
    "import requests\n",
    "import logging\n",
    "from modules.ai import is_ai_ready,get_prediction,json_prediction,get_trash_label,map_label_2_trash_id_PG,get_trash_time_index,get_trash_time_stamp\n",
    "# import prerequesite for gps\n",
    "import gpxpy\n",
    "import gpxpy.gpx\n",
    "import json\n",
    "import subprocess\n",
    "import datetime\n",
    "from datetime import datetime\n",
    "from datetime import timedelta\n",
    "from shapely.geometry import Point\n",
    "from functools import partial\n",
    "import pyproj\n",
    "from shapely.ops import transform\n",
    "from tqdm import tqdm\n",
    "from modules.gps import extract_gpx_from_gopro,parse_gpx,get_gps_point_list,create_time,create_latitude,create_longitude,create_elevation,fill_gps,long_lat_to_shape_point,transform_geo\n",
    "# import prerequesite from media\n",
    "from modules.media import get_media_duration,get_media_fps\n",
    "# import prerequesite for postgre\n",
    "import os\n",
    "import psycopg2\n",
    "from modules.postgre import get_pg_connection_string,open_pg_connection,close_pg_connection,insert_trash\n",
    "import warnings\n",
    "warnings.filterwarnings('ignore')\n",
    "# import argparse to pass parameters to main function\n",
    "import argparse"
   ]
  },
  {
   "cell_type": "code",
   "execution_count": null,
   "metadata": {},
   "outputs": [],
   "source": [
    "# Test jsonPrediction\n",
    "import json\n",
    "with open('../data/prediction.json') as json_file:\n",
    "    jsonPred = json.load(json_file)\n",
    "jsonPred"
   ]
  },
  {
   "cell_type": "code",
   "execution_count": null,
   "metadata": {},
   "outputs": [],
   "source": [
    "timeindex = get_trash_time_index(frametobox0)\n",
    "mediafps = get_media_fps('/tmp/28022020_Boudigau_4.MP4')\n",
    "timestamp = get_trash_time_stamp(timeindex,mediafps)\n",
    "print(timestamp)"
   ]
  },
  {
   "cell_type": "code",
   "execution_count": null,
   "metadata": {},
   "outputs": [],
   "source": [
    "video_name = '28022020_Boudigau_4.MP4'\n",
    "gpx_path = extract_gpx_from_gopro(f'/tmp/{video_name}')\n",
    "# GPX parsing\n",
    "gpx_data = parse_gpx(gpx_path)\n",
    "\n",
    "# GPS Points\n",
    "gps_points = get_gps_point_list(gpx_data)\n",
    "\n",
    "# Video duration\n",
    "logger.info(\"\\n\")\n",
    "video_duration = get_media_duration(f'/tmp/{video_name}')\n",
    "logger.info(f'Video duration in second from metadata:{video_duration}')\n",
    "media_fps = get_media_fps(f'/tmp/{video_name}')\n",
    "\n",
    "# GPS file duration\n",
    "timestampDelta = gps_points[len(gps_points)-1]['Time'] - gps_points[0]['Time']\n",
    "logger.info(f'GPS file time coverage in second:{timestampDelta.seconds}')\n",
    "\n",
    "logger.info('###################### Pipeline Step2 ######################')\n",
    "logger.info('################## Add missing GPS points ##################')\n",
    "video_duration_sup = int(video_duration)+1\n",
    "gps_points_filled = fill_gps(gps_points,video_duration_sup)"
   ]
  },
  {
   "cell_type": "code",
   "execution_count": null,
   "metadata": {},
   "outputs": [],
   "source": [
    "media_fps = get_media_fps('/tmp/28022020_Boudigau_4.MP4')\n",
    "# Get connection string information from env variables\n",
    "pg_conn_string = get_pg_connection_string()\n",
    "# Open pgConnection\n",
    "pg_connection = open_pg_connection(pg_conn_string)\n",
    "# Create Cursor\n",
    "pg_cursor = pg_connection.cursor()\n",
    "\n",
    "import logging\n",
    "logger = logging.getLogger()\n",
    "\n",
    "row_id_list = []\n",
    "for prediction in tqdm(jsonPred['detected_trash']):\n",
    "    timestamp = get_trash_time_stamp(prediction,media_fps)\n",
    "    trash_gps = gps_points_filled[timestamp]\n",
    "    shape_trash_gps = long_lat_2_shape_point(trash_gps)\n",
    "    geo_2154 = transform_geo(shape_trash_gps)\n",
    "    geo_2154_trash_gps = {'Time': shape_trash_gps['Time'], 'the_geom': geo_2154,'Latitude':shape_trash_gps['Latitude'],'Longitude':shape_trash_gps['Longitude'], 'Elevation': shape_trash_gps['Elevation']}\n",
    "    # get trash_type from ai module\n",
    "    label = get_trash_label(prediction)\n",
    "    trash_type = map_label_2_trash_id_PG(label)\n",
    "    # insert trash from postgre module\n",
    "    row_id = insert_trash(geo_2154_trash_gps,trash_type,pg_cursor,pg_connection)\n",
    "    row_id_list.append(row_id)"
   ]
  },
  {
   "cell_type": "code",
   "execution_count": null,
   "metadata": {},
   "outputs": [],
   "source": [
    "%env PGSERVER=pgdb-plastico-dev.postgres.database.azure.com\n",
    "%env PGDATABASE=plastico-dev\n",
    "%env PGUSERNAME=writer_user@pgdb-plastico-dev\n",
    "%env PGPWD=SurfWriter!"
   ]
  },
  {
   "cell_type": "code",
   "execution_count": null,
   "metadata": {},
   "outputs": [],
   "source": [
    "# import prerequesite for ai\n",
    "import json\n",
    "import requests\n",
    "import logging\n",
    "from utils.ai import is_ai_ready,get_prediction,get_json_prediction,get_trash_label,map_label_to_trash_id_PG,get_trash_time_index,get_trash_first_time\n",
    "# import prerequesite for gps\n",
    "import gpxpy\n",
    "import gpxpy.gpx\n",
    "import json\n",
    "import subprocess\n",
    "import datetime\n",
    "from datetime import datetime\n",
    "from datetime import timedelta\n",
    "from shapely.geometry import Point\n",
    "from functools import partial\n",
    "import pyproj\n",
    "from shapely.ops import transform\n",
    "from tqdm import tqdm\n",
    "from utils.gps import extract_gpx_from_gopro,parse_gpx,get_gps_point_list,create_time,create_latitude,create_longitude,create_elevation,fill_gps,long_lat_to_shape_point,transform_geo\n",
    "# import prerequesite from media\n",
    "from utils.media import get_media_duration,get_media_fps\n",
    "# import prerequesite for postgre\n",
    "import os\n",
    "import psycopg2\n",
    "from utils.postgre import get_pg_connection_string,open_pg_connection,close_pg_connection,insert_trash"
   ]
  },
  {
   "cell_type": "code",
   "execution_count": null,
   "metadata": {},
   "outputs": [],
   "source": [
    "aiurl = 'http://aiapiplastico-dev.westeurope.cloudapp.azure.com'\n",
    "prediction = get_prediction('28022020_Boudigau_4_short_480.mov',f'{aiurl}:5000')"
   ]
  },
  {
   "cell_type": "code",
   "execution_count": null,
   "metadata": {},
   "outputs": [],
   "source": [
    "jsonPrediction = get_json_prediction(prediction)"
   ]
  },
  {
   "cell_type": "code",
   "execution_count": null,
   "metadata": {},
   "outputs": [],
   "source": [
    "with open('../data/prediction.json') as json_file:\n",
    "    jsonPrediction = json.load(json_file)"
   ]
  },
  {
   "cell_type": "code",
   "execution_count": null,
   "metadata": {},
   "outputs": [],
   "source": [
    "video_name = '28022020_Boudigau_4.MP4'\n",
    "prediction = jsonPrediction['detected_trash'][0]\n",
    "media_fps = get_media_fps(f'/tmp/{video_name}')\n",
    "gpx_path = extract_gpx_from_gopro(f'/tmp/{video_name}')\n",
    "gpx_data = parse_gpx(gpx_path)\n",
    "gps_points = get_gps_point_list(gpx_data)\n",
    "video_duration = get_media_duration(f'/tmp/{video_name}')\n",
    "video_duration_sup = int(video_duration)+1\n",
    "gps_points_filled = fill_gps(gps_points,video_duration_sup)\n",
    "time_index = get_trash_time_index(prediction,media_fps)\n",
    "# trash_gps\n",
    "trash_gps = gps_points_filled[time_index]\n",
    "shape_trash_gps = long_lat_to_shape_point(trash_gps)\n",
    "geo_2154 = transform_geo(shape_trash_gps)\n",
    "geo_2154_trash_gps = {'Time': shape_trash_gps['Time'], 'the_geom': geo_2154,'Latitude':shape_trash_gps['Latitude'],'Longitude':shape_trash_gps['Longitude'], 'Elevation': shape_trash_gps['Elevation']}\n",
    "# get trash_type from ai module\n",
    "label = get_trash_label(prediction)\n",
    "trash_type = map_label_to_trash_id_PG(label)"
   ]
  },
  {
   "cell_type": "code",
   "execution_count": null,
   "metadata": {},
   "outputs": [],
   "source": [
    "trash_gps"
   ]
  },
  {
   "cell_type": "code",
   "execution_count": null,
   "metadata": {},
   "outputs": [],
   "source": [
    "trash_type"
   ]
  },
  {
   "cell_type": "code",
   "execution_count": null,
   "metadata": {},
   "outputs": [],
   "source": [
    "jsonPrediction['detected_trash']"
   ]
  },
  {
   "cell_type": "code",
   "execution_count": null,
   "metadata": {},
   "outputs": [],
   "source": [
    "prediction = jsonPrediction['detected_trash'][0]\n",
    "print(prediction)\n",
    "index = str(get_trash_time_index(prediction))\n",
    "clean_frame_to_box = {index:prediction['frame_to_box'][index]}\n",
    "clean_prediction = {'frame_to_box':clean_frame_to_box,'id':prediction['id'],'label':prediction['label']}\n",
    "print(clean_prediction)"
   ]
  },
  {
   "cell_type": "code",
   "execution_count": null,
   "metadata": {},
   "outputs": [],
   "source": [
    "def get_clean_prediction(prediction:dict)->dict:\n",
    "    index = str(get_trash_time_index(prediction))\n",
    "    clean_frame_to_box = {index:prediction['frame_to_box'][index]}\n",
    "    clean_prediction = {'frame_to_box':clean_frame_to_box,'id':prediction['id'],'label':prediction['label']}\n",
    "    return clean_prediction"
   ]
  },
  {
   "cell_type": "code",
   "execution_count": null,
   "metadata": {},
   "outputs": [],
   "source": [
    "prediction = jsonPrediction['detected_trash'][0]\n",
    "index = str(get_trash_time_index(prediction))\n",
    "clean_frame_to_box = {index:prediction['frame_to_box'][index]}\n",
    "clean_prediction = {'frame_to_box':clean_frame_to_box,'id':prediction['id'],'label':prediction['label']}"
   ]
  },
  {
   "cell_type": "code",
   "execution_count": null,
   "metadata": {},
   "outputs": [],
   "source": [
    "prediction['frame_to_box'][index]"
   ]
  },
  {
   "cell_type": "code",
   "execution_count": null,
   "metadata": {},
   "outputs": [],
   "source": [
    "prediction = jsonPrediction['detected_trash'][0]\n",
    "clean_prediction = get_clean_prediction(prediction)"
   ]
  },
  {
   "cell_type": "code",
   "execution_count": null,
   "metadata": {},
   "outputs": [],
   "source": [
    "print(prediction)\n",
    "print(clean_prediction)"
   ]
  },
  {
   "cell_type": "code",
   "execution_count": null,
   "metadata": {},
   "outputs": [],
   "source": [
    "clean_prediction_list = []\n",
    "for prediction in jsonPrediction['detected_trash']:\n",
    "    clean_prediction = get_clean_prediction(prediction)\n",
    "    clean_prediction_list.append(clean_prediction)"
   ]
  },
  {
   "cell_type": "code",
   "execution_count": null,
   "metadata": {},
   "outputs": [],
   "source": [
    "!pip install pandas"
   ]
  },
  {
   "cell_type": "code",
   "execution_count": null,
   "metadata": {},
   "outputs": [],
   "source": [
    "import pandas as pd\n",
    "pd_prediction = pd.DataFrame(clean_prediction_list)"
   ]
  },
  {
   "cell_type": "code",
   "execution_count": null,
   "metadata": {},
   "outputs": [],
   "source": [
    "pd_prediction   "
   ]
  },
  {
   "cell_type": "code",
   "execution_count": null,
   "metadata": {},
   "outputs": [],
   "source": [
    "prediction = jsonPrediction['detected_trash'][0]\n",
    "clean_prediction = get_clean_prediction(prediction)\n",
    "clean_prediction"
   ]
  },
  {
   "cell_type": "code",
   "execution_count": null,
   "metadata": {},
   "outputs": [],
   "source": [
    "def get_trash_first_time(trash:dict)->int:\n",
    "    \"\"\"Get the time index for a trash, the first time it is identified\n",
    "\n",
    "    Arguments:\n",
    "        trash {dict} -- [description]\n",
    "\n",
    "    Returns:\n",
    "        int -- the index when the trash is identified for the first time\n",
    "    \"\"\"\n",
    "    frame_to_box = trash['frame_to_box']    \n",
    "    return int(list(frame_to_box.keys())[0])\n",
    "\n",
    "def get_trash_time_index(prediction:dict,media_fps:float)->int:\n",
    "    \"\"\" Get trash time stamp\n",
    "\n",
    "    Arguments:\n",
    "        prediction {dict} -- the prediction made by AI of a unique trash\n",
    "        media_fps {float} -- the FPS of the media where the trash comes from\n",
    "\n",
    "    Returns:\n",
    "        timestamp -- the timestamp of the trash with regard to video it comes from\n",
    "    \"\"\"\n",
    "    time_index = get_trash_first_time(prediction)\n",
    "    timestamp = int(time_index / media_fps)\n",
    "    return timestamp\n",
    "\n"
   ]
  },
  {
   "cell_type": "code",
   "execution_count": null,
   "metadata": {},
   "outputs": [],
   "source": [
    "def get_clean_timed_prediction(prediction:dict)->dict:\n",
    "    \"\"\"Get clean prediction with single frame_to_box\n",
    "\n",
    "    Arguments:\n",
    "        prediction {dict} -- a single prediction from a dictionary of AI predictions\n",
    "\n",
    "    Returns:\n",
    "        clean_prediction -- a prediction with the first frame_to_box\n",
    "    \"\"\"\n",
    "    index = str(get_trash_first_time(prediction))\n",
    "    clean_frame_to_box = prediction['frame_to_box'][index]\n",
    "    timed_prediction = {'time_index':int(index),'frame_to_box':clean_frame_to_box,'id':prediction['id'],'label':prediction['label']}    \n",
    "    return timed_prediction"
   ]
  },
  {
   "cell_type": "code",
   "execution_count": null,
   "metadata": {},
   "outputs": [],
   "source": [
    "# A single timed_prediction\n",
    "timed_prediction = get_clean_timed_prediction(prediction)\n",
    "timed_prediction"
   ]
  },
  {
   "cell_type": "code",
   "execution_count": null,
   "metadata": {},
   "outputs": [],
   "source": [
    "# All timed predictions\n",
    "for prediction in jsonPrediction['detected_trash']:\n",
    "    print(prediction)\n",
    "    print(get_timed_prediction(prediction))"
   ]
  },
  {
   "cell_type": "code",
   "execution_count": null,
   "metadata": {},
   "outputs": [],
   "source": [
    "def get_df_prediction(json_prediction):\n",
    "    timed_prediction_list = []\n",
    "    for prediction in json_prediction['detected_trash']:\n",
    "        timed_prediction_list.append(get_timed_prediction(prediction))\n",
    "    df_prediction = pd.DataFrame(timed_prediction_list)\n",
    "    return df_prediction"
   ]
  },
  {
   "cell_type": "code",
   "execution_count": null,
   "metadata": {},
   "outputs": [],
   "source": [
    "df_predictions = get_df_prediction(jsonPrediction)\n",
    "df_predictions.head()"
   ]
  },
  {
   "cell_type": "code",
   "execution_count": null,
   "metadata": {},
   "outputs": [],
   "source": [
    "df_prediction.apply(lambda x: gps_points_filled[int(x.time_index)],axis=1)"
   ]
  },
  {
   "cell_type": "code",
   "execution_count": null,
   "metadata": {},
   "outputs": [],
   "source": [
    "time_index = get_trash_time_index(prediction,media_fps)\n",
    "trash_gps = gps_points_filled[time_index]\n",
    "shape_trash_gps = long_lat_to_shape_point(trash_gps)\n",
    "geo_2154 = transform_geo(shape_trash_gps)\n",
    "geo_2154_trash_gps = {'Time': shape_trash_gps['Time'], 'the_geom': geo_2154,'Latitude':shape_trash_gps['Latitude'],'Longitude':shape_trash_gps['Longitude'], 'Elevation': shape_trash_gps['Elevation']}"
   ]
  },
  {
   "cell_type": "code",
   "execution_count": null,
   "metadata": {},
   "outputs": [],
   "source": [
    "trash_gps = gps_points_filled[time_index]\n",
    "shape_trash_gps = long_lat_to_shape_point(trash_gps)\n",
    "geo_2154 = transform_geo(shape_trash_gps)\n",
    "geo_2154_trash_gps = {'Time': shape_trash_gps['Time'], 'the_geom': geo_2154,'Latitude':shape_trash_gps['Latitude'],'Longitude':shape_trash_gps['Longitude'], 'Elevation': shape_trash_gps['Elevation']}"
   ]
  },
  {
   "cell_type": "code",
   "execution_count": null,
   "metadata": {},
   "outputs": [],
   "source": [
    "def get_df_trash_gps(json_prediction:dict)->list:\n",
    "    geo_2154_trash_gps_list = []\n",
    "    for prediction in json_prediction['detected_trash']:\n",
    "        time_index = get_trash_time_index(prediction,4)\n",
    "        trash_gps = gps_points_filled[time_index]\n",
    "        shape_trash_gps = long_lat_to_shape_point(trash_gps)\n",
    "        geo_2154 = transform_geo(shape_trash_gps)\n",
    "        geo_2154_trash_gps = {'Time': shape_trash_gps['Time'], 'the_geom': geo_2154,'Latitude':shape_trash_gps['Latitude'],'Longitude':shape_trash_gps['Longitude'], 'Elevation': shape_trash_gps['Elevation']}\n",
    "        geo_2154_trash_gps_list.append(geo_2154_trash_gps)\n",
    "        df_trash_gps = pd.DataFrame(geo_2154_trash_gps_list)\n",
    "    return df_trash_gps"
   ]
  },
  {
   "cell_type": "code",
   "execution_count": 150,
   "metadata": {},
   "outputs": [],
   "source": [
    "def get_df_trash_gps(df_predictions:pd.DataFrame,gps_points_filled:list)->pd.DataFrame:\n",
    "    geo_2154_trash_gps_list = []\n",
    "    time_indexes = df_predictions['time_index']\n",
    "    for time_index in time_indexes:\n",
    "        trash_gps = gps_points_filled[time_index]\n",
    "        shape_trash_gps = long_lat_to_shape_point(trash_gps)\n",
    "        geo_2154 = transform_geo(shape_trash_gps)\n",
    "        geo_2154_trash_gps = {'Time': shape_trash_gps['Time'], 'the_geom': geo_2154,'Latitude':shape_trash_gps['Latitude'],'Longitude':shape_trash_gps['Longitude'], 'Elevation': shape_trash_gps['Elevation']}\n",
    "        geo_2154_trash_gps_list.append(geo_2154_trash_gps)\n",
    "        df_trash_gps = pd.DataFrame(geo_2154_trash_gps_list)\n",
    "    return df_trash_gps"
   ]
  },
  {
   "cell_type": "code",
   "execution_count": 151,
   "metadata": {},
   "outputs": [],
   "source": [
    "df_trash_gps = get_df_trash_gps(df_predictions)"
   ]
  },
  {
   "cell_type": "code",
   "execution_count": 152,
   "metadata": {},
   "outputs": [
    {
     "data": {
      "text/html": "<div>\n<style scoped>\n    .dataframe tbody tr th:only-of-type {\n        vertical-align: middle;\n    }\n\n    .dataframe tbody tr th {\n        vertical-align: top;\n    }\n\n    .dataframe thead th {\n        text-align: right;\n    }\n</style>\n<table border=\"1\" class=\"dataframe\">\n  <thead>\n    <tr style=\"text-align: right;\">\n      <th></th>\n      <th>Time</th>\n      <th>the_geom</th>\n      <th>Latitude</th>\n      <th>Longitude</th>\n      <th>Elevation</th>\n    </tr>\n  </thead>\n  <tbody>\n    <tr>\n      <th>0</th>\n      <td>2020-02-28 11:52:07+00:00</td>\n      <td>POINT (340987.7644429434 6289760.231710243)</td>\n      <td>43.615853</td>\n      <td>-1.448500</td>\n      <td>53.203</td>\n    </tr>\n    <tr>\n      <th>1</th>\n      <td>2020-02-28 11:52:07+00:00</td>\n      <td>POINT (340987.7644429434 6289760.231710243)</td>\n      <td>43.615853</td>\n      <td>-1.448500</td>\n      <td>53.203</td>\n    </tr>\n    <tr>\n      <th>2</th>\n      <td>2020-02-28 11:52:10+00:00</td>\n      <td>POINT (340989.4878405507 6289761.392383807)</td>\n      <td>43.615865</td>\n      <td>-1.448480</td>\n      <td>51.617</td>\n    </tr>\n    <tr>\n      <th>3</th>\n      <td>2020-02-28 11:52:12+00:00</td>\n      <td>POINT (340990.7390486228 6289762.067635369)</td>\n      <td>43.615871</td>\n      <td>-1.448465</td>\n      <td>51.140</td>\n    </tr>\n    <tr>\n      <th>4</th>\n      <td>2020-02-28 11:52:13+00:00</td>\n      <td>POINT (340991.5906244033 6289762.253372751)</td>\n      <td>43.615873</td>\n      <td>-1.448454</td>\n      <td>51.082</td>\n    </tr>\n    <tr>\n      <th>5</th>\n      <td>2020-02-28 11:52:14+00:00</td>\n      <td>POINT (340992.3492124217 6289762.511143766)</td>\n      <td>43.615876</td>\n      <td>-1.448445</td>\n      <td>51.401</td>\n    </tr>\n    <tr>\n      <th>6</th>\n      <td>2020-02-28 11:52:17+00:00</td>\n      <td>POINT (340994.2518469578 6289763.69510499)</td>\n      <td>43.615888</td>\n      <td>-1.448423</td>\n      <td>50.899</td>\n    </tr>\n    <tr>\n      <th>7</th>\n      <td>2020-02-28 11:52:18+00:00</td>\n      <td>POINT (340994.6874808325 6289764.249378612)</td>\n      <td>43.615893</td>\n      <td>-1.448418</td>\n      <td>50.447</td>\n    </tr>\n    <tr>\n      <th>8</th>\n      <td>2020-02-28 11:52:19+00:00</td>\n      <td>POINT (340995.5478903474 6289764.735170593)</td>\n      <td>43.615898</td>\n      <td>-1.448407</td>\n      <td>50.217</td>\n    </tr>\n    <tr>\n      <th>9</th>\n      <td>2020-02-28 11:52:19+00:00</td>\n      <td>POINT (340995.5478903474 6289764.735170593)</td>\n      <td>43.615898</td>\n      <td>-1.448407</td>\n      <td>50.217</td>\n    </tr>\n    <tr>\n      <th>10</th>\n      <td>2020-02-28 11:52:19+00:00</td>\n      <td>POINT (340995.5478903474 6289764.735170593)</td>\n      <td>43.615898</td>\n      <td>-1.448407</td>\n      <td>50.217</td>\n    </tr>\n    <tr>\n      <th>11</th>\n      <td>2020-02-28 11:52:19+00:00</td>\n      <td>POINT (340995.5478903474 6289764.735170593)</td>\n      <td>43.615898</td>\n      <td>-1.448407</td>\n      <td>50.217</td>\n    </tr>\n    <tr>\n      <th>12</th>\n      <td>2020-02-28 11:52:20+00:00</td>\n      <td>POINT (340996.3661130767 6289765.18994712)</td>\n      <td>43.615902</td>\n      <td>-1.448398</td>\n      <td>50.063</td>\n    </tr>\n    <tr>\n      <th>13</th>\n      <td>2020-02-28 11:52:20+00:00</td>\n      <td>POINT (340996.3661130767 6289765.18994712)</td>\n      <td>43.615902</td>\n      <td>-1.448398</td>\n      <td>50.063</td>\n    </tr>\n    <tr>\n      <th>14</th>\n      <td>2020-02-28 11:52:20+00:00</td>\n      <td>POINT (340996.3661130767 6289765.18994712)</td>\n      <td>43.615902</td>\n      <td>-1.448398</td>\n      <td>50.063</td>\n    </tr>\n    <tr>\n      <th>15</th>\n      <td>2020-02-28 11:52:20+00:00</td>\n      <td>POINT (340996.3661130767 6289765.18994712)</td>\n      <td>43.615902</td>\n      <td>-1.448398</td>\n      <td>50.063</td>\n    </tr>\n    <tr>\n      <th>16</th>\n      <td>2020-02-28 11:52:20+00:00</td>\n      <td>POINT (340996.3661130767 6289765.18994712)</td>\n      <td>43.615902</td>\n      <td>-1.448398</td>\n      <td>50.063</td>\n    </tr>\n    <tr>\n      <th>17</th>\n      <td>2020-02-28 11:52:25+00:00</td>\n      <td>POINT (341000.4577044064 6289767.185515123)</td>\n      <td>43.615922</td>\n      <td>-1.448348</td>\n      <td>49.627</td>\n    </tr>\n    <tr>\n      <th>18</th>\n      <td>2020-02-28 11:52:25+00:00</td>\n      <td>POINT (341000.4577044064 6289767.185515123)</td>\n      <td>43.615922</td>\n      <td>-1.448348</td>\n      <td>49.627</td>\n    </tr>\n    <tr>\n      <th>19</th>\n      <td>2020-02-28 11:52:29+00:00</td>\n      <td>POINT (341003.9282376376 6289768.637268199)</td>\n      <td>43.615937</td>\n      <td>-1.448306</td>\n      <td>49.599</td>\n    </tr>\n    <tr>\n      <th>20</th>\n      <td>2020-02-28 11:52:29+00:00</td>\n      <td>POINT (341003.9282376376 6289768.637268199)</td>\n      <td>43.615937</td>\n      <td>-1.448306</td>\n      <td>49.599</td>\n    </tr>\n    <tr>\n      <th>21</th>\n      <td>2020-02-28 11:52:29+00:00</td>\n      <td>POINT (341003.9282376376 6289768.637268199)</td>\n      <td>43.615937</td>\n      <td>-1.448306</td>\n      <td>49.599</td>\n    </tr>\n    <tr>\n      <th>22</th>\n      <td>2020-02-28 11:52:30+00:00</td>\n      <td>POINT (341004.8536934059 6289768.985814343)</td>\n      <td>43.615941</td>\n      <td>-1.448295</td>\n      <td>49.650</td>\n    </tr>\n    <tr>\n      <th>23</th>\n      <td>2020-02-28 11:52:30+00:00</td>\n      <td>POINT (341004.8536934059 6289768.985814343)</td>\n      <td>43.615941</td>\n      <td>-1.448295</td>\n      <td>49.650</td>\n    </tr>\n    <tr>\n      <th>24</th>\n      <td>2020-02-28 11:52:31+00:00</td>\n      <td>POINT (341005.7159057198 6289769.360190283)</td>\n      <td>43.615944</td>\n      <td>-1.448285</td>\n      <td>49.554</td>\n    </tr>\n    <tr>\n      <th>25</th>\n      <td>2020-02-28 11:52:31+00:00</td>\n      <td>POINT (341005.7159057198 6289769.360190283)</td>\n      <td>43.615944</td>\n      <td>-1.448285</td>\n      <td>49.554</td>\n    </tr>\n    <tr>\n      <th>26</th>\n      <td>2020-02-28 11:52:31+00:00</td>\n      <td>POINT (341005.7159057198 6289769.360190283)</td>\n      <td>43.615944</td>\n      <td>-1.448285</td>\n      <td>49.554</td>\n    </tr>\n    <tr>\n      <th>27</th>\n      <td>2020-02-28 11:52:31+00:00</td>\n      <td>POINT (341005.7159057198 6289769.360190283)</td>\n      <td>43.615944</td>\n      <td>-1.448285</td>\n      <td>49.554</td>\n    </tr>\n    <tr>\n      <th>28</th>\n      <td>2020-02-28 11:52:31+00:00</td>\n      <td>POINT (341005.7159057198 6289769.360190283)</td>\n      <td>43.615944</td>\n      <td>-1.448285</td>\n      <td>49.554</td>\n    </tr>\n    <tr>\n      <th>29</th>\n      <td>2020-02-28 11:52:31+00:00</td>\n      <td>POINT (341005.7159057198 6289769.360190283)</td>\n      <td>43.615944</td>\n      <td>-1.448285</td>\n      <td>49.554</td>\n    </tr>\n    <tr>\n      <th>30</th>\n      <td>2020-02-28 11:52:31+00:00</td>\n      <td>POINT (341005.7159057198 6289769.360190283)</td>\n      <td>43.615944</td>\n      <td>-1.448285</td>\n      <td>49.554</td>\n    </tr>\n    <tr>\n      <th>31</th>\n      <td>2020-02-28 11:52:31+00:00</td>\n      <td>POINT (341005.7159057198 6289769.360190283)</td>\n      <td>43.615944</td>\n      <td>-1.448285</td>\n      <td>49.554</td>\n    </tr>\n    <tr>\n      <th>32</th>\n      <td>2020-02-28 11:52:32+00:00</td>\n      <td>POINT (341006.4751910504 6289769.773765462)</td>\n      <td>43.615949</td>\n      <td>-1.448276</td>\n      <td>49.294</td>\n    </tr>\n    <tr>\n      <th>33</th>\n      <td>2020-02-28 11:52:32+00:00</td>\n      <td>POINT (341006.4751910504 6289769.773765462)</td>\n      <td>43.615949</td>\n      <td>-1.448276</td>\n      <td>49.294</td>\n    </tr>\n    <tr>\n      <th>34</th>\n      <td>2020-02-28 11:52:33+00:00</td>\n      <td>POINT (341007.3070330013 6289770.183248995)</td>\n      <td>43.615953</td>\n      <td>-1.448266</td>\n      <td>49.230</td>\n    </tr>\n    <tr>\n      <th>35</th>\n      <td>2020-02-28 11:52:33+00:00</td>\n      <td>POINT (341007.3070330013 6289770.183248995)</td>\n      <td>43.615953</td>\n      <td>-1.448266</td>\n      <td>49.230</td>\n    </tr>\n    <tr>\n      <th>36</th>\n      <td>2020-02-28 11:52:34+00:00</td>\n      <td>POINT (341008.1828656853 6289770.512330892)</td>\n      <td>43.615956</td>\n      <td>-1.448255</td>\n      <td>49.365</td>\n    </tr>\n    <tr>\n      <th>37</th>\n      <td>2020-02-28 11:52:34+00:00</td>\n      <td>POINT (341008.1828656853 6289770.512330892)</td>\n      <td>43.615956</td>\n      <td>-1.448255</td>\n      <td>49.365</td>\n    </tr>\n    <tr>\n      <th>38</th>\n      <td>2020-02-28 11:52:35+00:00</td>\n      <td>POINT (341009.0215177687 6289770.899167459)</td>\n      <td>43.615960</td>\n      <td>-1.448245</td>\n      <td>49.185</td>\n    </tr>\n    <tr>\n      <th>39</th>\n      <td>2020-02-28 11:52:35+00:00</td>\n      <td>POINT (341009.0215177687 6289770.899167459)</td>\n      <td>43.615960</td>\n      <td>-1.448245</td>\n      <td>49.185</td>\n    </tr>\n    <tr>\n      <th>40</th>\n      <td>2020-02-28 11:52:36+00:00</td>\n      <td>POINT (341009.8006079793 6289771.233705195)</td>\n      <td>43.615963</td>\n      <td>-1.448236</td>\n      <td>48.968</td>\n    </tr>\n    <tr>\n      <th>41</th>\n      <td>2020-02-28 11:52:36+00:00</td>\n      <td>POINT (341009.8006079793 6289771.233705195)</td>\n      <td>43.615963</td>\n      <td>-1.448236</td>\n      <td>48.968</td>\n    </tr>\n    <tr>\n      <th>42</th>\n      <td>2020-02-28 11:52:36+00:00</td>\n      <td>POINT (341009.8006079793 6289771.233705195)</td>\n      <td>43.615963</td>\n      <td>-1.448236</td>\n      <td>48.968</td>\n    </tr>\n    <tr>\n      <th>43</th>\n      <td>2020-02-28 11:52:38+00:00</td>\n      <td>POINT (341011.4786103126 6289772.163181354)</td>\n      <td>43.615972</td>\n      <td>-1.448216</td>\n      <td>49.151</td>\n    </tr>\n    <tr>\n      <th>44</th>\n      <td>2020-02-28 11:52:39+00:00</td>\n      <td>POINT (341012.4308265832 6289772.699456017)</td>\n      <td>43.615978</td>\n      <td>-1.448204</td>\n      <td>49.247</td>\n    </tr>\n    <tr>\n      <th>45</th>\n      <td>2020-02-28 11:52:39+00:00</td>\n      <td>POINT (341012.4308265832 6289772.699456017)</td>\n      <td>43.615978</td>\n      <td>-1.448204</td>\n      <td>49.247</td>\n    </tr>\n    <tr>\n      <th>46</th>\n      <td>2020-02-28 11:52:40+00:00</td>\n      <td>POINT (341013.2826188311 6289773.319314932)</td>\n      <td>43.615984</td>\n      <td>-1.448194</td>\n      <td>49.219</td>\n    </tr>\n    <tr>\n      <th>47</th>\n      <td>2020-02-28 11:52:41+00:00</td>\n      <td>POINT (341014.2869603759 6289773.919439743)</td>\n      <td>43.615990</td>\n      <td>-1.448182</td>\n      <td>49.129</td>\n    </tr>\n    <tr>\n      <th>48</th>\n      <td>2020-02-28 11:52:44+00:00</td>\n      <td>POINT (341017.1319364827 6289775.75155478)</td>\n      <td>43.616008</td>\n      <td>-1.448148</td>\n      <td>49.141</td>\n    </tr>\n    <tr>\n      <th>49</th>\n      <td>2020-02-28 11:52:46+00:00</td>\n      <td>POINT (341019.2363268586 6289777.358276368)</td>\n      <td>43.616023</td>\n      <td>-1.448123</td>\n      <td>49.180</td>\n    </tr>\n    <tr>\n      <th>50</th>\n      <td>2020-02-28 11:52:47+00:00</td>\n      <td>POINT (341020.167004568 6289778.22971356)</td>\n      <td>43.616031</td>\n      <td>-1.448112</td>\n      <td>49.326</td>\n    </tr>\n    <tr>\n      <th>51</th>\n      <td>2020-02-28 11:52:48+00:00</td>\n      <td>POINT (341021.2018602992 6289779.084144549)</td>\n      <td>43.616040</td>\n      <td>-1.448100</td>\n      <td>49.389</td>\n    </tr>\n    <tr>\n      <th>52</th>\n      <td>2020-02-28 11:52:48+00:00</td>\n      <td>POINT (341021.2018602992 6289779.084144549)</td>\n      <td>43.616040</td>\n      <td>-1.448100</td>\n      <td>49.389</td>\n    </tr>\n    <tr>\n      <th>53</th>\n      <td>2020-02-28 11:52:50+00:00</td>\n      <td>POINT (341023.1220776173 6289780.723516189)</td>\n      <td>43.616055</td>\n      <td>-1.448077</td>\n      <td>49.354</td>\n    </tr>\n    <tr>\n      <th>54</th>\n      <td>2020-02-28 11:52:51+00:00</td>\n      <td>POINT (341024.0626207067 6289781.483081929)</td>\n      <td>43.616063</td>\n      <td>-1.448066</td>\n      <td>49.389</td>\n    </tr>\n    <tr>\n      <th>55</th>\n      <td>2020-02-28 11:52:51+00:00</td>\n      <td>POINT (341024.0626207067 6289781.483081929)</td>\n      <td>43.616063</td>\n      <td>-1.448066</td>\n      <td>49.389</td>\n    </tr>\n    <tr>\n      <th>56</th>\n      <td>2020-02-28 11:52:51+00:00</td>\n      <td>POINT (341024.0626207067 6289781.483081929)</td>\n      <td>43.616063</td>\n      <td>-1.448066</td>\n      <td>49.389</td>\n    </tr>\n  </tbody>\n</table>\n</div>",
      "text/plain": "                        Time                                     the_geom  \\\n0  2020-02-28 11:52:07+00:00  POINT (340987.7644429434 6289760.231710243)   \n1  2020-02-28 11:52:07+00:00  POINT (340987.7644429434 6289760.231710243)   \n2  2020-02-28 11:52:10+00:00  POINT (340989.4878405507 6289761.392383807)   \n3  2020-02-28 11:52:12+00:00  POINT (340990.7390486228 6289762.067635369)   \n4  2020-02-28 11:52:13+00:00  POINT (340991.5906244033 6289762.253372751)   \n5  2020-02-28 11:52:14+00:00  POINT (340992.3492124217 6289762.511143766)   \n6  2020-02-28 11:52:17+00:00   POINT (340994.2518469578 6289763.69510499)   \n7  2020-02-28 11:52:18+00:00  POINT (340994.6874808325 6289764.249378612)   \n8  2020-02-28 11:52:19+00:00  POINT (340995.5478903474 6289764.735170593)   \n9  2020-02-28 11:52:19+00:00  POINT (340995.5478903474 6289764.735170593)   \n10 2020-02-28 11:52:19+00:00  POINT (340995.5478903474 6289764.735170593)   \n11 2020-02-28 11:52:19+00:00  POINT (340995.5478903474 6289764.735170593)   \n12 2020-02-28 11:52:20+00:00   POINT (340996.3661130767 6289765.18994712)   \n13 2020-02-28 11:52:20+00:00   POINT (340996.3661130767 6289765.18994712)   \n14 2020-02-28 11:52:20+00:00   POINT (340996.3661130767 6289765.18994712)   \n15 2020-02-28 11:52:20+00:00   POINT (340996.3661130767 6289765.18994712)   \n16 2020-02-28 11:52:20+00:00   POINT (340996.3661130767 6289765.18994712)   \n17 2020-02-28 11:52:25+00:00  POINT (341000.4577044064 6289767.185515123)   \n18 2020-02-28 11:52:25+00:00  POINT (341000.4577044064 6289767.185515123)   \n19 2020-02-28 11:52:29+00:00  POINT (341003.9282376376 6289768.637268199)   \n20 2020-02-28 11:52:29+00:00  POINT (341003.9282376376 6289768.637268199)   \n21 2020-02-28 11:52:29+00:00  POINT (341003.9282376376 6289768.637268199)   \n22 2020-02-28 11:52:30+00:00  POINT (341004.8536934059 6289768.985814343)   \n23 2020-02-28 11:52:30+00:00  POINT (341004.8536934059 6289768.985814343)   \n24 2020-02-28 11:52:31+00:00  POINT (341005.7159057198 6289769.360190283)   \n25 2020-02-28 11:52:31+00:00  POINT (341005.7159057198 6289769.360190283)   \n26 2020-02-28 11:52:31+00:00  POINT (341005.7159057198 6289769.360190283)   \n27 2020-02-28 11:52:31+00:00  POINT (341005.7159057198 6289769.360190283)   \n28 2020-02-28 11:52:31+00:00  POINT (341005.7159057198 6289769.360190283)   \n29 2020-02-28 11:52:31+00:00  POINT (341005.7159057198 6289769.360190283)   \n30 2020-02-28 11:52:31+00:00  POINT (341005.7159057198 6289769.360190283)   \n31 2020-02-28 11:52:31+00:00  POINT (341005.7159057198 6289769.360190283)   \n32 2020-02-28 11:52:32+00:00  POINT (341006.4751910504 6289769.773765462)   \n33 2020-02-28 11:52:32+00:00  POINT (341006.4751910504 6289769.773765462)   \n34 2020-02-28 11:52:33+00:00  POINT (341007.3070330013 6289770.183248995)   \n35 2020-02-28 11:52:33+00:00  POINT (341007.3070330013 6289770.183248995)   \n36 2020-02-28 11:52:34+00:00  POINT (341008.1828656853 6289770.512330892)   \n37 2020-02-28 11:52:34+00:00  POINT (341008.1828656853 6289770.512330892)   \n38 2020-02-28 11:52:35+00:00  POINT (341009.0215177687 6289770.899167459)   \n39 2020-02-28 11:52:35+00:00  POINT (341009.0215177687 6289770.899167459)   \n40 2020-02-28 11:52:36+00:00  POINT (341009.8006079793 6289771.233705195)   \n41 2020-02-28 11:52:36+00:00  POINT (341009.8006079793 6289771.233705195)   \n42 2020-02-28 11:52:36+00:00  POINT (341009.8006079793 6289771.233705195)   \n43 2020-02-28 11:52:38+00:00  POINT (341011.4786103126 6289772.163181354)   \n44 2020-02-28 11:52:39+00:00  POINT (341012.4308265832 6289772.699456017)   \n45 2020-02-28 11:52:39+00:00  POINT (341012.4308265832 6289772.699456017)   \n46 2020-02-28 11:52:40+00:00  POINT (341013.2826188311 6289773.319314932)   \n47 2020-02-28 11:52:41+00:00  POINT (341014.2869603759 6289773.919439743)   \n48 2020-02-28 11:52:44+00:00   POINT (341017.1319364827 6289775.75155478)   \n49 2020-02-28 11:52:46+00:00  POINT (341019.2363268586 6289777.358276368)   \n50 2020-02-28 11:52:47+00:00    POINT (341020.167004568 6289778.22971356)   \n51 2020-02-28 11:52:48+00:00  POINT (341021.2018602992 6289779.084144549)   \n52 2020-02-28 11:52:48+00:00  POINT (341021.2018602992 6289779.084144549)   \n53 2020-02-28 11:52:50+00:00  POINT (341023.1220776173 6289780.723516189)   \n54 2020-02-28 11:52:51+00:00  POINT (341024.0626207067 6289781.483081929)   \n55 2020-02-28 11:52:51+00:00  POINT (341024.0626207067 6289781.483081929)   \n56 2020-02-28 11:52:51+00:00  POINT (341024.0626207067 6289781.483081929)   \n\n     Latitude  Longitude  Elevation  \n0   43.615853  -1.448500     53.203  \n1   43.615853  -1.448500     53.203  \n2   43.615865  -1.448480     51.617  \n3   43.615871  -1.448465     51.140  \n4   43.615873  -1.448454     51.082  \n5   43.615876  -1.448445     51.401  \n6   43.615888  -1.448423     50.899  \n7   43.615893  -1.448418     50.447  \n8   43.615898  -1.448407     50.217  \n9   43.615898  -1.448407     50.217  \n10  43.615898  -1.448407     50.217  \n11  43.615898  -1.448407     50.217  \n12  43.615902  -1.448398     50.063  \n13  43.615902  -1.448398     50.063  \n14  43.615902  -1.448398     50.063  \n15  43.615902  -1.448398     50.063  \n16  43.615902  -1.448398     50.063  \n17  43.615922  -1.448348     49.627  \n18  43.615922  -1.448348     49.627  \n19  43.615937  -1.448306     49.599  \n20  43.615937  -1.448306     49.599  \n21  43.615937  -1.448306     49.599  \n22  43.615941  -1.448295     49.650  \n23  43.615941  -1.448295     49.650  \n24  43.615944  -1.448285     49.554  \n25  43.615944  -1.448285     49.554  \n26  43.615944  -1.448285     49.554  \n27  43.615944  -1.448285     49.554  \n28  43.615944  -1.448285     49.554  \n29  43.615944  -1.448285     49.554  \n30  43.615944  -1.448285     49.554  \n31  43.615944  -1.448285     49.554  \n32  43.615949  -1.448276     49.294  \n33  43.615949  -1.448276     49.294  \n34  43.615953  -1.448266     49.230  \n35  43.615953  -1.448266     49.230  \n36  43.615956  -1.448255     49.365  \n37  43.615956  -1.448255     49.365  \n38  43.615960  -1.448245     49.185  \n39  43.615960  -1.448245     49.185  \n40  43.615963  -1.448236     48.968  \n41  43.615963  -1.448236     48.968  \n42  43.615963  -1.448236     48.968  \n43  43.615972  -1.448216     49.151  \n44  43.615978  -1.448204     49.247  \n45  43.615978  -1.448204     49.247  \n46  43.615984  -1.448194     49.219  \n47  43.615990  -1.448182     49.129  \n48  43.616008  -1.448148     49.141  \n49  43.616023  -1.448123     49.180  \n50  43.616031  -1.448112     49.326  \n51  43.616040  -1.448100     49.389  \n52  43.616040  -1.448100     49.389  \n53  43.616055  -1.448077     49.354  \n54  43.616063  -1.448066     49.389  \n55  43.616063  -1.448066     49.389  \n56  43.616063  -1.448066     49.389  "
     },
     "execution_count": 152,
     "metadata": {},
     "output_type": "execute_result"
    }
   ],
   "source": [
    "df_trash_gps"
   ]
  },
  {
   "cell_type": "code",
   "execution_count": null,
   "metadata": {},
   "outputs": [],
   "source": [
    "for time_index in df_predictions['time_index']:\n",
    "    print(time_index)"
   ]
  },
  {
   "cell_type": "code",
   "execution_count": null,
   "metadata": {},
   "outputs": [],
   "source": [
    "df_trash_gps = get_df_trash_gps(jsonPrediction)"
   ]
  },
  {
   "cell_type": "code",
   "execution_count": null,
   "metadata": {},
   "outputs": [],
   "source": [
    "df_trash_gps.head()"
   ]
  },
  {
   "cell_type": "code",
   "execution_count": null,
   "metadata": {},
   "outputs": [],
   "source": [
    "df_predictions.head()"
   ]
  },
  {
   "cell_type": "code",
   "execution_count": 154,
   "metadata": {},
   "outputs": [],
   "source": [
    "def get_df_data(df_predictions:pd.DataFrame,df_trash_gps:pd.DataFrame)->pd.DataFrame:\n",
    "    df_data = pd.concat([df_predictions,df_trash_gps],axis=1)\n",
    "    return df_data"
   ]
  },
  {
   "cell_type": "code",
   "execution_count": 155,
   "metadata": {},
   "outputs": [],
   "source": [
    "df_data = get_df_data(df_predictions,df_trash_gps)"
   ]
  },
  {
   "cell_type": "code",
   "execution_count": 156,
   "metadata": {},
   "outputs": [
    {
     "data": {
      "text/html": "<div>\n<style scoped>\n    .dataframe tbody tr th:only-of-type {\n        vertical-align: middle;\n    }\n\n    .dataframe tbody tr th {\n        vertical-align: top;\n    }\n\n    .dataframe thead th {\n        text-align: right;\n    }\n</style>\n<table border=\"1\" class=\"dataframe\">\n  <thead>\n    <tr style=\"text-align: right;\">\n      <th></th>\n      <th>time_index</th>\n      <th>frame_to_box</th>\n      <th>id</th>\n      <th>label</th>\n      <th>Time</th>\n      <th>the_geom</th>\n      <th>Latitude</th>\n      <th>Longitude</th>\n      <th>Elevation</th>\n    </tr>\n  </thead>\n  <tbody>\n    <tr>\n      <th>0</th>\n      <td>0</td>\n      <td>[0.27, 0.12, 0.3, 0.18]</td>\n      <td>0</td>\n      <td>fragments</td>\n      <td>2020-02-28 11:52:07+00:00</td>\n      <td>POINT (340987.7644429434 6289760.231710243)</td>\n      <td>43.615853</td>\n      <td>-1.448500</td>\n      <td>53.203</td>\n    </tr>\n    <tr>\n      <th>1</th>\n      <td>0</td>\n      <td>[0.28, 0.45, 0.29, 0.48]</td>\n      <td>1</td>\n      <td>fragments</td>\n      <td>2020-02-28 11:52:07+00:00</td>\n      <td>POINT (340987.7644429434 6289760.231710243)</td>\n      <td>43.615853</td>\n      <td>-1.448500</td>\n      <td>53.203</td>\n    </tr>\n    <tr>\n      <th>2</th>\n      <td>3</td>\n      <td>[0.18, 0.43, 0.2, 0.48]</td>\n      <td>2</td>\n      <td>fragments</td>\n      <td>2020-02-28 11:52:10+00:00</td>\n      <td>POINT (340989.4878405507 6289761.392383807)</td>\n      <td>43.615865</td>\n      <td>-1.448480</td>\n      <td>51.617</td>\n    </tr>\n    <tr>\n      <th>3</th>\n      <td>5</td>\n      <td>[0.15, 0.15, 0.18, 0.21]</td>\n      <td>3</td>\n      <td>fragments</td>\n      <td>2020-02-28 11:52:12+00:00</td>\n      <td>POINT (340990.7390486228 6289762.067635369)</td>\n      <td>43.615871</td>\n      <td>-1.448465</td>\n      <td>51.140</td>\n    </tr>\n    <tr>\n      <th>4</th>\n      <td>6</td>\n      <td>[0.32, 0.11, 0.35, 0.17]</td>\n      <td>4</td>\n      <td>fragments</td>\n      <td>2020-02-28 11:52:13+00:00</td>\n      <td>POINT (340991.5906244033 6289762.253372751)</td>\n      <td>43.615873</td>\n      <td>-1.448454</td>\n      <td>51.082</td>\n    </tr>\n  </tbody>\n</table>\n</div>",
      "text/plain": "   time_index              frame_to_box  id      label  \\\n0           0   [0.27, 0.12, 0.3, 0.18]   0  fragments   \n1           0  [0.28, 0.45, 0.29, 0.48]   1  fragments   \n2           3   [0.18, 0.43, 0.2, 0.48]   2  fragments   \n3           5  [0.15, 0.15, 0.18, 0.21]   3  fragments   \n4           6  [0.32, 0.11, 0.35, 0.17]   4  fragments   \n\n                       Time                                     the_geom  \\\n0 2020-02-28 11:52:07+00:00  POINT (340987.7644429434 6289760.231710243)   \n1 2020-02-28 11:52:07+00:00  POINT (340987.7644429434 6289760.231710243)   \n2 2020-02-28 11:52:10+00:00  POINT (340989.4878405507 6289761.392383807)   \n3 2020-02-28 11:52:12+00:00  POINT (340990.7390486228 6289762.067635369)   \n4 2020-02-28 11:52:13+00:00  POINT (340991.5906244033 6289762.253372751)   \n\n    Latitude  Longitude  Elevation  \n0  43.615853  -1.448500     53.203  \n1  43.615853  -1.448500     53.203  \n2  43.615865  -1.448480     51.617  \n3  43.615871  -1.448465     51.140  \n4  43.615873  -1.448454     51.082  "
     },
     "execution_count": 156,
     "metadata": {},
     "output_type": "execute_result"
    }
   ],
   "source": [
    "df_data.head()"
   ]
  },
  {
   "cell_type": "code",
   "execution_count": null,
   "metadata": {},
   "outputs": [],
   "source": []
  }
 ]
}