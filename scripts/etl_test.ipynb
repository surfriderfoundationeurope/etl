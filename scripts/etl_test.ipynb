{
 "nbformat": 4,
 "nbformat_minor": 2,
 "metadata": {
  "language_info": {
   "name": "python",
   "codemirror_mode": {
    "name": "ipython",
    "version": 3
   },
   "version": "3.6.9-final"
  },
  "orig_nbformat": 2,
  "file_extension": ".py",
  "mimetype": "text/x-python",
  "name": "python",
  "npconvert_exporter": "python",
  "pygments_lexer": "ipython3",
  "version": 3,
  "kernelspec": {
   "name": "python36964bitsurfridercondaa4d29431e9f947419d6d850056118d13",
   "display_name": "Python 3.6.9 64-bit ('surfrider': conda)"
  }
 },
 "cells": [
  {
   "cell_type": "code",
   "execution_count": 2,
   "metadata": {},
   "outputs": [
    {
     "name": "stdout",
     "output_type": "stream",
     "text": "env: PGSERVER=pgdb-plastico-dev.postgres.database.azure.com\nenv: PGDATABASE=plastico-dev\nenv: PGUSERNAME=writer_user@pgdb-plastico-dev\nenv: PGPWD=SurfWriter!\n"
    }
   ],
   "source": [
    "%env PGSERVER=pgdb-plastico-dev.postgres.database.azure.com\n",
    "%env PGDATABASE=plastico-dev\n",
    "%env PGUSERNAME=writer_user@pgdb-plastico-dev\n",
    "%env PGPWD=SurfWriter!"
   ]
  },
  {
   "cell_type": "code",
   "execution_count": 1,
   "metadata": {},
   "outputs": [],
   "source": [
    "# import prerequesite for ai\n",
    "import json\n",
    "import requests\n",
    "import logging\n",
    "from utils.ai import is_ai_ready,get_prediction,get_json_prediction,get_trash_label,map_label_to_trash_id_PG,get_trash_time_index,get_trash_first_time,get_clean_timed_prediction,get_df_prediction\n",
    "# import prerequesite for gps\n",
    "import gpxpy\n",
    "import gpxpy.gpx\n",
    "import json\n",
    "import subprocess\n",
    "import datetime\n",
    "from datetime import datetime\n",
    "from datetime import timedelta\n",
    "from shapely.geometry import Point\n",
    "from functools import partial\n",
    "import pyproj\n",
    "from shapely.ops import transform\n",
    "from tqdm import tqdm\n",
    "from utils.gps import extract_gpx_from_gopro,parse_gpx,get_gps_point_list,create_time,create_latitude,create_longitude,create_elevation,fill_gps,long_lat_to_shape_point,transform_geo,get_df_trash_gps\n",
    "# import prerequesite from media\n",
    "from utils.media import get_media_duration,get_media_fps\n",
    "# import prerequesite for postgre\n",
    "import os\n",
    "import psycopg2\n",
    "from utils.postgre import get_pg_connection_string,open_pg_connection,close_pg_connection,insert_trash,get_df_data,insert_trash_df"
   ]
  },
  {
   "cell_type": "code",
   "execution_count": 3,
   "metadata": {},
   "outputs": [],
   "source": [
    "with open('../data/prediction.json') as json_file:\n",
    "    jsonPrediction = json.load(json_file)"
   ]
  },
  {
   "cell_type": "code",
   "execution_count": 4,
   "metadata": {},
   "outputs": [
    {
     "name": "stdout",
     "output_type": "stream",
     "text": "<_sre.SRE_Match object; span=(2554, 2592), match='Stream #0:3(eng): Data: bin_data (gpmd'>\nffprobe version 4.2.2 Copyright (c) 2007-2019 the FFmpeg developers\n  built with Apple clang version 11.0.0 (clang-1100.0.33.17)\n  configuration: --prefix=/usr/local/Cellar/ffmpeg/4.2.2_2 --enable-shared --enable-pthreads --enable-version3 --enable-avresample --cc=clang --host-cflags= --host-ldflags= --enable-ffplay --enable-gnutls --enable-gpl --enable-libaom --enable-libbluray --enable-libmp3lame --enable-libopus --enable-librubberband --enable-libsnappy --enable-libtesseract --enable-libtheora --enable-libvidstab --enable-libvorbis --enable-libvpx --enable-libwebp --enable-libx264 --enable-libx265 --enable-libxvid --enable-lzma --enable-libfontconfig --enable-libfreetype --enable-frei0r --enable-libass --enable-libopencore-amrnb --enable-libopencore-amrwb --enable-libopenjpeg --enable-librtmp --enable-libspeex --enable-libsoxr --enable-videotoolbox --disable-libjack --disable-indev=jack\n  libavutil      56. 31.100 / 56. 31.100\n  libavcodec     58. 54.100 / 58. 54.100\n  libavformat    58. 29.100 / 58. 29.100\n  libavdevice    58.  8.100 / 58.  8.100\n  libavfilter     7. 57.100 /  7. 57.100\n  libavresample   4.  0.  0 /  4.  0.  0\n  libswscale      5.  5.100 /  5.  5.100\n  libswresample   3.  5.100 /  3.  5.100\n  libpostproc    55.  5.100 / 55.  5.100\n[mov,mp4,m4a,3gp,3g2,mj2 @ 0x7fbc17801400] Using non-standard frame rate 23/1\nInput #0, mov,mp4,m4a,3gp,3g2,mj2, from '/tmp/28022020_Boudigau_4.MP4':\n  Metadata:\n    major_brand     : mp41\n    minor_version   : 538120216\n    compatible_brands: mp41\n    creation_time   : 2020-02-28T12:52:07.000000Z\n    location        : +43.6159-001.4485/\n    location-eng    : +43.6159-001.4485/\n    firmware        : HD7.01.01.80.00\n  Duration: 00:11:22.43, start: 0.000000, bitrate: 30251 kb/s\n    Stream #0:0(eng): Video: h264 (High) (avc1 / 0x31637661), yuvj420p(pc, bt709), 1920x1080 [SAR 1:1 DAR 16:9], 30002 kb/s, 23.98 fps, 23.98 tbr, 24k tbn, 47.95 tbc (default)\n    Metadata:\n      creation_time   : 2020-02-28T12:52:07.000000Z\n      handler_name    : GoPro AVC  \n      encoder         : GoPro AVC encoder\n      timecode        : 13:24:53:03\n    Stream #0:1(eng): Audio: aac (LC) (mp4a / 0x6134706D), 48000 Hz, stereo, fltp, 189 kb/s (default)\n    Metadata:\n      creation_time   : 2020-02-28T12:52:07.000000Z\n      handler_name    : GoPro AAC  \n      timecode        : 13:24:53:03\n    Stream #0:2(eng): Data: none (tmcd / 0x64636D74) (default)\n    Metadata:\n      creation_time   : 2020-02-28T12:52:07.000000Z\n      handler_name    : GoPro TCD  \n      timecode        : 13:24:53:03\n    Stream #0:3(eng): Data: bin_data (gpmd / 0x646D7067), 41 kb/s (default)\n    Metadata:\n      creation_time   : 2020-02-28T12:52:07.000000Z\n      handler_name    : GoPro MET  \n    Stream #0:4(eng): Data: none (fdsc / 0x63736466), 9 kb/s (default)\n    Metadata:\n      creation_time   : 2020-02-28T12:52:07.000000Z\n      handler_name    : GoPro SOS  \nUnsupported codec with id 0 for input stream 2\nUnsupported codec with id 100359 for input stream 3\nUnsupported codec with id 0 for input stream 4\n\nGPSFIX change to 3 [lock 3D (ok)]\n-- stats -----------------\n- Ok:                681\n- GPSFIX=0 (bad):      0 (skipped: 0)\n- Empty (No data):     0\nTotal points:        681\n--------------------------\n"
    }
   ],
   "source": [
    "video_name = '28022020_Boudigau_4.MP4'\n",
    "prediction = jsonPrediction['detected_trash'][0]\n",
    "media_fps = get_media_fps(f'/tmp/{video_name}')\n",
    "gpx_path = extract_gpx_from_gopro(f'/tmp/{video_name}')\n",
    "gpx_data = parse_gpx(gpx_path)\n",
    "gps_points = get_gps_point_list(gpx_data)\n",
    "video_duration = get_media_duration(f'/tmp/{video_name}')\n",
    "video_duration_sup = int(video_duration)+1\n",
    "gps_points_filled = fill_gps(gps_points,video_duration_sup)\n",
    "time_index = get_trash_time_index(prediction,media_fps)\n",
    "# trash_gps\n",
    "trash_gps = gps_points_filled[time_index]\n",
    "shape_trash_gps = long_lat_to_shape_point(trash_gps)\n",
    "geo_2154 = transform_geo(shape_trash_gps)\n",
    "geo_2154_trash_gps = {'Time': shape_trash_gps['Time'], 'the_geom': geo_2154,'Latitude':shape_trash_gps['Latitude'],'Longitude':shape_trash_gps['Longitude'], 'Elevation': shape_trash_gps['Elevation']}\n",
    "# get trash_type from ai module\n",
    "label = get_trash_label(prediction)\n",
    "trash_type = map_label_to_trash_id_PG(label)"
   ]
  },
  {
   "cell_type": "code",
   "execution_count": 5,
   "metadata": {},
   "outputs": [],
   "source": [
    "import pandas as pd"
   ]
  },
  {
   "cell_type": "code",
   "execution_count": 6,
   "metadata": {},
   "outputs": [
    {
     "data": {
      "text/plain": "{'time_index': 0,\n 'frame_to_box': [0.27, 0.12, 0.3, 0.18],\n 'id': 0,\n 'label': 'fragments',\n 'trash_type_id': 4}"
     },
     "execution_count": 6,
     "metadata": {},
     "output_type": "execute_result"
    }
   ],
   "source": [
    "# A single timed_prediction\n",
    "timed_prediction = get_clean_timed_prediction(prediction,4)\n",
    "timed_prediction"
   ]
  },
  {
   "cell_type": "code",
   "execution_count": 7,
   "metadata": {},
   "outputs": [
    {
     "name": "stdout",
     "output_type": "stream",
     "text": "{'frame_to_box': {'0': [0.27, 0.12, 0.3, 0.18], '1': [0.27, 0.1, 0.3, 0.24], '2': [0.27, 0.09, 0.3, 0.17]}, 'id': 0, 'label': 'fragments'}\n{'time_index': 0, 'frame_to_box': [0.27, 0.12, 0.3, 0.18], 'id': 0, 'label': 'fragments', 'trash_type_id': 4}\n{'frame_to_box': {'0': [0.28, 0.45, 0.29, 0.48]}, 'id': 1, 'label': 'fragments'}\n{'time_index': 0, 'frame_to_box': [0.28, 0.45, 0.29, 0.48], 'id': 1, 'label': 'fragments', 'trash_type_id': 4}\n{'frame_to_box': {'3': [0.18, 0.43, 0.2, 0.48]}, 'id': 2, 'label': 'fragments'}\n{'time_index': 0, 'frame_to_box': [0.18, 0.43, 0.2, 0.48], 'id': 2, 'label': 'fragments', 'trash_type_id': 4}\n{'frame_to_box': {'5': [0.15, 0.15, 0.18, 0.21]}, 'id': 3, 'label': 'fragments'}\n{'time_index': 1, 'frame_to_box': [0.15, 0.15, 0.18, 0.21], 'id': 3, 'label': 'fragments', 'trash_type_id': 4}\n{'frame_to_box': {'6': [0.32, 0.11, 0.35, 0.17], '8': [0.32, 0.1, 0.34, 0.2]}, 'id': 4, 'label': 'fragments'}\n{'time_index': 1, 'frame_to_box': [0.32, 0.11, 0.35, 0.17], 'id': 4, 'label': 'fragments', 'trash_type_id': 4}\n{'frame_to_box': {'7': [0.17, 0.16, 0.19, 0.23], '8': [0.17, 0.16, 0.2, 0.23]}, 'id': 5, 'label': 'fragments'}\n{'time_index': 1, 'frame_to_box': [0.17, 0.16, 0.19, 0.23], 'id': 5, 'label': 'fragments', 'trash_type_id': 4}\n{'frame_to_box': {'10': [0.42, 0.38, 0.45, 0.51]}, 'id': 6, 'label': 'fragments'}\n{'time_index': 2, 'frame_to_box': [0.42, 0.38, 0.45, 0.51], 'id': 6, 'label': 'fragments', 'trash_type_id': 4}\n{'frame_to_box': {'11': [0.99, 0.35, 1.0, 0.4]}, 'id': 7, 'label': 'fragments'}\n{'time_index': 2, 'frame_to_box': [0.99, 0.35, 1.0, 0.4], 'id': 7, 'label': 'fragments', 'trash_type_id': 4}\n{'frame_to_box': {'12': [0.28, 0.4, 0.31, 0.51]}, 'id': 8, 'label': 'fragments'}\n{'time_index': 3, 'frame_to_box': [0.28, 0.4, 0.31, 0.51], 'id': 8, 'label': 'fragments', 'trash_type_id': 4}\n{'frame_to_box': {'12': [0.19, 0.14, 0.23, 0.21]}, 'id': 9, 'label': 'fragments'}\n{'time_index': 3, 'frame_to_box': [0.19, 0.14, 0.23, 0.21], 'id': 9, 'label': 'fragments', 'trash_type_id': 4}\n{'frame_to_box': {'12': [0.27, 0.38, 0.29, 0.41]}, 'id': 10, 'label': 'fragments'}\n{'time_index': 3, 'frame_to_box': [0.27, 0.38, 0.29, 0.41], 'id': 10, 'label': 'fragments', 'trash_type_id': 4}\n{'frame_to_box': {'12': [0.28, 0.42, 0.3, 0.51]}, 'id': 11, 'label': 'fragments'}\n{'time_index': 3, 'frame_to_box': [0.28, 0.42, 0.3, 0.51], 'id': 11, 'label': 'fragments', 'trash_type_id': 4}\n{'frame_to_box': {'13': [0.66, 0.09, 0.73, 0.15]}, 'id': 12, 'label': 'bottles'}\n{'time_index': 3, 'frame_to_box': [0.66, 0.09, 0.73, 0.15], 'id': 12, 'label': 'bottles', 'trash_type_id': 3}\n{'frame_to_box': {'13': [0.66, 0.08, 0.73, 0.15]}, 'id': 13, 'label': 'fragments'}\n{'time_index': 3, 'frame_to_box': [0.66, 0.08, 0.73, 0.15], 'id': 13, 'label': 'fragments', 'trash_type_id': 4}\n{'frame_to_box': {'13': [0.21, 0.38, 0.23, 0.52]}, 'id': 14, 'label': 'fragments'}\n{'time_index': 3, 'frame_to_box': [0.21, 0.38, 0.23, 0.52], 'id': 14, 'label': 'fragments', 'trash_type_id': 4}\n{'frame_to_box': {'13': [0.92, 0.37, 0.94, 0.4]}, 'id': 15, 'label': 'fragments'}\n{'time_index': 3, 'frame_to_box': [0.92, 0.37, 0.94, 0.4], 'id': 15, 'label': 'fragments', 'trash_type_id': 4}\n{'frame_to_box': {'13': [0.66, 0.08, 0.73, 0.14]}, 'id': 16, 'label': 'others'}\n{'time_index': 3, 'frame_to_box': [0.66, 0.08, 0.73, 0.14], 'id': 16, 'label': 'others', 'trash_type_id': 1}\n{'frame_to_box': {'18': [1.17, 0.61, 1.33, 0.74], '20': [1.16, 0.61, 1.32, 0.74]}, 'id': 17, 'label': 'fragments'}\n{'time_index': 4, 'frame_to_box': [1.17, 0.61, 1.33, 0.74], 'id': 17, 'label': 'fragments', 'trash_type_id': 4}\n{'frame_to_box': {'18': [1.19, 0.62, 1.33, 0.75], '20': [1.16, 0.61, 1.32, 0.75]}, 'id': 18, 'label': 'others'}\n{'time_index': 4, 'frame_to_box': [1.19, 0.62, 1.33, 0.75], 'id': 18, 'label': 'others', 'trash_type_id': 1}\n{'frame_to_box': {'22': [0.93, 0.51, 1.33, 0.74], '23': [0.94, 0.34, 1.33, 0.75], '24': [0.43, 0.45, 1.31, 0.74], '25': [0.22, 0.56, 0.92, 0.74], '26': [0.28, 0.54, 0.94, 0.74], '27': [0.38, 0.48, 1.13, 0.75]}, 'id': 19, 'label': 'others'}\n{'time_index': 5, 'frame_to_box': [0.93, 0.51, 1.33, 0.74], 'id': 19, 'label': 'others', 'trash_type_id': 1}\n{'frame_to_box': {'22': [0.93, 0.51, 1.33, 0.75], '23': [0.74, 0.47, 1.31, 0.74], '24': [0.46, 0.47, 1.13, 0.75], '25': [0.3, 0.43, 1.15, 0.75], '26': [0.3, 0.46, 1.0, 0.74]}, 'id': 20, 'label': 'fragments'}\n{'time_index': 5, 'frame_to_box': [0.93, 0.51, 1.33, 0.75], 'id': 20, 'label': 'fragments', 'trash_type_id': 4}\n{'frame_to_box': {'22': [0.95, 0.52, 1.33, 0.75], '23': [0.72, 0.48, 1.32, 0.74], '24': [0.44, 0.46, 1.31, 0.74], '25': [0.57, 0.43, 1.32, 0.73], '26': [0.64, 0.42, 1.33, 0.73], '27': [0.61, 0.42, 1.33, 0.73], '28': [0.71, 0.45, 1.33, 0.74], '29': [0.87, 0.45, 1.33, 0.74], '30': [0.92, 0.42, 1.33, 0.74], '31': [0.9, 0.47, 1.33, 0.74], '32': [0.96, 0.43, 1.33, 0.74], '34': [1.03, 0.59, 1.32, 0.74], '36': [1.0, 0.58, 1.32, 0.74], '38': [0.92, 0.6, 1.23, 0.74], '39': [0.9, 0.6, 1.21, 0.74], '40': [0.88, 0.61, 1.2, 0.75], '41': [0.92, 0.61, 1.23, 0.74]}, 'id': 21, 'label': 'bottles'}\n{'time_index': 5, 'frame_to_box': [0.95, 0.52, 1.33, 0.75], 'id': 21, 'label': 'bottles', 'trash_type_id': 3}\n{'frame_to_box': {'23': [1.19, 0.29, 1.33, 0.73]}, 'id': 22, 'label': 'fragments'}\n{'time_index': 5, 'frame_to_box': [1.19, 0.29, 1.33, 0.73], 'id': 22, 'label': 'fragments', 'trash_type_id': 4}\n{'frame_to_box': {'23': [0.33, 0.56, 0.35, 0.58]}, 'id': 23, 'label': 'fragments'}\n{'time_index': 5, 'frame_to_box': [0.33, 0.56, 0.35, 0.58], 'id': 23, 'label': 'fragments', 'trash_type_id': 4}\n{'frame_to_box': {'24': [1.08, 0.32, 1.15, 0.41]}, 'id': 24, 'label': 'fragments'}\n{'time_index': 6, 'frame_to_box': [1.08, 0.32, 1.15, 0.41], 'id': 24, 'label': 'fragments', 'trash_type_id': 4}\n{'frame_to_box': {'24': [0.17, 0.55, 0.19, 0.58]}, 'id': 25, 'label': 'fragments'}\n{'time_index': 6, 'frame_to_box': [0.17, 0.55, 0.19, 0.58], 'id': 25, 'label': 'fragments', 'trash_type_id': 4}\n{'frame_to_box': {'24': [1.07, 0.33, 1.14, 0.4]}, 'id': 26, 'label': 'others'}\n{'time_index': 6, 'frame_to_box': [1.07, 0.33, 1.14, 0.4], 'id': 26, 'label': 'others', 'trash_type_id': 1}\n{'frame_to_box': {'24': [0.8, 0.33, 1.32, 0.74], '25': [0.6, 0.38, 1.31, 0.74], '26': [0.66, 0.32, 1.25, 0.69], '27': [0.44, 0.34, 1.33, 0.73], '28': [0.74, 0.38, 1.32, 0.74], '29': [0.97, 0.37, 1.32, 0.72], '30': [0.97, 0.36, 1.33, 0.72], '31': [0.9, 0.36, 1.33, 0.75], '32': [0.99, 0.38, 1.33, 0.75], '33': [1.03, 0.44, 1.33, 0.75], '34': [1.06, 0.46, 1.33, 0.74], '35': [1.03, 0.46, 1.33, 0.75], '36': [1.0, 0.46, 1.33, 0.75], '37': [0.97, 0.47, 1.28, 0.74], '38': [0.93, 0.6, 1.25, 0.74], '39': [0.89, 0.6, 1.27, 0.75], '40': [0.9, 0.5, 1.2, 0.74], '41': [0.95, 0.61, 1.22, 0.74], '42': [1.09, 0.48, 1.23, 0.71], '43': [1.15, 0.48, 1.27, 0.71], '44': [1.2, 0.49, 1.33, 0.72]}, 'id': 27, 'label': 'fragments'}\n{'time_index': 6, 'frame_to_box': [0.8, 0.33, 1.32, 0.74], 'id': 27, 'label': 'fragments', 'trash_type_id': 4}\n{'frame_to_box': {'24': [1.07, 0.32, 1.15, 0.41]}, 'id': 28, 'label': 'bottles'}\n{'time_index': 6, 'frame_to_box': [1.07, 0.32, 1.15, 0.41], 'id': 28, 'label': 'bottles', 'trash_type_id': 3}\n{'frame_to_box': {'24': [0.17, 0.55, 0.19, 0.58]}, 'id': 29, 'label': 'fragments'}\n{'time_index': 6, 'frame_to_box': [0.17, 0.55, 0.19, 0.58], 'id': 29, 'label': 'fragments', 'trash_type_id': 4}\n{'frame_to_box': {'24': [1.09, 0.34, 1.13, 0.4]}, 'id': 30, 'label': 'fragments'}\n{'time_index': 6, 'frame_to_box': [1.09, 0.34, 1.13, 0.4], 'id': 30, 'label': 'fragments', 'trash_type_id': 4}\n{'frame_to_box': {'24': [1.08, 0.34, 1.11, 0.39]}, 'id': 31, 'label': 'fragments'}\n{'time_index': 6, 'frame_to_box': [1.08, 0.34, 1.11, 0.39], 'id': 31, 'label': 'fragments', 'trash_type_id': 4}\n{'frame_to_box': {'25': [0.99, 0.38, 1.04, 0.5]}, 'id': 32, 'label': 'fragments'}\n{'time_index': 6, 'frame_to_box': [0.99, 0.38, 1.04, 0.5], 'id': 32, 'label': 'fragments', 'trash_type_id': 4}\n{'frame_to_box': {'25': [0.59, 0.42, 1.1, 0.74], '26': [0.33, 0.3, 1.33, 0.75], '27': [0.64, 0.43, 1.1, 0.7], '28': [0.72, 0.45, 1.33, 0.74], '29': [0.88, 0.45, 1.33, 0.74], '30': [0.92, 0.46, 1.33, 0.74], '31': [0.91, 0.48, 1.33, 0.74], '32': [0.96, 0.52, 1.3, 0.75], '33': [1.02, 0.52, 1.33, 0.75], '34': [1.07, 0.45, 1.33, 0.75], '35': [1.01, 0.54, 1.33, 0.75], '36': [1.0, 0.47, 1.33, 0.75], '37': [0.97, 0.46, 1.28, 0.75], '38': [0.95, 0.47, 1.23, 0.75], '39': [0.9, 0.48, 1.25, 0.75], '40': [0.88, 0.6, 1.23, 0.74], '41': [0.92, 0.6, 1.25, 0.74], '42': [0.97, 0.6, 1.27, 0.74], '43': [1.04, 0.58, 1.3, 0.75], '44': [1.1, 0.51, 1.33, 0.75]}, 'id': 33, 'label': 'others'}\n{'time_index': 6, 'frame_to_box': [0.59, 0.42, 1.1, 0.74], 'id': 33, 'label': 'others', 'trash_type_id': 1}\n{'frame_to_box': {'26': [0.66, 0.5, 0.68, 0.52]}, 'id': 34, 'label': 'fragments'}\n{'time_index': 6, 'frame_to_box': [0.66, 0.5, 0.68, 0.52], 'id': 34, 'label': 'fragments', 'trash_type_id': 4}\n{'frame_to_box': {'26': [1.0, 0.32, 1.22, 0.52]}, 'id': 35, 'label': 'fragments'}\n{'time_index': 6, 'frame_to_box': [1.0, 0.32, 1.22, 0.52], 'id': 35, 'label': 'fragments', 'trash_type_id': 4}\n{'frame_to_box': {'27': [0.83, 0.55, 0.88, 0.57]}, 'id': 36, 'label': 'bottles'}\n{'time_index': 6, 'frame_to_box': [0.83, 0.55, 0.88, 0.57], 'id': 36, 'label': 'bottles', 'trash_type_id': 3}\n{'frame_to_box': {'27': [0.83, 0.54, 0.88, 0.57]}, 'id': 37, 'label': 'others'}\n{'time_index': 6, 'frame_to_box': [0.83, 0.54, 0.88, 0.57], 'id': 37, 'label': 'others', 'trash_type_id': 1}\n{'frame_to_box': {'28': [1.13, 0.33, 1.17, 0.39]}, 'id': 38, 'label': 'fragments'}\n{'time_index': 7, 'frame_to_box': [1.13, 0.33, 1.17, 0.39], 'id': 38, 'label': 'fragments', 'trash_type_id': 4}\n{'frame_to_box': {'28': [1.03, 0.46, 1.15, 0.5]}, 'id': 39, 'label': 'fragments'}\n{'time_index': 7, 'frame_to_box': [1.03, 0.46, 1.15, 0.5], 'id': 39, 'label': 'fragments', 'trash_type_id': 4}\n{'frame_to_box': {'29': [0.7, 0.58, 0.72, 0.6]}, 'id': 40, 'label': 'fragments'}\n{'time_index': 7, 'frame_to_box': [0.7, 0.58, 0.72, 0.6], 'id': 40, 'label': 'fragments', 'trash_type_id': 4}\n{'frame_to_box': {'29': [1.16, 0.37, 1.3, 0.62], '30': [1.13, 0.36, 1.32, 0.58], '31': [1.21, 0.34, 1.33, 0.53], '32': [1.22, 0.37, 1.33, 0.67], '33': [1.24, 0.44, 1.33, 0.66], '34': [1.2, 0.44, 1.33, 0.73], '35': [1.21, 0.47, 1.33, 0.67]}, 'id': 41, 'label': 'fragments'}\n{'time_index': 7, 'frame_to_box': [1.16, 0.37, 1.3, 0.62], 'id': 41, 'label': 'fragments', 'trash_type_id': 4}\n{'frame_to_box': {'29': [1.19, 0.4, 1.25, 0.55]}, 'id': 42, 'label': 'fragments'}\n{'time_index': 7, 'frame_to_box': [1.19, 0.4, 1.25, 0.55], 'id': 42, 'label': 'fragments', 'trash_type_id': 4}\n{'frame_to_box': {'31': [1.25, 0.4, 1.31, 0.53]}, 'id': 43, 'label': 'fragments'}\n{'time_index': 7, 'frame_to_box': [1.25, 0.4, 1.31, 0.53], 'id': 43, 'label': 'fragments', 'trash_type_id': 4}\n{'frame_to_box': {'32': [0.42, 0.38, 0.43, 0.42]}, 'id': 44, 'label': 'fragments'}\n{'time_index': 8, 'frame_to_box': [0.42, 0.38, 0.43, 0.42], 'id': 44, 'label': 'fragments', 'trash_type_id': 4}\n{'frame_to_box': {'32': [1.22, 0.34, 1.33, 0.64], '33': [1.24, 0.44, 1.33, 0.68], '34': [1.24, 0.45, 1.33, 0.63]}, 'id': 45, 'label': 'others'}\n{'time_index': 8, 'frame_to_box': [1.22, 0.34, 1.33, 0.64], 'id': 45, 'label': 'others', 'trash_type_id': 1}\n{'frame_to_box': {'33': [0.27, 0.03, 0.3, 0.08]}, 'id': 46, 'label': 'fragments'}\n{'time_index': 8, 'frame_to_box': [0.27, 0.03, 0.3, 0.08], 'id': 46, 'label': 'fragments', 'trash_type_id': 4}\n{'frame_to_box': {'34': [0.07, 0.05, 0.11, 0.1]}, 'id': 47, 'label': 'fragments'}\n{'time_index': 8, 'frame_to_box': [0.07, 0.05, 0.11, 0.1], 'id': 47, 'label': 'fragments', 'trash_type_id': 4}\n{'frame_to_box': {'37': [1.13, 0.47, 1.23, 0.7]}, 'id': 48, 'label': 'fragments'}\n{'time_index': 9, 'frame_to_box': [1.13, 0.47, 1.23, 0.7], 'id': 48, 'label': 'fragments', 'trash_type_id': 4}\n{'frame_to_box': {'39': [0.28, 0.37, 0.29, 0.41]}, 'id': 49, 'label': 'fragments'}\n{'time_index': 9, 'frame_to_box': [0.28, 0.37, 0.29, 0.41], 'id': 49, 'label': 'fragments', 'trash_type_id': 4}\n{'frame_to_box': {'40': [0.22, 0.38, 0.24, 0.42]}, 'id': 50, 'label': 'fragments'}\n{'time_index': 10, 'frame_to_box': [0.22, 0.38, 0.24, 0.42], 'id': 50, 'label': 'fragments', 'trash_type_id': 4}\n{'frame_to_box': {'41': [1.07, 0.48, 1.14, 0.54]}, 'id': 51, 'label': 'fragments'}\n{'time_index': 10, 'frame_to_box': [1.07, 0.48, 1.14, 0.54], 'id': 51, 'label': 'fragments', 'trash_type_id': 4}\n{'frame_to_box': {'41': [1.07, 0.48, 1.15, 0.67]}, 'id': 52, 'label': 'fragments'}\n{'time_index': 10, 'frame_to_box': [1.07, 0.48, 1.15, 0.67], 'id': 52, 'label': 'fragments', 'trash_type_id': 4}\n{'frame_to_box': {'43': [1.16, 0.48, 1.22, 0.56]}, 'id': 53, 'label': 'fragments'}\n{'time_index': 10, 'frame_to_box': [1.16, 0.48, 1.22, 0.56], 'id': 53, 'label': 'fragments', 'trash_type_id': 4}\n{'frame_to_box': {'44': [0.49, 0.02, 0.52, 0.05]}, 'id': 54, 'label': 'fragments'}\n{'time_index': 11, 'frame_to_box': [0.49, 0.02, 0.52, 0.05], 'id': 54, 'label': 'fragments', 'trash_type_id': 4}\n{'frame_to_box': {'44': [1.11, 0.62, 1.31, 0.75]}, 'id': 55, 'label': 'fragments'}\n{'time_index': 11, 'frame_to_box': [1.11, 0.62, 1.31, 0.75], 'id': 55, 'label': 'fragments', 'trash_type_id': 4}\n{'frame_to_box': {'44': [1.09, 0.62, 1.33, 0.74]}, 'id': 56, 'label': 'bottles'}\n{'time_index': 11, 'frame_to_box': [1.09, 0.62, 1.33, 0.74], 'id': 56, 'label': 'bottles', 'trash_type_id': 3}\n"
    }
   ],
   "source": [
    "# All timed predictions\n",
    "for prediction in jsonPrediction['detected_trash']:\n",
    "    print(prediction)\n",
    "    print(get_clean_timed_prediction(prediction,4))"
   ]
  },
  {
   "cell_type": "code",
   "execution_count": 8,
   "metadata": {},
   "outputs": [
    {
     "data": {
      "text/html": "<div>\n<style scoped>\n    .dataframe tbody tr th:only-of-type {\n        vertical-align: middle;\n    }\n\n    .dataframe tbody tr th {\n        vertical-align: top;\n    }\n\n    .dataframe thead th {\n        text-align: right;\n    }\n</style>\n<table border=\"1\" class=\"dataframe\">\n  <thead>\n    <tr style=\"text-align: right;\">\n      <th></th>\n      <th>time_index</th>\n      <th>frame_to_box</th>\n      <th>id</th>\n      <th>label</th>\n      <th>trash_type_id</th>\n    </tr>\n  </thead>\n  <tbody>\n    <tr>\n      <th>0</th>\n      <td>0</td>\n      <td>[0.27, 0.12, 0.3, 0.18]</td>\n      <td>0</td>\n      <td>fragments</td>\n      <td>4</td>\n    </tr>\n    <tr>\n      <th>1</th>\n      <td>0</td>\n      <td>[0.28, 0.45, 0.29, 0.48]</td>\n      <td>1</td>\n      <td>fragments</td>\n      <td>4</td>\n    </tr>\n    <tr>\n      <th>2</th>\n      <td>0</td>\n      <td>[0.18, 0.43, 0.2, 0.48]</td>\n      <td>2</td>\n      <td>fragments</td>\n      <td>4</td>\n    </tr>\n    <tr>\n      <th>3</th>\n      <td>1</td>\n      <td>[0.15, 0.15, 0.18, 0.21]</td>\n      <td>3</td>\n      <td>fragments</td>\n      <td>4</td>\n    </tr>\n    <tr>\n      <th>4</th>\n      <td>1</td>\n      <td>[0.32, 0.11, 0.35, 0.17]</td>\n      <td>4</td>\n      <td>fragments</td>\n      <td>4</td>\n    </tr>\n  </tbody>\n</table>\n</div>",
      "text/plain": "   time_index              frame_to_box  id      label  trash_type_id\n0           0   [0.27, 0.12, 0.3, 0.18]   0  fragments              4\n1           0  [0.28, 0.45, 0.29, 0.48]   1  fragments              4\n2           0   [0.18, 0.43, 0.2, 0.48]   2  fragments              4\n3           1  [0.15, 0.15, 0.18, 0.21]   3  fragments              4\n4           1  [0.32, 0.11, 0.35, 0.17]   4  fragments              4"
     },
     "execution_count": 8,
     "metadata": {},
     "output_type": "execute_result"
    }
   ],
   "source": [
    "df_predictions = get_df_prediction(jsonPrediction,4)\n",
    "df_predictions.head()"
   ]
  },
  {
   "cell_type": "code",
   "execution_count": 9,
   "metadata": {},
   "outputs": [],
   "source": [
    "time_index = get_trash_time_index(prediction,media_fps)\n",
    "trash_gps = gps_points_filled[time_index]\n",
    "shape_trash_gps = long_lat_to_shape_point(trash_gps)\n",
    "geo_2154 = transform_geo(shape_trash_gps)\n",
    "geo_2154_trash_gps = {'Time': shape_trash_gps['Time'], 'the_geom': geo_2154,'Latitude':shape_trash_gps['Latitude'],'Longitude':shape_trash_gps['Longitude'], 'Elevation': shape_trash_gps['Elevation']}"
   ]
  },
  {
   "cell_type": "code",
   "execution_count": 10,
   "metadata": {},
   "outputs": [],
   "source": [
    "trash_gps = gps_points_filled[time_index]\n",
    "shape_trash_gps = long_lat_to_shape_point(trash_gps)\n",
    "geo_2154 = transform_geo(shape_trash_gps)\n",
    "geo_2154_trash_gps = {'Time': shape_trash_gps['Time'], 'the_geom': geo_2154,'Latitude':shape_trash_gps['Latitude'],'Longitude':shape_trash_gps['Longitude'], 'Elevation': shape_trash_gps['Elevation']}"
   ]
  },
  {
   "cell_type": "code",
   "execution_count": 11,
   "metadata": {},
   "outputs": [],
   "source": [
    "def get_df_prediction(json_prediction:dict,media_fps)->pd.DataFrame:\n",
    "    \"\"\"Get AI prediction dictionnary as Dataframe\n",
    "\n",
    "    Arguments:\n",
    "        json_prediction {dict} -- a full prediction of AI service as JSON dico\n",
    "\n",
    "    Returns:\n",
    "       df_prediction -- the AI prediction as a Dataframe\n",
    "    \"\"\"\n",
    "    timed_prediction_list = []\n",
    "    for prediction in json_prediction['detected_trash']:\n",
    "        timed_prediction_list.append(get_clean_timed_prediction(prediction,media_fps))\n",
    "    df_prediction = pd.DataFrame(timed_prediction_list)\n",
    "    return df_prediction"
   ]
  },
  {
   "cell_type": "code",
   "execution_count": 14,
   "metadata": {},
   "outputs": [
    {
     "data": {
      "text/plain": "time_index        int64\nframe_to_box     object\nid                int64\nlabel            object\ntrash_type_id     int64\ndtype: object"
     },
     "execution_count": 14,
     "metadata": {},
     "output_type": "execute_result"
    }
   ],
   "source": [
    "df_predictions = get_df_prediction(jsonPrediction,4)\n",
    "df_predictions.dtypes"
   ]
  },
  {
   "cell_type": "code",
   "execution_count": 15,
   "metadata": {},
   "outputs": [
    {
     "data": {
      "text/html": "<div>\n<style scoped>\n    .dataframe tbody tr th:only-of-type {\n        vertical-align: middle;\n    }\n\n    .dataframe tbody tr th {\n        vertical-align: top;\n    }\n\n    .dataframe thead th {\n        text-align: right;\n    }\n</style>\n<table border=\"1\" class=\"dataframe\">\n  <thead>\n    <tr style=\"text-align: right;\">\n      <th></th>\n      <th>Time</th>\n      <th>the_geom</th>\n      <th>Latitude</th>\n      <th>Longitude</th>\n      <th>Elevation</th>\n    </tr>\n  </thead>\n  <tbody>\n    <tr>\n      <th>0</th>\n      <td>2020-02-28 11:52:07+00:00</td>\n      <td>POINT (340987.7644429434 6289760.231710243)</td>\n      <td>43.615853</td>\n      <td>-1.448500</td>\n      <td>53.203</td>\n    </tr>\n    <tr>\n      <th>1</th>\n      <td>2020-02-28 11:52:07+00:00</td>\n      <td>POINT (340987.7644429434 6289760.231710243)</td>\n      <td>43.615853</td>\n      <td>-1.448500</td>\n      <td>53.203</td>\n    </tr>\n    <tr>\n      <th>2</th>\n      <td>2020-02-28 11:52:07+00:00</td>\n      <td>POINT (340987.7644429434 6289760.231710243)</td>\n      <td>43.615853</td>\n      <td>-1.448500</td>\n      <td>53.203</td>\n    </tr>\n    <tr>\n      <th>3</th>\n      <td>2020-02-28 11:52:08+00:00</td>\n      <td>POINT (340988.5069810392 6289760.635096359)</td>\n      <td>43.615857</td>\n      <td>-1.448492</td>\n      <td>52.701</td>\n    </tr>\n    <tr>\n      <th>4</th>\n      <td>2020-02-28 11:52:08+00:00</td>\n      <td>POINT (340988.5069810392 6289760.635096359)</td>\n      <td>43.615857</td>\n      <td>-1.448492</td>\n      <td>52.701</td>\n    </tr>\n  </tbody>\n</table>\n</div>",
      "text/plain": "                       Time                                     the_geom  \\\n0 2020-02-28 11:52:07+00:00  POINT (340987.7644429434 6289760.231710243)   \n1 2020-02-28 11:52:07+00:00  POINT (340987.7644429434 6289760.231710243)   \n2 2020-02-28 11:52:07+00:00  POINT (340987.7644429434 6289760.231710243)   \n3 2020-02-28 11:52:08+00:00  POINT (340988.5069810392 6289760.635096359)   \n4 2020-02-28 11:52:08+00:00  POINT (340988.5069810392 6289760.635096359)   \n\n    Latitude  Longitude  Elevation  \n0  43.615853  -1.448500     53.203  \n1  43.615853  -1.448500     53.203  \n2  43.615853  -1.448500     53.203  \n3  43.615857  -1.448492     52.701  \n4  43.615857  -1.448492     52.701  "
     },
     "execution_count": 15,
     "metadata": {},
     "output_type": "execute_result"
    }
   ],
   "source": [
    "df_trash_gps = get_df_trash_gps(df_predictions,gps_points_filled)\n",
    "df_trash_gps.head()"
   ]
  },
  {
   "cell_type": "code",
   "execution_count": 16,
   "metadata": {},
   "outputs": [],
   "source": [
    "df_data = get_df_data(df_predictions,df_trash_gps)"
   ]
  },
  {
   "cell_type": "code",
   "execution_count": 42,
   "metadata": {},
   "outputs": [
    {
     "data": {
      "text/html": "<div>\n<style scoped>\n    .dataframe tbody tr th:only-of-type {\n        vertical-align: middle;\n    }\n\n    .dataframe tbody tr th {\n        vertical-align: top;\n    }\n\n    .dataframe thead th {\n        text-align: right;\n    }\n</style>\n<table border=\"1\" class=\"dataframe\">\n  <thead>\n    <tr style=\"text-align: right;\">\n      <th></th>\n      <th>time_index</th>\n      <th>frame_to_box</th>\n      <th>id</th>\n      <th>label</th>\n      <th>trash_type_id</th>\n      <th>Time</th>\n      <th>the_geom</th>\n      <th>Latitude</th>\n      <th>Longitude</th>\n      <th>Elevation</th>\n    </tr>\n  </thead>\n  <tbody>\n    <tr>\n      <th>0</th>\n      <td>0</td>\n      <td>[0.27, 0.12, 0.3, 0.18]</td>\n      <td>0</td>\n      <td>fragments</td>\n      <td>4</td>\n      <td>2020-02-28 11:52:07+00:00</td>\n      <td>POINT (340987.7644429434 6289760.231710243)</td>\n      <td>43.615853</td>\n      <td>-1.448500</td>\n      <td>53.203</td>\n    </tr>\n    <tr>\n      <th>1</th>\n      <td>0</td>\n      <td>[0.28, 0.45, 0.29, 0.48]</td>\n      <td>1</td>\n      <td>fragments</td>\n      <td>4</td>\n      <td>2020-02-28 11:52:07+00:00</td>\n      <td>POINT (340987.7644429434 6289760.231710243)</td>\n      <td>43.615853</td>\n      <td>-1.448500</td>\n      <td>53.203</td>\n    </tr>\n    <tr>\n      <th>2</th>\n      <td>0</td>\n      <td>[0.18, 0.43, 0.2, 0.48]</td>\n      <td>2</td>\n      <td>fragments</td>\n      <td>4</td>\n      <td>2020-02-28 11:52:07+00:00</td>\n      <td>POINT (340987.7644429434 6289760.231710243)</td>\n      <td>43.615853</td>\n      <td>-1.448500</td>\n      <td>53.203</td>\n    </tr>\n    <tr>\n      <th>3</th>\n      <td>1</td>\n      <td>[0.15, 0.15, 0.18, 0.21]</td>\n      <td>3</td>\n      <td>fragments</td>\n      <td>4</td>\n      <td>2020-02-28 11:52:08+00:00</td>\n      <td>POINT (340988.5069810392 6289760.635096359)</td>\n      <td>43.615857</td>\n      <td>-1.448492</td>\n      <td>52.701</td>\n    </tr>\n    <tr>\n      <th>4</th>\n      <td>1</td>\n      <td>[0.32, 0.11, 0.35, 0.17]</td>\n      <td>4</td>\n      <td>fragments</td>\n      <td>4</td>\n      <td>2020-02-28 11:52:08+00:00</td>\n      <td>POINT (340988.5069810392 6289760.635096359)</td>\n      <td>43.615857</td>\n      <td>-1.448492</td>\n      <td>52.701</td>\n    </tr>\n  </tbody>\n</table>\n</div>",
      "text/plain": "   time_index              frame_to_box  id      label  trash_type_id  \\\n0           0   [0.27, 0.12, 0.3, 0.18]   0  fragments              4   \n1           0  [0.28, 0.45, 0.29, 0.48]   1  fragments              4   \n2           0   [0.18, 0.43, 0.2, 0.48]   2  fragments              4   \n3           1  [0.15, 0.15, 0.18, 0.21]   3  fragments              4   \n4           1  [0.32, 0.11, 0.35, 0.17]   4  fragments              4   \n\n                       Time                                     the_geom  \\\n0 2020-02-28 11:52:07+00:00  POINT (340987.7644429434 6289760.231710243)   \n1 2020-02-28 11:52:07+00:00  POINT (340987.7644429434 6289760.231710243)   \n2 2020-02-28 11:52:07+00:00  POINT (340987.7644429434 6289760.231710243)   \n3 2020-02-28 11:52:08+00:00  POINT (340988.5069810392 6289760.635096359)   \n4 2020-02-28 11:52:08+00:00  POINT (340988.5069810392 6289760.635096359)   \n\n    Latitude  Longitude  Elevation  \n0  43.615853  -1.448500     53.203  \n1  43.615853  -1.448500     53.203  \n2  43.615853  -1.448500     53.203  \n3  43.615857  -1.448492     52.701  \n4  43.615857  -1.448492     52.701  "
     },
     "execution_count": 42,
     "metadata": {},
     "output_type": "execute_result"
    }
   ],
   "source": [
    "df_data.head()"
   ]
  },
  {
   "cell_type": "code",
   "execution_count": 18,
   "metadata": {},
   "outputs": [
    {
     "data": {
      "text/plain": "time_index                               int64\nframe_to_box                            object\nid                                       int64\nlabel                                   object\ntrash_type_id                            int64\nTime             datetime64[ns, SimpleTZ(\"Z\")]\nthe_geom                                object\nLatitude                               float64\nLongitude                              float64\nElevation                              float64\ndtype: object"
     },
     "execution_count": 18,
     "metadata": {},
     "output_type": "execute_result"
    }
   ],
   "source": [
    "df_data.dtypes"
   ]
  },
  {
   "cell_type": "code",
   "execution_count": 41,
   "metadata": {},
   "outputs": [],
   "source": [
    "data = df_data.iloc[0]"
   ]
  },
  {
   "cell_type": "code",
   "execution_count": 40,
   "metadata": {},
   "outputs": [],
   "source": [
    "df_data['trash_type_id'] = df_data['trash_type_id'].values.astype(int)"
   ]
  },
  {
   "cell_type": "code",
   "execution_count": 20,
   "metadata": {},
   "outputs": [
    {
     "name": "stdout",
     "output_type": "stream",
     "text": "Connection established\n"
    }
   ],
   "source": [
    "pg_conn_string = get_pg_connection_string()\n",
    "pg_connection = open_pg_connection(pg_conn_string)\n",
    "pg_cursor = pg_connection.cursor()"
   ]
  },
  {
   "cell_type": "code",
   "execution_count": 42,
   "metadata": {},
   "outputs": [
    {
     "data": {
      "text/plain": "time_index                                                 0\nframe_to_box                         [0.27, 0.12, 0.3, 0.18]\nid                                                         0\nlabel                                              fragments\ntrash_type_id                                              4\nTime                               2020-02-28 11:52:07+00:00\nthe_geom         POINT (340987.7644429434 6289760.231710243)\nLatitude                                             43.6159\nLongitude                                            -1.4485\nElevation                                             53.203\nName: 0, dtype: object"
     },
     "execution_count": 42,
     "metadata": {},
     "output_type": "execute_result"
    }
   ],
   "source": [
    "data"
   ]
  },
  {
   "cell_type": "code",
   "execution_count": 43,
   "metadata": {},
   "outputs": [
    {
     "ename": "ProgrammingError",
     "evalue": "can't adapt type 'numpy.int64'",
     "output_type": "error",
     "traceback": [
      "\u001b[0;31m---------------------------------------------------------------------------\u001b[0m",
      "\u001b[0;31mProgrammingError\u001b[0m                          Traceback (most recent call last)",
      "\u001b[0;32m<ipython-input-43-71209d313016>\u001b[0m in \u001b[0;36m<module>\u001b[0;34m\u001b[0m\n\u001b[0;32m----> 1\u001b[0;31m \u001b[0minsert_trash_df\u001b[0m\u001b[0;34m(\u001b[0m\u001b[0mdata\u001b[0m\u001b[0;34m,\u001b[0m\u001b[0mpg_cursor\u001b[0m\u001b[0;34m,\u001b[0m\u001b[0mpg_connection\u001b[0m\u001b[0;34m)\u001b[0m\u001b[0;34m\u001b[0m\u001b[0;34m\u001b[0m\u001b[0m\n\u001b[0m",
      "\u001b[0;32m~/Desktop/etl/scripts/utils/postgre.py\u001b[0m in \u001b[0;36minsert_trash_df\u001b[0;34m(trash_data, cursor, connection)\u001b[0m\n\u001b[1;32m    138\u001b[0m     \u001b[0mtimestamp\u001b[0m \u001b[0;34m=\u001b[0m \u001b[0mtrash_data\u001b[0m\u001b[0;34m[\u001b[0m\u001b[0;34m'Time'\u001b[0m\u001b[0;34m]\u001b[0m\u001b[0;34m\u001b[0m\u001b[0;34m\u001b[0m\u001b[0m\n\u001b[1;32m    139\u001b[0m     \u001b[0mprecision\u001b[0m \u001b[0;34m=\u001b[0m \u001b[0;36m99\u001b[0m\u001b[0;34m\u001b[0m\u001b[0;34m\u001b[0m\u001b[0m\n\u001b[0;32m--> 140\u001b[0;31m     \u001b[0mcursor\u001b[0m\u001b[0;34m.\u001b[0m\u001b[0mexecute\u001b[0m\u001b[0;34m(\u001b[0m\u001b[0;34m\"INSERT INTO campaign.trash (id, id_ref_campaign_fk,the_geom, elevation, id_ref_trash_type_fk,time,precision ) VALUES (DEFAULT, 'ec501e35-b022-4c73-9988-a41218d6105e',ST_SetSRID(%s::geometry,2154),%s,%s,%s,%s) RETURNING id;\"\u001b[0m\u001b[0;34m,\u001b[0m \u001b[0;34m(\u001b[0m\u001b[0mpoint\u001b[0m\u001b[0;34m,\u001b[0m\u001b[0melevation\u001b[0m\u001b[0;34m,\u001b[0m\u001b[0mtrash_type_id\u001b[0m\u001b[0;34m,\u001b[0m\u001b[0mtimestamp\u001b[0m\u001b[0;34m,\u001b[0m\u001b[0mprecision\u001b[0m\u001b[0;34m)\u001b[0m\u001b[0;34m)\u001b[0m\u001b[0;34m\u001b[0m\u001b[0;34m\u001b[0m\u001b[0m\n\u001b[0m\u001b[1;32m    141\u001b[0m     \u001b[0mconnection\u001b[0m\u001b[0;34m.\u001b[0m\u001b[0mcommit\u001b[0m\u001b[0;34m(\u001b[0m\u001b[0;34m)\u001b[0m\u001b[0;34m\u001b[0m\u001b[0;34m\u001b[0m\u001b[0m\n\u001b[1;32m    142\u001b[0m     \u001b[0mrow_id\u001b[0m \u001b[0;34m=\u001b[0m \u001b[0mcursor\u001b[0m\u001b[0;34m.\u001b[0m\u001b[0mfetchone\u001b[0m\u001b[0;34m(\u001b[0m\u001b[0;34m)\u001b[0m\u001b[0;34m[\u001b[0m\u001b[0;36m0\u001b[0m\u001b[0;34m]\u001b[0m\u001b[0;34m\u001b[0m\u001b[0;34m\u001b[0m\u001b[0m\n",
      "\u001b[0;31mProgrammingError\u001b[0m: can't adapt type 'numpy.int64'"
     ]
    }
   ],
   "source": [
    "insert_trash_df(data,pg_cursor,pg_connection)"
   ]
  },
  {
   "cell_type": "code",
   "execution_count": 35,
   "metadata": {},
   "outputs": [
    {
     "ename": "AttributeError",
     "evalue": "'numpy.int64' object has no attribute 'values'",
     "output_type": "error",
     "traceback": [
      "\u001b[0;31m---------------------------------------------------------------------------\u001b[0m",
      "\u001b[0;31mAttributeError\u001b[0m                            Traceback (most recent call last)",
      "\u001b[0;32m<ipython-input-35-69bcdb294f10>\u001b[0m in \u001b[0;36m<module>\u001b[0;34m\u001b[0m\n\u001b[0;32m----> 1\u001b[0;31m \u001b[0mdata\u001b[0m\u001b[0;34m[\u001b[0m\u001b[0;34m'trash_type_id'\u001b[0m\u001b[0;34m]\u001b[0m\u001b[0;34m.\u001b[0m\u001b[0mvalues\u001b[0m\u001b[0;34m.\u001b[0m\u001b[0mastype\u001b[0m\u001b[0;34m(\u001b[0m\u001b[0mint\u001b[0m\u001b[0;34m)\u001b[0m\u001b[0;34m\u001b[0m\u001b[0;34m\u001b[0m\u001b[0m\n\u001b[0m",
      "\u001b[0;31mAttributeError\u001b[0m: 'numpy.int64' object has no attribute 'values'"
     ]
    }
   ],
   "source": [
    "data['trash_type_id'].values.astype(int)"
   ]
  },
  {
   "cell_type": "code",
   "execution_count": 33,
   "metadata": {},
   "outputs": [
    {
     "data": {
      "text/plain": "time_index                               int64\nframe_to_box                            object\nid                                       int64\nlabel                                   object\ntrash_type_id                            int64\nTime             datetime64[ns, SimpleTZ(\"Z\")]\nthe_geom                                object\nLatitude                               float64\nLongitude                              float64\nElevation                              float64\ndtype: object"
     },
     "execution_count": 33,
     "metadata": {},
     "output_type": "execute_result"
    }
   ],
   "source": [
    "df_data.dtypes"
   ]
  },
  {
   "cell_type": "code",
   "execution_count": 34,
   "metadata": {},
   "outputs": [
    {
     "name": "stdout",
     "output_type": "stream",
     "text": "<class 'int'>\n<class 'pandas.core.series.Series'>\n56e8dc66-a129-42ce-b98d-9a652edc2111\n<class 'int'>\n<class 'pandas.core.series.Series'>\n56e8dc66-a129-42ce-b98d-9a652edc2111\n<class 'int'>\n<class 'pandas.core.series.Series'>\n56e8dc66-a129-42ce-b98d-9a652edc2111\n<class 'int'>\n<class 'pandas.core.series.Series'>\n56e8dc66-a129-42ce-b98d-9a652edc2111\n<class 'int'>\n<class 'pandas.core.series.Series'>\n56e8dc66-a129-42ce-b98d-9a652edc2111\n<class 'int'>\n<class 'pandas.core.series.Series'>\n56e8dc66-a129-42ce-b98d-9a652edc2111\n<class 'int'>\n<class 'pandas.core.series.Series'>\n56e8dc66-a129-42ce-b98d-9a652edc2111\n<class 'int'>\n<class 'pandas.core.series.Series'>\n56e8dc66-a129-42ce-b98d-9a652edc2111\n<class 'int'>\n<class 'pandas.core.series.Series'>\n56e8dc66-a129-42ce-b98d-9a652edc2111\n<class 'int'>\n<class 'pandas.core.series.Series'>\n56e8dc66-a129-42ce-b98d-9a652edc2111\n<class 'int'>\n<class 'pandas.core.series.Series'>\n56e8dc66-a129-42ce-b98d-9a652edc2111\n<class 'int'>\n<class 'pandas.core.series.Series'>\n56e8dc66-a129-42ce-b98d-9a652edc2111\n<class 'int'>\n<class 'pandas.core.series.Series'>\n56e8dc66-a129-42ce-b98d-9a652edc2111\n<class 'int'>\n<class 'pandas.core.series.Series'>\n56e8dc66-a129-42ce-b98d-9a652edc2111\n<class 'int'>\n<class 'pandas.core.series.Series'>\n56e8dc66-a129-42ce-b98d-9a652edc2111\n<class 'int'>\n<class 'pandas.core.series.Series'>\n56e8dc66-a129-42ce-b98d-9a652edc2111\n<class 'int'>\n<class 'pandas.core.series.Series'>\n56e8dc66-a129-42ce-b98d-9a652edc2111\n<class 'int'>\n<class 'pandas.core.series.Series'>\n56e8dc66-a129-42ce-b98d-9a652edc2111\n<class 'int'>\n<class 'pandas.core.series.Series'>\n56e8dc66-a129-42ce-b98d-9a652edc2111\n<class 'int'>\n<class 'pandas.core.series.Series'>\n56e8dc66-a129-42ce-b98d-9a652edc2111\n<class 'int'>\n<class 'pandas.core.series.Series'>\n56e8dc66-a129-42ce-b98d-9a652edc2111\n<class 'int'>\n<class 'pandas.core.series.Series'>\n56e8dc66-a129-42ce-b98d-9a652edc2111\n<class 'int'>\n<class 'pandas.core.series.Series'>\n56e8dc66-a129-42ce-b98d-9a652edc2111\n<class 'int'>\n<class 'pandas.core.series.Series'>\n56e8dc66-a129-42ce-b98d-9a652edc2111\n<class 'int'>\n<class 'pandas.core.series.Series'>\n56e8dc66-a129-42ce-b98d-9a652edc2111\n<class 'int'>\n<class 'pandas.core.series.Series'>\n56e8dc66-a129-42ce-b98d-9a652edc2111\n<class 'int'>\n<class 'pandas.core.series.Series'>\n56e8dc66-a129-42ce-b98d-9a652edc2111\n<class 'int'>\n<class 'pandas.core.series.Series'>\n56e8dc66-a129-42ce-b98d-9a652edc2111\n<class 'int'>\n<class 'pandas.core.series.Series'>\n56e8dc66-a129-42ce-b98d-9a652edc2111\n<class 'int'>\n<class 'pandas.core.series.Series'>\n56e8dc66-a129-42ce-b98d-9a652edc2111\n<class 'int'>\n<class 'pandas.core.series.Series'>\n56e8dc66-a129-42ce-b98d-9a652edc2111\n<class 'int'>\n<class 'pandas.core.series.Series'>\n56e8dc66-a129-42ce-b98d-9a652edc2111\n<class 'int'>\n<class 'pandas.core.series.Series'>\n56e8dc66-a129-42ce-b98d-9a652edc2111\n<class 'int'>\n<class 'pandas.core.series.Series'>\n56e8dc66-a129-42ce-b98d-9a652edc2111\n<class 'int'>\n<class 'pandas.core.series.Series'>\n56e8dc66-a129-42ce-b98d-9a652edc2111\n<class 'int'>\n<class 'pandas.core.series.Series'>\n56e8dc66-a129-42ce-b98d-9a652edc2111\n<class 'int'>\n<class 'pandas.core.series.Series'>\n56e8dc66-a129-42ce-b98d-9a652edc2111\n<class 'int'>\n<class 'pandas.core.series.Series'>\n56e8dc66-a129-42ce-b98d-9a652edc2111\n<class 'int'>\n<class 'pandas.core.series.Series'>\n56e8dc66-a129-42ce-b98d-9a652edc2111\n<class 'int'>\n<class 'pandas.core.series.Series'>\n56e8dc66-a129-42ce-b98d-9a652edc2111\n<class 'int'>\n<class 'pandas.core.series.Series'>\n56e8dc66-a129-42ce-b98d-9a652edc2111\n<class 'int'>\n<class 'pandas.core.series.Series'>\n56e8dc66-a129-42ce-b98d-9a652edc2111\n<class 'int'>\n<class 'pandas.core.series.Series'>\n56e8dc66-a129-42ce-b98d-9a652edc2111\n<class 'int'>\n<class 'pandas.core.series.Series'>\n56e8dc66-a129-42ce-b98d-9a652edc2111\n<class 'int'>\n<class 'pandas.core.series.Series'>\n56e8dc66-a129-42ce-b98d-9a652edc2111\n<class 'int'>\n<class 'pandas.core.series.Series'>\n56e8dc66-a129-42ce-b98d-9a652edc2111\n<class 'int'>\n<class 'pandas.core.series.Series'>\n56e8dc66-a129-42ce-b98d-9a652edc2111\n<class 'int'>\n<class 'pandas.core.series.Series'>\n56e8dc66-a129-42ce-b98d-9a652edc2111\n<class 'int'>\n<class 'pandas.core.series.Series'>\n56e8dc66-a129-42ce-b98d-9a652edc2111\n<class 'int'>\n<class 'pandas.core.series.Series'>\n56e8dc66-a129-42ce-b98d-9a652edc2111\n<class 'int'>\n<class 'pandas.core.series.Series'>\n56e8dc66-a129-42ce-b98d-9a652edc2111\n<class 'int'>\n<class 'pandas.core.series.Series'>\n56e8dc66-a129-42ce-b98d-9a652edc2111\n<class 'int'>\n<class 'pandas.core.series.Series'>\n56e8dc66-a129-42ce-b98d-9a652edc2111\n<class 'int'>\n<class 'pandas.core.series.Series'>\n56e8dc66-a129-42ce-b98d-9a652edc2111\n<class 'int'>\n<class 'pandas.core.series.Series'>\n56e8dc66-a129-42ce-b98d-9a652edc2111\n<class 'int'>\n<class 'pandas.core.series.Series'>\n56e8dc66-a129-42ce-b98d-9a652edc2111\n<class 'int'>\n<class 'pandas.core.series.Series'>\n56e8dc66-a129-42ce-b98d-9a652edc2111\n"
    }
   ],
   "source": [
    "for i,row in df_data.iterrows():\n",
    "    #row_id = insert_trash_df(row,pg_cursor,pg_connection)\n",
    "    print(type(row['trash_type_id']))\n",
    "    print(type(row))\n",
    "    print(row_id)"
   ]
  },
  {
   "cell_type": "code",
   "execution_count": null,
   "metadata": {},
   "outputs": [],
   "source": []
  }
 ]
}