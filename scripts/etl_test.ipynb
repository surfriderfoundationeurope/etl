{
 "nbformat": 4,
 "nbformat_minor": 2,
 "metadata": {
  "language_info": {
   "name": "python",
   "codemirror_mode": {
    "name": "ipython",
    "version": 3
   },
   "version": "3.6.9-final"
  },
  "orig_nbformat": 2,
  "file_extension": ".py",
  "mimetype": "text/x-python",
  "name": "python",
  "npconvert_exporter": "python",
  "pygments_lexer": "ipython3",
  "version": 3,
  "kernelspec": {
   "name": "python36964bitsurfridercondaa4d29431e9f947419d6d850056118d13",
   "display_name": "Python 3.6.9 64-bit ('surfrider': conda)"
  }
 },
 "cells": [
  {
   "cell_type": "code",
   "execution_count": null,
   "metadata": {},
   "outputs": [],
   "source": [
    "import logging \n",
    "logging.basicConfig(level=logging.INFO)\n",
    "log = logging.getLogger(\"my-logger\")\n",
    "log.setLevel(logging.INFO)\n",
    "log.info(\"Hello World\")\n",
    "log.warning(\"this is a warning\")"
   ]
  },
  {
   "cell_type": "code",
   "execution_count": null,
   "metadata": {},
   "outputs": [],
   "source": [
    "# Test AIReady\n",
    "import logging\n",
    "logging.basicConfig(level=logging.INFO)\n",
    "\n",
    "aiurl = 'http://aiapiplastico-dev.westeurope.cloudapp.azure.com'\n",
    "isAIready = AIready(f'{aiurl}:5000')"
   ]
  },
  {
   "cell_type": "code",
   "execution_count": null,
   "metadata": {},
   "outputs": [],
   "source": [
    "# Test getPrediction\n",
    "blob_video_name = '28022020_Boudigau_4_short_480.mov'  \n",
    "aiurl = 'http://aiapiplastico-dev.westeurope.cloudapp.azure.com'\n",
    "prediction = getPrediction(blob_video_name,aiurl)"
   ]
  },
  {
   "cell_type": "code",
   "execution_count": null,
   "metadata": {},
   "outputs": [],
   "source": [
    "str(prediction)"
   ]
  },
  {
   "cell_type": "code",
   "execution_count": null,
   "metadata": {},
   "outputs": [],
   "source": [
    "# Import AI + Postgre modules\n",
    "from modules.ai import ai_ready,get_prediction,get_trash_label,get_trash_time_index,get_trash_time_stamp,get_trash_label,map_label_2_trash_id_PG\n",
    "from modules.media import get_media_fps\n",
    "from modules.gps import extract_gpx_from_gopro,gps_point_list,parse_gpx,long_lat_2_shape_point,transform_geo\n",
    "from modules.postgre import trash_gps,pg_connection_string,pg_open_connection,trash_insert\n",
    "from tqdm import tqdm"
   ]
  },
  {
   "cell_type": "code",
   "execution_count": null,
   "metadata": {},
   "outputs": [],
   "source": [
    "# Test jsonPrediction\n",
    "import json\n",
    "with open('../data/prediction.json') as json_file:\n",
    "    jsonPred = json.load(json_file)\n",
    "jsonPred"
   ]
  },
  {
   "cell_type": "code",
   "execution_count": null,
   "metadata": {},
   "outputs": [],
   "source": [
    "frametobox0 = jsonPred['detected_trash'][40]"
   ]
  },
  {
   "cell_type": "code",
   "execution_count": null,
   "metadata": {},
   "outputs": [],
   "source": [
    "timeindex = get_trash_time_index(frametobox0)\n",
    "mediafps = get_media_fps('/tmp/28022020_Boudigau_4.MP4')\n",
    "timestamp = get_trash_time_stamp(timeindex,mediafps)\n",
    "print(timestamp)"
   ]
  },
  {
   "cell_type": "code",
   "execution_count": null,
   "metadata": {},
   "outputs": [],
   "source": [
    "gpxpath = extract_gpx_from_gopro('/tmp/28022020_Boudigau_4.MP4')\n",
    "gpxdata = parse_gpx(gpxpath)"
   ]
  },
  {
   "cell_type": "code",
   "execution_count": null,
   "metadata": {},
   "outputs": [],
   "source": [
    "gpsPoints = gps_point_list(gpxdata)"
   ]
  },
  {
   "cell_type": "code",
   "execution_count": null,
   "metadata": {},
   "outputs": [],
   "source": [
    "mediafps = get_media_fps('/tmp/28022020_Boudigau_4.MP4')\n",
    "# Get connection string information from env variables\n",
    "pgConn_string = pg_connection_string()\n",
    "# Open pgConnection\n",
    "pgConnection = pg_open_connection(pgConn_string)\n",
    "# Create Cursor\n",
    "pgCursor = pgConnection.cursor()\n",
    "\n",
    "import logging\n",
    "logger = logging.getLogger()\n",
    "\n",
    "row_id_list = []\n",
    "for prediction in tqdm(jsonPred['detected_trash']):\n",
    "    try:\n",
    "        # get trash_gps from gps module\n",
    "        timeindex = get_trash_time_index(prediction)\n",
    "        timestamp = get_trash_time_stamp(timeindex,mediafps)\n",
    "        trash_gps = gpsPoints[timestamp]\n",
    "        shape_trash_gps = long_lat_2_shape_point(trash_gps)\n",
    "        geo_2154 = transform_geo(shape_trash_gps)\n",
    "        geo_2154_trash_gps = {'Time': shape_trash_gps['Time'], 'the_geom': geo_2154,'Latitude':shape_trash_gps['Latitude'],'Longitude':shape_trash_gps['Longitude'], 'Elevation': shape_trash_gps['Elevation']}\n",
    "        # get trash_type from ai module\n",
    "        label = get_trash_label(prediction)\n",
    "        trash_type = map_label_2_trash_id_PG(label)\n",
    "        # insert\n",
    "        row_id = trash_insert(geo_2154_trash_gps,trash_type,pgCursor,pgConnection)\n",
    "        print(row_id)\n",
    "        row_id_list.append(row_id)\n",
    "        print(row_id)\n",
    "    except:\n",
    "        prediction_id = prediction['id']\n",
    "        logger.info(f'There was an issue inserting Trash id: {prediction_id} within PostGre')"
   ]
  },
  {
   "cell_type": "code",
   "execution_count": 1,
   "metadata": {},
   "outputs": [
    {
     "name": "stdout",
     "output_type": "stream",
     "text": "env: PGSERVER=pgdb-plastico-dev.postgres.database.azure.com\nenv: PGDATABASE=plastico-dev\nenv: PGUSERNAME=writer_user@pgdb-plastico-dev\nenv: PGPWD=SurfWriter!\n"
    }
   ],
   "source": [
    "%env PGSERVER=pgdb-plastico-dev.postgres.database.azure.com\n",
    "%env PGDATABASE=plastico-dev\n",
    "%env PGUSERNAME=writer_user@pgdb-plastico-dev\n",
    "%env PGPWD=SurfWriter!"
   ]
  },
  {
   "cell_type": "code",
   "execution_count": 3,
   "metadata": {},
   "outputs": [],
   "source": [
    "# Import AI + Postgre modules\n",
    "from modules.ai import ai_ready,get_prediction,get_trash_label,get_trash_time_index,get_trash_time_stamp,get_trash_label,map_label_2_trash_id_PG\n",
    "from modules.media import get_media_fps\n",
    "from modules.gps import extract_gpx_from_gopro,gps_point_list,parse_gpx,long_lat_2_shape_point,transform_geo\n",
    "from modules.postgre import trash_gps,pg_connection_string,pg_open_connection,trash_insert\n",
    "from tqdm import tqdm"
   ]
  },
  {
   "cell_type": "code",
   "execution_count": 4,
   "metadata": {},
   "outputs": [
    {
     "name": "stdout",
     "output_type": "stream",
     "text": "<_sre.SRE_Match object; span=(2554, 2592), match='Stream #0:3(eng): Data: bin_data (gpmd'>\nffprobe version 4.2.2 Copyright (c) 2007-2019 the FFmpeg developers\n  built with Apple clang version 11.0.0 (clang-1100.0.33.17)\n  configuration: --prefix=/usr/local/Cellar/ffmpeg/4.2.2_2 --enable-shared --enable-pthreads --enable-version3 --enable-avresample --cc=clang --host-cflags= --host-ldflags= --enable-ffplay --enable-gnutls --enable-gpl --enable-libaom --enable-libbluray --enable-libmp3lame --enable-libopus --enable-librubberband --enable-libsnappy --enable-libtesseract --enable-libtheora --enable-libvidstab --enable-libvorbis --enable-libvpx --enable-libwebp --enable-libx264 --enable-libx265 --enable-libxvid --enable-lzma --enable-libfontconfig --enable-libfreetype --enable-frei0r --enable-libass --enable-libopencore-amrnb --enable-libopencore-amrwb --enable-libopenjpeg --enable-librtmp --enable-libspeex --enable-libsoxr --enable-videotoolbox --disable-libjack --disable-indev=jack\n  libavutil      56. 31.100 / 56. 31.100\n  libavcodec     58. 54.100 / 58. 54.100\n  libavformat    58. 29.100 / 58. 29.100\n  libavdevice    58.  8.100 / 58.  8.100\n  libavfilter     7. 57.100 /  7. 57.100\n  libavresample   4.  0.  0 /  4.  0.  0\n  libswscale      5.  5.100 /  5.  5.100\n  libswresample   3.  5.100 /  3.  5.100\n  libpostproc    55.  5.100 / 55.  5.100\n[mov,mp4,m4a,3gp,3g2,mj2 @ 0x7fd16b801200] Using non-standard frame rate 23/1\nInput #0, mov,mp4,m4a,3gp,3g2,mj2, from '/tmp/28022020_Boudigau_4.MP4':\n  Metadata:\n    major_brand     : mp41\n    minor_version   : 538120216\n    compatible_brands: mp41\n    creation_time   : 2020-02-28T12:52:07.000000Z\n    location        : +43.6159-001.4485/\n    location-eng    : +43.6159-001.4485/\n    firmware        : HD7.01.01.80.00\n  Duration: 00:11:22.43, start: 0.000000, bitrate: 30251 kb/s\n    Stream #0:0(eng): Video: h264 (High) (avc1 / 0x31637661), yuvj420p(pc, bt709), 1920x1080 [SAR 1:1 DAR 16:9], 30002 kb/s, 23.98 fps, 23.98 tbr, 24k tbn, 47.95 tbc (default)\n    Metadata:\n      creation_time   : 2020-02-28T12:52:07.000000Z\n      handler_name    : GoPro AVC  \n      encoder         : GoPro AVC encoder\n      timecode        : 13:24:53:03\n    Stream #0:1(eng): Audio: aac (LC) (mp4a / 0x6134706D), 48000 Hz, stereo, fltp, 189 kb/s (default)\n    Metadata:\n      creation_time   : 2020-02-28T12:52:07.000000Z\n      handler_name    : GoPro AAC  \n      timecode        : 13:24:53:03\n    Stream #0:2(eng): Data: none (tmcd / 0x64636D74) (default)\n    Metadata:\n      creation_time   : 2020-02-28T12:52:07.000000Z\n      handler_name    : GoPro TCD  \n      timecode        : 13:24:53:03\n    Stream #0:3(eng): Data: bin_data (gpmd / 0x646D7067), 41 kb/s (default)\n    Metadata:\n      creation_time   : 2020-02-28T12:52:07.000000Z\n      handler_name    : GoPro MET  \n    Stream #0:4(eng): Data: none (fdsc / 0x63736466), 9 kb/s (default)\n    Metadata:\n      creation_time   : 2020-02-28T12:52:07.000000Z\n      handler_name    : GoPro SOS  \nUnsupported codec with id 0 for input stream 2\nUnsupported codec with id 100359 for input stream 3\nUnsupported codec with id 0 for input stream 4\n\nGPSFIX change to 3 [lock 3D (ok)]\n-- stats -----------------\n- Ok:                681\n- GPSFIX=0 (bad):      0 (skipped: 0)\n- Empty (No data):     0\nTotal points:        681\n--------------------------\n{'Time': datetime.datetime(2020, 2, 28, 11, 52, 8, tzinfo=SimpleTZ(\"Z\")), 'the_geom': <shapely.geometry.point.Point object at 0x11b7d9588>, 'Latitude': 43.6158573, 'Longitude': -1.4484915, 'Elevation': 52.701}\n4\n"
    }
   ],
   "source": [
    "import json\n",
    "with open('../data/prediction.json') as json_file:\n",
    "    jsonPred = json.load(json_file)\n",
    "gpxpath = extract_gpx_from_gopro('/tmp/28022020_Boudigau_4.MP4')\n",
    "gpxdata = parse_gpx(gpxpath)\n",
    "gpsPoints = gps_point_list(gpxdata)\n",
    "mediafps = get_media_fps('/tmp/28022020_Boudigau_4.MP4')\n",
    "prediction = jsonPred['detected_trash'][40]\n",
    "timeindex = get_trash_time_index(prediction)\n",
    "timestamp = get_trash_time_stamp(timeindex,mediafps)\n",
    "trash_gps = gpsPoints[timestamp]\n",
    "shape_trash_gps = long_lat_2_shape_point(trash_gps)\n",
    "geo_2154 = transform_geo(shape_trash_gps)\n",
    "geo_2154_trash_gps = {'Time': shape_trash_gps['Time'], 'the_geom': geo_2154,'Latitude':shape_trash_gps['Latitude'],'Longitude':shape_trash_gps['Longitude'], 'Elevation': shape_trash_gps['Elevation']}\n",
    "# get trash_type from ai module\n",
    "label = get_trash_label(prediction)\n",
    "trash_type = map_label_2_trash_id_PG(label)\n",
    "print(geo_2154_trash_gps)\n",
    "print(trash_type)"
   ]
  },
  {
   "cell_type": "code",
   "execution_count": 5,
   "metadata": {},
   "outputs": [
    {
     "name": "stdout",
     "output_type": "stream",
     "text": "Connection established\n"
    }
   ],
   "source": [
    "# Get connection string information from env variables\n",
    "pgConn_string = pg_connection_string()\n",
    "# Open pgConnection\n",
    "pgConnection = pg_open_connection(pgConn_string)\n",
    "# Create Cursor\n",
    "pgCursor = pgConnection.cursor()"
   ]
  },
  {
   "cell_type": "code",
   "execution_count": 6,
   "metadata": {},
   "outputs": [],
   "source": [
    "row_id = trash_insert(geo_2154_trash_gps,trash_type,pgCursor,pgConnection)"
   ]
  },
  {
   "cell_type": "code",
   "execution_count": 7,
   "metadata": {},
   "outputs": [
    {
     "data": {
      "text/plain": "'ba9ce862-8faa-43ce-b538-7aafb3de57d6'"
     },
     "execution_count": 7,
     "metadata": {},
     "output_type": "execute_result"
    }
   ],
   "source": [
    "row_id"
   ]
  },
  {
   "cell_type": "code",
   "execution_count": null,
   "metadata": {},
   "outputs": [],
   "source": []
  }
 ]
}