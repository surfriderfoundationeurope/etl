{
 "nbformat": 4,
 "nbformat_minor": 2,
 "metadata": {
  "language_info": {
   "name": "python",
   "codemirror_mode": {
    "name": "ipython",
    "version": 3
   },
   "version": "3.6.9-final"
  },
  "orig_nbformat": 2,
  "file_extension": ".py",
  "mimetype": "text/x-python",
  "name": "python",
  "npconvert_exporter": "python",
  "pygments_lexer": "ipython3",
  "version": 3,
  "kernelspec": {
   "name": "python36964bitsurfridercondaa4d29431e9f947419d6d850056118d13",
   "display_name": "Python 3.6.9 64-bit ('surfrider': conda)"
  }
 },
 "cells": [
  {
   "cell_type": "code",
   "execution_count": null,
   "metadata": {},
   "outputs": [],
   "source": [
    "import logging \n",
    "logging.basicConfig(level=logging.INFO)\n",
    "log = logging.getLogger(\"my-logger\")\n",
    "log.setLevel(logging.INFO)\n",
    "log.info(\"Hello World\")\n",
    "log.warning(\"this is a warning\")"
   ]
  },
  {
   "cell_type": "code",
   "execution_count": null,
   "metadata": {},
   "outputs": [],
   "source": [
    "# Test AIReady\n",
    "import logging\n",
    "logging.basicConfig(level=logging.INFO)\n",
    "\n",
    "aiurl = 'http://aiapiplastico-dev.westeurope.cloudapp.azure.com'\n",
    "isAIready = AIready(f'{aiurl}:5000')"
   ]
  },
  {
   "cell_type": "code",
   "execution_count": null,
   "metadata": {},
   "outputs": [],
   "source": [
    "# Test getPrediction\n",
    "blob_video_name = '28022020_Boudigau_4_short_480.mov'  \n",
    "aiurl = 'http://aiapiplastico-dev.westeurope.cloudapp.azure.com'\n",
    "prediction = getPrediction(blob_video_name,aiurl)"
   ]
  },
  {
   "cell_type": "code",
   "execution_count": null,
   "metadata": {},
   "outputs": [],
   "source": [
    "str(prediction)"
   ]
  },
  {
   "cell_type": "code",
   "execution_count": null,
   "metadata": {},
   "outputs": [],
   "source": [
    "# import prerequesite for blob\n",
    "from azure.storage.blob import ContainerClient\n",
    "from azure.storage.blob import BlobClient\n",
    "from modules.blob import blob_in_container,blob_infos,download_blob\n",
    "# import prerequesite for ai\n",
    "import json\n",
    "import requests\n",
    "import logging\n",
    "from modules.ai import is_ai_ready,get_prediction,json_prediction,get_trash_label,map_label_2_trash_id_PG,get_trash_time_index,get_trash_time_stamp\n",
    "# import prerequesite for gps\n",
    "import gpxpy\n",
    "import gpxpy.gpx\n",
    "import json\n",
    "import subprocess\n",
    "import datetime\n",
    "from datetime import datetime\n",
    "from datetime import timedelta\n",
    "from shapely.geometry import Point\n",
    "from functools import partial\n",
    "import pyproj\n",
    "from shapely.ops import transform\n",
    "from tqdm import tqdm\n",
    "from modules.gps import extract_gpx_from_gopro,parse_gpx,get_gps_point_list,create_time,create_latitude,create_longitude,create_elevation,fill_gps,long_lat_to_shape_point,transform_geo\n",
    "# import prerequesite from media\n",
    "from modules.media import get_media_duration,get_media_fps\n",
    "# import prerequesite for postgre\n",
    "import os\n",
    "import psycopg2\n",
    "from modules.postgre import get_pg_connection_string,open_pg_connection,close_pg_connection,insert_trash\n",
    "import warnings\n",
    "warnings.filterwarnings('ignore')\n",
    "# import argparse to pass parameters to main function\n",
    "import argparse"
   ]
  },
  {
   "cell_type": "code",
   "execution_count": null,
   "metadata": {},
   "outputs": [],
   "source": [
    "# Test jsonPrediction\n",
    "import json\n",
    "with open('../data/prediction.json') as json_file:\n",
    "    jsonPred = json.load(json_file)\n",
    "jsonPred"
   ]
  },
  {
   "cell_type": "code",
   "execution_count": null,
   "metadata": {},
   "outputs": [],
   "source": [
    "timeindex = get_trash_time_index(frametobox0)\n",
    "mediafps = get_media_fps('/tmp/28022020_Boudigau_4.MP4')\n",
    "timestamp = get_trash_time_stamp(timeindex,mediafps)\n",
    "print(timestamp)"
   ]
  },
  {
   "cell_type": "code",
   "execution_count": 12,
   "metadata": {},
   "outputs": [
    {
     "ename": "NameError",
     "evalue": "name 'video_name' is not defined",
     "output_type": "error",
     "traceback": [
      "\u001b[0;31m---------------------------------------------------------------------------\u001b[0m",
      "\u001b[0;31mNameError\u001b[0m                                 Traceback (most recent call last)",
      "\u001b[0;32m<ipython-input-12-746caede7b3a>\u001b[0m in \u001b[0;36m<module>\u001b[0;34m\u001b[0m\n\u001b[0;32m----> 1\u001b[0;31m \u001b[0mgpx_path\u001b[0m \u001b[0;34m=\u001b[0m \u001b[0mextract_gpx_from_gopro\u001b[0m\u001b[0;34m(\u001b[0m\u001b[0;34mf'/tmp/{video_name}'\u001b[0m\u001b[0;34m)\u001b[0m\u001b[0;34m\u001b[0m\u001b[0;34m\u001b[0m\u001b[0m\n\u001b[0m\u001b[1;32m      2\u001b[0m \u001b[0;31m# GPX parsing\u001b[0m\u001b[0;34m\u001b[0m\u001b[0;34m\u001b[0m\u001b[0;34m\u001b[0m\u001b[0m\n\u001b[1;32m      3\u001b[0m \u001b[0mgpx_data\u001b[0m \u001b[0;34m=\u001b[0m \u001b[0mparse_gpx\u001b[0m\u001b[0;34m(\u001b[0m\u001b[0mgpx_path\u001b[0m\u001b[0;34m)\u001b[0m\u001b[0;34m\u001b[0m\u001b[0;34m\u001b[0m\u001b[0m\n\u001b[1;32m      4\u001b[0m \u001b[0;34m\u001b[0m\u001b[0m\n\u001b[1;32m      5\u001b[0m \u001b[0;31m# GPS Points\u001b[0m\u001b[0;34m\u001b[0m\u001b[0;34m\u001b[0m\u001b[0;34m\u001b[0m\u001b[0m\n",
      "\u001b[0;31mNameError\u001b[0m: name 'video_name' is not defined"
     ]
    }
   ],
   "source": [
    "video_name = \n",
    "gpx_path = extract_gpx_from_gopro(f'/tmp/{video_name}')\n",
    "# GPX parsing\n",
    "gpx_data = parse_gpx(gpx_path)\n",
    "\n",
    "# GPS Points\n",
    "gps_points = get_gps_point_list(gpx_data)\n",
    "\n",
    "# Video duration\n",
    "logger.info(\"\\n\")\n",
    "video_duration = get_media_duration(f'/tmp/{video_name}')\n",
    "logger.info(f'Video duration in second from metadata:{video_duration}')\n",
    "media_fps = get_media_fps(f'/tmp/{video_name}')\n",
    "\n",
    "# GPS file duration\n",
    "timestampDelta = gps_points[len(gps_points)-1]['Time'] - gps_points[0]['Time']\n",
    "logger.info(f'GPS file time coverage in second:{timestampDelta.seconds}')\n",
    "\n",
    "logger.info('###################### Pipeline Step2 ######################')\n",
    "logger.info('################## Add missing GPS points ##################')\n",
    "video_duration_sup = int(video_duration)+1\n",
    "gps_points_filled = fill_gps(gps_points,video_duration_sup)"
   ]
  },
  {
   "cell_type": "code",
   "execution_count": 8,
   "metadata": {},
   "outputs": [
    {
     "name": "stderr",
     "output_type": "stream",
     "text": "0%|          | 0/57 [00:00<?, ?it/s]Connection established\n\n"
    },
    {
     "ename": "NameError",
     "evalue": "name 'gps_points_filled' is not defined",
     "output_type": "error",
     "traceback": [
      "\u001b[0;31m---------------------------------------------------------------------------\u001b[0m",
      "\u001b[0;31mNameError\u001b[0m                                 Traceback (most recent call last)",
      "\u001b[0;32m<ipython-input-8-c79ec11a8b52>\u001b[0m in \u001b[0;36m<module>\u001b[0;34m\u001b[0m\n\u001b[1;32m     14\u001b[0m     \u001b[0mtimeindex\u001b[0m \u001b[0;34m=\u001b[0m \u001b[0mget_trash_time_index\u001b[0m\u001b[0;34m(\u001b[0m\u001b[0mprediction\u001b[0m\u001b[0;34m)\u001b[0m\u001b[0;34m\u001b[0m\u001b[0;34m\u001b[0m\u001b[0m\n\u001b[1;32m     15\u001b[0m     \u001b[0mtimestamp\u001b[0m \u001b[0;34m=\u001b[0m \u001b[0mget_trash_time_stamp\u001b[0m\u001b[0;34m(\u001b[0m\u001b[0mtimeindex\u001b[0m\u001b[0;34m,\u001b[0m\u001b[0mmedia_fps\u001b[0m\u001b[0;34m)\u001b[0m\u001b[0;34m\u001b[0m\u001b[0;34m\u001b[0m\u001b[0m\n\u001b[0;32m---> 16\u001b[0;31m     \u001b[0mtrash_gps\u001b[0m \u001b[0;34m=\u001b[0m \u001b[0mgps_points_filled\u001b[0m\u001b[0;34m[\u001b[0m\u001b[0mtimestamp\u001b[0m\u001b[0;34m]\u001b[0m\u001b[0;34m\u001b[0m\u001b[0;34m\u001b[0m\u001b[0m\n\u001b[0m\u001b[1;32m     17\u001b[0m     \u001b[0mshape_trash_gps\u001b[0m \u001b[0;34m=\u001b[0m \u001b[0mlong_lat_2_shape_point\u001b[0m\u001b[0;34m(\u001b[0m\u001b[0mtrash_gps\u001b[0m\u001b[0;34m)\u001b[0m\u001b[0;34m\u001b[0m\u001b[0;34m\u001b[0m\u001b[0m\n\u001b[1;32m     18\u001b[0m     \u001b[0mgeo_2154\u001b[0m \u001b[0;34m=\u001b[0m \u001b[0mtransform_geo\u001b[0m\u001b[0;34m(\u001b[0m\u001b[0mshape_trash_gps\u001b[0m\u001b[0;34m)\u001b[0m\u001b[0;34m\u001b[0m\u001b[0;34m\u001b[0m\u001b[0m\n",
      "\u001b[0;31mNameError\u001b[0m: name 'gps_points_filled' is not defined"
     ]
    }
   ],
   "source": [
    "media_fps = get_media_fps('/tmp/28022020_Boudigau_4.MP4')\n",
    "# Get connection string information from env variables\n",
    "pg_conn_string = get_pg_connection_string()\n",
    "# Open pgConnection\n",
    "pg_connection = open_pg_connection(pg_conn_string)\n",
    "# Create Cursor\n",
    "pg_cursor = pg_connection.cursor()\n",
    "\n",
    "import logging\n",
    "logger = logging.getLogger()\n",
    "\n",
    "row_id_list = []\n",
    "for prediction in tqdm(jsonPred['detected_trash']):\n",
    "    timeindex = get_trash_time_index(prediction)\n",
    "    timestamp = get_trash_time_stamp(timeindex,media_fps)\n",
    "    trash_gps = gps_points_filled[timestamp]\n",
    "    shape_trash_gps = long_lat_2_shape_point(trash_gps)\n",
    "    geo_2154 = transform_geo(shape_trash_gps)\n",
    "    geo_2154_trash_gps = {'Time': shape_trash_gps['Time'], 'the_geom': geo_2154,'Latitude':shape_trash_gps['Latitude'],'Longitude':shape_trash_gps['Longitude'], 'Elevation': shape_trash_gps['Elevation']}\n",
    "    # get trash_type from ai module\n",
    "    label = get_trash_label(prediction)\n",
    "    trash_type = map_label_2_trash_id_PG(label)\n",
    "    # insert trash from postgre module\n",
    "    row_id = insert_trash(geo_2154_trash_gps,trash_type,pg_cursor,pg_connection)\n",
    "    row_id_list.append(row_id)"
   ]
  },
  {
   "cell_type": "code",
   "execution_count": 6,
   "metadata": {},
   "outputs": [
    {
     "name": "stdout",
     "output_type": "stream",
     "text": "env: PGSERVER=pgdb-plastico-dev.postgres.database.azure.com\nenv: PGDATABASE=plastico-dev\nenv: PGUSERNAME=writer_user@pgdb-plastico-dev\nenv: PGPWD=SurfWriter!\n"
    }
   ],
   "source": [
    "%env PGSERVER=pgdb-plastico-dev.postgres.database.azure.com\n",
    "%env PGDATABASE=plastico-dev\n",
    "%env PGUSERNAME=writer_user@pgdb-plastico-dev\n",
    "%env PGPWD=SurfWriter!"
   ]
  },
  {
   "cell_type": "code",
   "execution_count": null,
   "metadata": {},
   "outputs": [],
   "source": [
    "# Import AI + Postgre modules\n",
    "from modules.ai import ai_ready,get_prediction,get_trash_label,get_trash_time_index,get_trash_time_stamp,get_trash_label,map_label_2_trash_id_PG\n",
    "from modules.media import get_media_fps\n",
    "from modules.gps import extract_gpx_from_gopro,gps_point_list,parse_gpx,long_lat_2_shape_point,transform_geo\n",
    "from modules.postgre import trash_gps,get_pg_connection_string,open_pg_connection,close_pg_connection,trash_insert\n",
    "from tqdm import tqdm"
   ]
  },
  {
   "cell_type": "code",
   "execution_count": null,
   "metadata": {},
   "outputs": [],
   "source": [
    "pg_c_s = get_pg_connection_string()\n",
    "pg_c = open_pg_connection(pg_c_s)"
   ]
  },
  {
   "cell_type": "code",
   "execution_count": null,
   "metadata": {},
   "outputs": [],
   "source": [
    "type(pg_c)"
   ]
  },
  {
   "cell_type": "code",
   "execution_count": null,
   "metadata": {},
   "outputs": [],
   "source": [
    "test = close_pg_connection(pg_c)"
   ]
  },
  {
   "cell_type": "code",
   "execution_count": null,
   "metadata": {},
   "outputs": [],
   "source": [
    "import json\n",
    "with open('../data/prediction.json') as json_file:\n",
    "    jsonPred = json.load(json_file)\n",
    "gpxpath = extract_gpx_from_gopro('/tmp/28022020_Boudigau_4.MP4')\n",
    "gpxdata = parse_gpx(gpxpath)\n",
    "gpsPoints = gps_point_list(gpxdata)\n",
    "mediafps = get_media_fps('/tmp/28022020_Boudigau_4.MP4')\n",
    "prediction = jsonPred['detected_trash'][40]\n",
    "timeindex = get_trash_time_index(prediction)\n",
    "timestamp = get_trash_time_stamp(timeindex,mediafps)\n",
    "trash_gps = gpsPoints[timestamp]\n",
    "shape_trash_gps = long_lat_2_shape_point(trash_gps)\n",
    "geo_2154 = transform_geo(shape_trash_gps)\n",
    "geo_2154_trash_gps = {'Time': shape_trash_gps['Time'], 'the_geom': geo_2154,'Latitude':shape_trash_gps['Latitude'],'Longitude':shape_trash_gps['Longitude'], 'Elevation': shape_trash_gps['Elevation']}\n",
    "# get trash_type from ai module\n",
    "label = get_trash_label(prediction)\n",
    "trash_type = map_label_2_trash_id_PG(label)\n",
    "print(geo_2154_trash_gps)\n",
    "print(trash_type)"
   ]
  },
  {
   "cell_type": "code",
   "execution_count": null,
   "metadata": {},
   "outputs": [],
   "source": [
    "gpxdata.tracks"
   ]
  },
  {
   "cell_type": "code",
   "execution_count": null,
   "metadata": {},
   "outputs": [],
   "source": [
    "# Get connection string information from env variables\n",
    "pgConn_string = pg_connection_string()\n",
    "# Open pgConnection\n",
    "pgConnection = pg_open_connection(pgConn_string)\n",
    "# Create Cursor\n",
    "pgCursor = pgConnection.cursor()"
   ]
  },
  {
   "cell_type": "code",
   "execution_count": null,
   "metadata": {},
   "outputs": [],
   "source": [
    "row_id = trash_insert(geo_2154_trash_gps,trash_type,pgCursor,pgConnection)"
   ]
  },
  {
   "cell_type": "code",
   "execution_count": null,
   "metadata": {},
   "outputs": [],
   "source": [
    "row_id"
   ]
  }
 ]
}