{
 "nbformat": 4,
 "nbformat_minor": 2,
 "metadata": {
  "language_info": {
   "name": "python",
   "codemirror_mode": {
    "name": "ipython",
    "version": 3
   },
   "version": "3.6.9-final"
  },
  "orig_nbformat": 2,
  "file_extension": ".py",
  "mimetype": "text/x-python",
  "name": "python",
  "npconvert_exporter": "python",
  "pygments_lexer": "ipython3",
  "version": 3,
  "kernelspec": {
   "name": "python36964bitsurfridercondaa4d29431e9f947419d6d850056118d13",
   "display_name": "Python 3.6.9 64-bit ('surfrider': conda)"
  }
 },
 "cells": [
  {
   "cell_type": "code",
   "execution_count": null,
   "metadata": {},
   "outputs": [],
   "source": [
    "# import prerequesite for blob_ops\n",
    "from azure.storage.blob import ContainerClient\n",
    "from azure.storage.blob import BlobClient\n",
    "from blob import blobInContainer,blobInfos,downloadBlob\n",
    "# import prerequesite for ai_ops\n",
    "import json\n",
    "import requests\n",
    "import logging\n",
    "from ai import AIready,getPrediction,jsonPrediction,getTrashLabel,mapLabel2TrashIdPG\n",
    "# import prerequesite for media_ops\n",
    "from media import get_media_duration\n",
    "# import prerequesite for gps_ops\n",
    "import gpxpy\n",
    "import gpxpy.gpx\n",
    "import json\n",
    "import subprocess\n",
    "import datetime\n",
    "from datetime import datetime\n",
    "from datetime import timedelta\n",
    "from shapely.geometry import Point\n",
    "from functools import partial\n",
    "import pyproj\n",
    "from shapely.ops import transform\n",
    "from tqdm import tqdm\n",
    "from gps import goproToGPX,gpsPointList,getMediaInfo,getDuration,createTime,createLatitude,createLongitude,createElevation,fillGPS,longLat2shapePoint,longLat2shapeList,geometryTransfo,gps2154,extract_gpx_from_gopro\n",
    "# import prerequesite for postgre_ops\n",
    "import os\n",
    "import psycopg2\n",
    "from postgre import pgConnectionString,pgOpenConnection,pgCloseConnection,trashGPS,trashInsert\n",
    "import warnings\n",
    "warnings.filterwarnings('ignore')\n",
    "# import argparse to pass parameters to main function\n",
    "import argparse"
   ]
  },
  {
   "cell_type": "code",
   "execution_count": null,
   "metadata": {},
   "outputs": [],
   "source": [
    "import logging \n",
    "logging.basicConfig(level=logging.INFO)\n",
    "log = logging.getLogger(\"my-logger\")\n",
    "log.setLevel(logging.INFO)\n",
    "log.info(\"Hello World\")\n",
    "log.warning(\"this is a warning\")"
   ]
  },
  {
   "cell_type": "code",
   "execution_count": null,
   "metadata": {},
   "outputs": [],
   "source": [
    "# Test AIReady\n",
    "import logging\n",
    "logging.basicConfig(level=logging.INFO)\n",
    "\n",
    "aiurl = 'http://aiapiplastico-dev.westeurope.cloudapp.azure.com'\n",
    "isAIready = AIready(f'{aiurl}:5000')"
   ]
  },
  {
   "cell_type": "code",
   "execution_count": null,
   "metadata": {},
   "outputs": [],
   "source": [
    "# Test getPrediction\n",
    "blob_video_name = 'goproshort-480p.mov'  \n",
    "aiurl = 'http://aiapiplastico-dev.westeurope.cloudapp.azure.com'\n",
    "prediction = getPrediction(blob_video_name,aiurl)"
   ]
  },
  {
   "cell_type": "code",
   "execution_count": null,
   "metadata": {},
   "outputs": [],
   "source": [
    "# Test jsonPrediction\n",
    "jsonPred1 = jsonPrediction(prediction)\n",
    "with open('../data/prediction.json') as json_file:\n",
    "    jsonPred2 = json.load(json_file)\n",
    "jsonPred2"
   ]
  },
  {
   "cell_type": "code",
   "execution_count": null,
   "metadata": {},
   "outputs": [],
   "source": [
    "# Test get_media_duration\n",
    "duration = get_media_duration('/tmp/goproshort-480p.mov')\n",
    "duration"
   ]
  },
  {
   "cell_type": "code",
   "execution_count": null,
   "metadata": {},
   "outputs": [],
   "source": [
    "# Test gopro2gpx\n",
    "gpx_path = extract_gpx_from_gopro('/tmp/28022020_Boudigau_4.MP4')"
   ]
  }
 ]
}